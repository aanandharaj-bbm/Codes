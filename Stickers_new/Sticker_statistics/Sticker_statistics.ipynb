{
 "cells": [
  {
   "cell_type": "code",
   "execution_count": 1,
   "metadata": {},
   "outputs": [],
   "source": [
    "from pyspark import SparkConf, SparkContext\n",
    "from pyspark.sql.functions import *\n",
    "sc.stop()\n",
    "from pyspark.sql import SQLContext\n",
    "sc =SparkContext()\n",
    "sqlContext = SQLContext(sc)\n",
    "import pyspark.sql.functions as func\n",
    "import sys\n",
    "from pyspark.sql.functions import countDistinct"
   ]
  },
  {
   "cell_type": "code",
   "execution_count": 2,
   "metadata": {},
   "outputs": [],
   "source": [
    "#other imports\n",
    "from pyspark.mllib.linalg import Vectors\n",
    "from pyspark.ml.feature import VectorAssembler"
   ]
  },
  {
   "cell_type": "code",
   "execution_count": 3,
   "metadata": {},
   "outputs": [],
   "source": [
    "#reading in sticker type data\n",
    "feature_data = sqlContext.read.parquet(\"gs://ds-url-catag/stick_statistics/derived_features/\")"
   ]
  },
  {
   "cell_type": "code",
   "execution_count": 32,
   "metadata": {},
   "outputs": [
    {
     "data": {
      "text/plain": [
       "['user_id_n',\n",
       " 'numofdays',\n",
       " 'avg_con_days',\n",
       " 'sticker_packs_sent',\n",
       " 'distinct_sticker_packs_sent',\n",
       " 'sum_paid',\n",
       " 'sum_free',\n",
       " 'sum_subs',\n",
       " 'sum_discont']"
      ]
     },
     "execution_count": 32,
     "metadata": {},
     "output_type": "execute_result"
    }
   ],
   "source": [
    "feature_data.columns"
   ]
  },
  {
   "cell_type": "code",
   "execution_count": 35,
   "metadata": {},
   "outputs": [],
   "source": [
    "#basic statistics of each of the data\n",
    "# feature_data.describe('sticker_packs_sent').show()"
   ]
  },
  {
   "cell_type": "code",
   "execution_count": 4,
   "metadata": {},
   "outputs": [],
   "source": [
    "#convert to a vector column\n",
    "from pyspark.mllib.linalg import Vectors\n",
    "\n",
    "assembler = VectorAssembler(\n",
    "    inputCols=[\"numofdays\", \"avg_con_days\",\"sticker_packs_sent\",\"distinct_sticker_packs_sent\",\"sum_paid\",\"sum_free\",\"sum_subs\",\"sum_discont\"],\n",
    "    outputCol=\"features\")\n",
    "output = assembler.transform(feature_data)\n",
    "# output.select(\"features\").show()\n"
   ]
  },
  {
   "cell_type": "code",
   "execution_count": 5,
   "metadata": {},
   "outputs": [],
   "source": [
    "#normalize the features\n",
    "from pyspark.mllib.util import MLUtils\n",
    "from pyspark.ml.feature import Normalizer\n",
    "\n",
    "# Normalize each Vector using $L^1$ norm.\n",
    "normalizer = Normalizer(inputCol=\"features\", outputCol=\"normFeatures\", p=1000000.0)\n",
    "l1NormData = normalizer.transform(output)\n"
   ]
  },
  {
   "cell_type": "code",
   "execution_count": 6,
   "metadata": {},
   "outputs": [],
   "source": [
    "dataset = l1NormData.select('normFeatures')\n",
    "dataset = dataset.withColumn('features',col('normFeatures'))\n",
    "dataset = dataset.select('features')"
   ]
  },
  {
   "cell_type": "code",
   "execution_count": 7,
   "metadata": {},
   "outputs": [
    {
     "name": "stdout",
     "output_type": "stream",
     "text": [
      "+-------------------------------------------------------------------------------------------+\n",
      "|features                                                                                   |\n",
      "+-------------------------------------------------------------------------------------------+\n",
      "|[0.0,0.0,0.0,0.0,0.0,0.0,0.0,0.0]                                                          |\n",
      "|[0.0,0.0,0.0,0.0,0.0,0.0,0.0,0.0]                                                          |\n",
      "|(8,[0,2,3,7],[0.0,0.0,0.0,0.0])                                                            |\n",
      "|(8,[0,2,3,5],[0.0,0.0,0.0,0.0])                                                            |\n",
      "|(8,[0,2,3,5],[0.0,0.0,0.0,0.0])                                                            |\n",
      "|[0.0,0.0,0.0,0.0,0.0,0.0,0.0,0.0]                                                          |\n",
      "|[0.0,0.0,0.0,0.0,0.0,0.0,0.0,0.0]                                                          |\n",
      "|[0.0,0.0,0.0,0.0,0.0,0.0,0.0,0.0]                                                          |\n",
      "|[0.0,0.0,0.0,0.0,0.0,0.0,0.0,0.0]                                                          |\n",
      "|(8,[0,2,3,5],[0.9999986137065997,0.9999986137065997,0.9999986137065997,0.9999986137065997])|\n",
      "+-------------------------------------------------------------------------------------------+\n",
      "only showing top 10 rows\n",
      "\n"
     ]
    }
   ],
   "source": [
    "dataset.select('features').show(10,False)"
   ]
  },
  {
   "cell_type": "code",
   "execution_count": 19,
   "metadata": {},
   "outputs": [],
   "source": [
    "#clustering\n",
    "from pyspark.ml.clustering import KMeans\n",
    "kmeans = KMeans().setK(10).setSeed(1)\n",
    "model = kmeans.fit(dataset)"
   ]
  },
  {
   "cell_type": "code",
   "execution_count": 20,
   "metadata": {},
   "outputs": [
    {
     "name": "stdout",
     "output_type": "stream",
     "text": [
      "Within Set Sum of Squared Errors = 3.9999832864\n"
     ]
    }
   ],
   "source": [
    "#compute wssse error for those constructed model\n",
    "wssse = model.computeCost(dataset)\n",
    "print(\"Within Set Sum of Squared Errors = \" + str(wssse))"
   ]
  },
  {
   "cell_type": "code",
   "execution_count": 13,
   "metadata": {},
   "outputs": [
    {
     "name": "stdout",
     "output_type": "stream",
     "text": [
      "Cluster Centers: \n",
      "[ 0.  0.  0.  0.  0.  0.  0.  0.]\n",
      "[  9.99998614e-01   0.00000000e+00   9.99998614e-01   9.99998614e-01\n",
      "   0.00000000e+00   9.99997208e-01   1.40581532e-06   0.00000000e+00]\n",
      "[ 0.99999861  0.          0.99999861  0.99999861  0.          0.          0.\n",
      "  0.99999861]\n",
      "[ 0.99999861  0.          0.99999861  0.99999861  0.99999861  0.          0.\n",
      "  0.        ]\n"
     ]
    }
   ],
   "source": [
    "# Shows the result.\n",
    "centers = model.clusterCenters()\n",
    "print(\"Cluster Centers: \")\n",
    "for center in centers:\n",
    "    print(center)\n",
    "# $example off$"
   ]
  },
  {
   "cell_type": "code",
   "execution_count": 14,
   "metadata": {},
   "outputs": [],
   "source": [
    "transformed = model.transform(dataset)"
   ]
  },
  {
   "cell_type": "code",
   "execution_count": 15,
   "metadata": {},
   "outputs": [
    {
     "data": {
      "text/plain": [
       "['features', 'prediction']"
      ]
     },
     "execution_count": 15,
     "metadata": {},
     "output_type": "execute_result"
    }
   ],
   "source": [
    "transformed.columns"
   ]
  },
  {
   "cell_type": "code",
   "execution_count": 16,
   "metadata": {},
   "outputs": [
    {
     "name": "stdout",
     "output_type": "stream",
     "text": [
      "+----------+-------+\n",
      "|prediction|  count|\n",
      "+----------+-------+\n",
      "|         1|1422660|\n",
      "|         3|   1597|\n",
      "|         2|  14885|\n",
      "|         0|6055898|\n",
      "+----------+-------+\n",
      "\n"
     ]
    }
   ],
   "source": [
    "transformed.groupby('prediction').count().show(100)"
   ]
  },
  {
   "cell_type": "code",
   "execution_count": null,
   "metadata": {},
   "outputs": [],
   "source": []
  }
 ],
 "metadata": {
  "kernelspec": {
   "display_name": "PySpark",
   "language": "python",
   "name": "python2"
  },
  "language_info": {
   "codemirror_mode": {
    "name": "ipython",
    "version": 2
   },
   "file_extension": ".py",
   "mimetype": "text/x-python",
   "name": "python",
   "nbconvert_exporter": "python",
   "pygments_lexer": "ipython2",
   "version": "2.7.9"
  }
 },
 "nbformat": 4,
 "nbformat_minor": 2
}

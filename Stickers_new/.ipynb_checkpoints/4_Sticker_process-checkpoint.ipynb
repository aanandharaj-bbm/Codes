{
 "cells": [
  {
   "cell_type": "code",
   "execution_count": 1,
   "metadata": {},
   "outputs": [],
   "source": [
    "from pyspark.sql.functions import countDistinct\n",
    "from pyspark import SparkConf, SparkContext\n",
    "from pyspark.sql.functions import *\n",
    "from pyspark.sql import SQLContext\n",
    "import json"
   ]
  },
  {
   "cell_type": "code",
   "execution_count": 3,
   "metadata": {},
   "outputs": [],
   "source": [
    "#read the re-partitioned file \n",
    "read_sendsticker = spark.read.parquet(\"gs://ds-url-catag/plenty_stickers_data/repartioned_data/*/*/*/*.parquet\")\n",
    "#dropduplicates\n",
    "read_sendsticker = read_sendsticker.dropDuplicates()"
   ]
  },
  {
   "cell_type": "code",
   "execution_count": 9,
   "metadata": {},
   "outputs": [],
   "source": [
    "#function to split a single column to multiple columns\n",
    "def extract_json(line, schema_names):\n",
    "    result = [x for i,x in enumerate(line) if i!=4]\n",
    "    properties = json.loads(line[4])\n",
    "    flattened = []     \n",
    "    for key in schema_names:\n",
    "        if key in properties:\n",
    "            if type(properties[key]) == unicode :\n",
    "                flattened.append(properties[key].encode('utf-8'))\n",
    "            else:\n",
    "                flattened.append(str(properties[key]))\n",
    "                \n",
    "        else:\n",
    "            flattened.append(\"NULL\")\n",
    "    result = list(result) + flattened\n",
    "    return result"
   ]
  },
  {
   "cell_type": "code",
   "execution_count": 10,
   "metadata": {},
   "outputs": [],
   "source": [
    "json_schema_send = spark.read.json(read_sendsticker.rdd.map(lambda row: row.properties)).schema"
   ]
  },
  {
   "cell_type": "code",
   "execution_count": 11,
   "metadata": {},
   "outputs": [],
   "source": [
    "#creating the new columns for the file \n",
    "old_column_names_send = read_sendsticker.drop('properties').columns\n",
    "new_items_send = ['user_id_n' if x == 'user_id' else 'app_version_n' if  x == 'app_version' else 'city_n' if  x == 'city' else 'connection_n' if  x == 'connection' else 'country_n' if  x == 'country' else 'device_brand_n' if  x == 'device_brand' else 'device_model_n' if  x == 'device_model' else 'has_nfc_n' if  x == 'has_nfc' else 'height_resolution_n' if  x == 'height_resolution' else 'new_user_n' if  x == 'new_user' else 'new_user_n_1' if  x == 'new_User' else 'os_version_n' if  x == 'os_version' else 'width_resolution_n' if  x == 'width_resolution' else x for x in json_schema_send.names]\n",
    "fin_col_names_send = old_column_names_send + new_items_send\n",
    "df = read_sendsticker.rdd.map(lambda x: extract_json(x, json_schema_send.names)).toDF(fin_col_names_send)\n"
   ]
  },
  {
   "cell_type": "code",
   "execution_count": 13,
   "metadata": {},
   "outputs": [],
   "source": [
    "#deriving new columns\n",
    "df = df.drop('user_id')\n",
    "df = df.withColumn('City',when(df.City == 'NULL' ,df.city_n).otherwise(df.City))\n",
    "df = df.drop('city_n')\n",
    "df = df.withColumn('App_Version',when(df.App_Version == 'NULL' ,df.app_version_n).otherwise(df.App_Version))\n",
    "df = df.drop('app_version_n')\n",
    "df = df.withColumn('Connection',when(df.Connection == 'NULL' ,df.connection_n).otherwise(df.Connection))\n",
    "df = df.drop('connection_n')\n",
    "df = df.withColumn('Country',when(df.Country == 'NULL' ,df.country_n).otherwise(df.Country))\n",
    "df = df.drop('country_n')\n",
    "df = df.withColumn('Device_Brand',when(df.Device_Brand == 'NULL' ,df.device_brand_n).otherwise(df.Device_Brand))\n",
    "df = df.drop('device_brand_n')\n",
    "df = df.withColumn('Device_Model',when(df.Device_Model == 'NULL' ,df.device_model_n).otherwise(df.Device_Model))\n",
    "df = df.drop('device_model_n')\n",
    "df = df.withColumn('Has_NFC',when(df.Has_NFC == 'NULL' ,df.has_nfc_n).otherwise(df.Has_NFC))\n",
    "df = df.drop('has_nfc_n')\n",
    "df = df.withColumn('Height_Resolution',when(df.Height_Resolution == 'NULL' ,df.height_resolution_n).otherwise(df.Height_Resolution))\n",
    "df = df.drop('height_resolution_n')\n",
    "df = df.withColumn('New_User',when(df.New_User == 'NULL' ,df.new_user_n).otherwise(df.New_User))\n",
    "df = df.withColumn('New_User',when(df.New_User == 'NULL' ,df.new_user_n_1).otherwise(df.New_User))\n",
    "df = df.drop('new_user_n_1')\n",
    "df = df.drop('new_user_n')\n",
    "df = df.withColumn('OS_Version',when(df.OS_Version == 'NULL' ,df.os_version_n).otherwise(df.OS_Version))\n",
    "df = df.drop('os_version_n')\n",
    "df = df.withColumn('Width_Resolution',when(df.Width_Resolution == 'NULL' ,df.width_resolution_n).otherwise(df.Width_Resolution))\n",
    "df = df.drop('width_resolution_n')\n"
   ]
  },
  {
   "cell_type": "code",
   "execution_count": 15,
   "metadata": {},
   "outputs": [],
   "source": [
    "#write to new files after processing \n",
    "df.select('id',\n",
    " 'visit_id',\n",
    " 'name',\n",
    " 'time',\n",
    " 'App_Version',\n",
    " 'City',\n",
    " 'Connection',\n",
    " 'Country',\n",
    " 'Device_Brand',\n",
    " 'Device_Model',\n",
    " 'Has_NFC',\n",
    " 'Height_Resolution',\n",
    " 'New_User',\n",
    " 'OS_Version',\n",
    " 'Width_Resolution',\n",
    " 'action',\n",
    " 'app_name',\n",
    " 'c_pin',\n",
    " 'carrier',\n",
    " 'eco_id',\n",
    " 'event_action',\n",
    " 'lat',\n",
    " 'license_type',\n",
    " 'long',\n",
    " 'platform',\n",
    " 'sticker_id',\n",
    " 'sticker_pack_id',\n",
    " 'test_environment',\n",
    " 'u_pin',\n",
    " 'user_id_n').dropDuplicates().coalesce(32).write.mode('overwrite').parquet(\"gs://ds-url-catag/plenty_stickers_data/aggregate_data/\")"
   ]
  }
 ],
 "metadata": {
  "kernelspec": {
   "display_name": "PySpark",
   "language": "python",
   "name": "python2"
  },
  "language_info": {
   "codemirror_mode": {
    "name": "ipython",
    "version": 2
   },
   "file_extension": ".py",
   "mimetype": "text/x-python",
   "name": "python",
   "nbconvert_exporter": "python",
   "pygments_lexer": "ipython2",
   "version": "2.7.9"
  }
 },
 "nbformat": 4,
 "nbformat_minor": 2
}

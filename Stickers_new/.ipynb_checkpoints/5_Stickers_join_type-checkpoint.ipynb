{
 "cells": [
  {
   "cell_type": "code",
   "execution_count": 1,
   "metadata": {},
   "outputs": [],
   "source": [
    "from pyspark.sql.functions import countDistinct\n",
    "from pyspark import SparkConf, SparkContext\n",
    "from pyspark.sql.functions import *\n",
    "from pyspark.sql import SQLContext\n",
    "import json"
   ]
  },
  {
   "cell_type": "code",
   "execution_count": 20,
   "metadata": {},
   "outputs": [],
   "source": [
    "#reading in data again to get the demographics \n",
    "df_new = spark.read.parquet(\"gs://ds-sean-scrapy/dataflow-analisis-production/plenty/events/product=bbm/product=bbm/aggregated/new/transposed/BBM-STICKER-SEND/\")\n",
    "df_demo = spark.read.parquet(\"gs://ds-user-demographic/parquet/tastes_mau_1024.parquet\")"
   ]
  },
  {
   "cell_type": "code",
   "execution_count": 5,
   "metadata": {},
   "outputs": [],
   "source": [
    "#join to derive features\n",
    "from pyspark.sql.functions import col\n",
    "active_base  = df_new.alias('a').join(df_demo.alias('b'),col('b.regid') == col('a.user_id_n')).select([col('time'),col('City'),col('Connection'),col('Country'),col('Device_Brand'),col('Device_Model'),col('New_User'),col('OS_Version'),col('app_name'),col('carrier'),col('license_type'),col('a.platform'),col('sticker_id'),col('sticker_pack_id'),col('user_id_n')]+[col('language'),col('age_group'),col('gender')])"
   ]
  },
  {
   "cell_type": "code",
   "execution_count": 4,
   "metadata": {},
   "outputs": [],
   "source": [
    "#stickertypeprocess\n",
    "\n",
    "df_free = sc.textFile(\"gs://ds-url-catag/Stickers/sticker_data_tempfiles/Sticker_free.csv\") \\\n",
    "    .map(lambda line: line.split(\";\")).toDF(['Sticker_id', 'sticker_name', 'license_type'])\n",
    "    \n",
    "df_paid = sc.textFile(\"gs://ds-url-catag/Stickers/sticker_data_tempfiles/Stickers_paid.csv\") \\\n",
    "    .map(lambda line: line.split(\";\")).toDF(['Sticker_id', 'sticker_name', 'license_type'])\n",
    "    \n",
    "df_new = df_free.union(df_paid)"
   ]
  },
  {
   "cell_type": "code",
   "execution_count": 6,
   "metadata": {},
   "outputs": [
    {
     "name": "stdout",
     "output_type": "stream",
     "text": [
      "+------------------+--------------------+------------+\n",
      "|        Sticker_id|        sticker_name|license_type|\n",
      "+------------------+--------------------+------------+\n",
      "|candyshoppingspree|Candy Shopping Spree|        FREE|\n",
      "|       draculaalay|        Dracula Alay|        FREE|\n",
      "|           ceblong|             Ceblong|        FREE|\n",
      "|sinetronanakmasjid|Sinetron Anak Masjid|        FREE|\n",
      "|     sinetrontuhan|Sinetron Tuhan Ad...|        FREE|\n",
      "|       sinetrondia|        Sinetron Dia|        FREE|\n",
      "|         roundmons|           Roundmons|        FREE|\n",
      "|       beardieboys|    The Beardie Boys|        FREE|\n",
      "|        slangwords|         SLANG WORDS|        FREE|\n",
      "|      bbmhalloween|           Halloween|        FREE|\n",
      "|          icecream|           Ice Cream|        FREE|\n",
      "|           pumpkin|             Pumpkin|        FREE|\n",
      "| halloweenstickers|           Halloween|        FREE|\n",
      "|      lagilagigila|      Lagi Lagi Gila|        FREE|\n",
      "|     letsgetmoving|    Let's Get Moving|        FREE|\n",
      "|   itstartswithyou|  It Starts With You|        FREE|\n",
      "|      bbmhappiness|BBM Happy Collection|        FREE|\n",
      "|    otherwaystosay|   Other Ways to Say|        FREE|\n",
      "|          mimigirl|          Mimi Girl |        FREE|\n",
      "|       giboltimnas|    Gibol Timnas Day|        FREE|\n",
      "+------------------+--------------------+------------+\n",
      "only showing top 20 rows\n",
      "\n"
     ]
    }
   ],
   "source": [
    "df_new.show()"
   ]
  },
  {
   "cell_type": "code",
   "execution_count": 7,
   "metadata": {},
   "outputs": [],
   "source": [
    "check = spark.read.parquet(\"gs://ds-url-catag/Stickers/stick_bytype/agg_proc_stickertypes/\")"
   ]
  },
  {
   "cell_type": "code",
   "execution_count": null,
   "metadata": {},
   "outputs": [],
   "source": [
    "check.show(5000)"
   ]
  },
  {
   "cell_type": "code",
   "execution_count": 14,
   "metadata": {},
   "outputs": [],
   "source": [
    "# tets_base = active_base.alias('a').join(df_new,df_new.Sticker_id == active_base.sticker_pack_id ).select([active_base.sticker_pack_id ])"
   ]
  }
 ],
 "metadata": {
  "kernelspec": {
   "display_name": "PySpark",
   "language": "python",
   "name": "python2"
  },
  "language_info": {
   "codemirror_mode": {
    "name": "ipython",
    "version": 2
   },
   "file_extension": ".py",
   "mimetype": "text/x-python",
   "name": "python",
   "nbconvert_exporter": "python",
   "pygments_lexer": "ipython2",
   "version": "2.7.9"
  }
 },
 "nbformat": 4,
 "nbformat_minor": 2
}

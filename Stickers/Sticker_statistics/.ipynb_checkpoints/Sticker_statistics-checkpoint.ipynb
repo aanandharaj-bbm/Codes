{
 "cells": [
  {
   "cell_type": "code",
   "execution_count": 30,
   "metadata": {},
   "outputs": [],
   "source": [
    "from pyspark import SparkConf, SparkContext\n",
    "from pyspark.sql.functions import *\n",
    "sc.stop()\n",
    "from pyspark.sql import SQLContext\n",
    "sc =SparkContext()\n",
    "sqlContext = SQLContext(sc)\n",
    "import pyspark.sql.functions as func\n",
    "import sys\n",
    "from pyspark.sql.functions import countDistinct"
   ]
  },
  {
   "cell_type": "code",
   "execution_count": 37,
   "metadata": {},
   "outputs": [],
   "source": [
    "#other imports\n",
    "from pyspark.mllib.linalg import Vectors\n",
    "from pyspark.ml.feature import VectorAssembler"
   ]
  },
  {
   "cell_type": "code",
   "execution_count": 31,
   "metadata": {},
   "outputs": [],
   "source": [
    "#reading in sticker type data\n",
    "feature_data = sqlContext.read.parquet(\"gs://ds-url-catag/stick_statistics/derived_features/\")"
   ]
  },
  {
   "cell_type": "code",
   "execution_count": 32,
   "metadata": {},
   "outputs": [
    {
     "data": {
      "text/plain": [
       "['user_id_n',\n",
       " 'numofdays',\n",
       " 'avg_con_days',\n",
       " 'sticker_packs_sent',\n",
       " 'distinct_sticker_packs_sent',\n",
       " 'sum_paid',\n",
       " 'sum_free',\n",
       " 'sum_subs',\n",
       " 'sum_discont']"
      ]
     },
     "execution_count": 32,
     "metadata": {},
     "output_type": "execute_result"
    }
   ],
   "source": [
    "feature_data.columns"
   ]
  },
  {
   "cell_type": "code",
   "execution_count": 35,
   "metadata": {},
   "outputs": [],
   "source": [
    "#basic statistics of each of the data\n",
    "# feature_data.describe('sticker_packs_sent').show()"
   ]
  },
  {
   "cell_type": "code",
   "execution_count": 62,
   "metadata": {},
   "outputs": [],
   "source": [
    "#convert to a vector column\n",
    "from pyspark.mllib.linalg import Vectors\n",
    "\n",
    "assembler = VectorAssembler(\n",
    "    inputCols=[\"numofdays\", \"avg_con_days\",\"sticker_packs_sent\",\"distinct_sticker_packs_sent\",\"sum_paid\",\"sum_free\",\"sum_subs\",\"sum_discont\"],\n",
    "    outputCol=\"features\")\n",
    "output = assembler.transform(feature_data)\n",
    "# output.select(\"features\").show()\n"
   ]
  },
  {
   "cell_type": "code",
   "execution_count": 63,
   "metadata": {},
   "outputs": [],
   "source": [
    "#normalize the features\n",
    "from pyspark.mllib.util import MLUtils\n",
    "from pyspark.ml.feature import Normalizer\n",
    "\n",
    "# Normalize each Vector using $L^1$ norm.\n",
    "normalizer = Normalizer(inputCol=\"features\", outputCol=\"normFeatures\", p=1.0)\n",
    "l1NormData = normalizer.transform(output)\n"
   ]
  },
  {
   "cell_type": "code",
   "execution_count": 76,
   "metadata": {},
   "outputs": [],
   "source": [
    "dataset = l1NormData.select('normFeatures')\n",
    "dataset = dataset.withColumn('features',col('normFeatures'))\n",
    "dataset = dataset.select('features')"
   ]
  },
  {
   "cell_type": "code",
   "execution_count": 89,
   "metadata": {},
   "outputs": [
    {
     "name": "stdout",
     "output_type": "stream",
     "text": [
      "+-----------------------------------------------------------------------------------------------------------------+\n",
      "|features                                                                                                         |\n",
      "+-----------------------------------------------------------------------------------------------------------------+\n",
      "|[0.2857142857142857,0.02857142857142857,0.34285714285714286,0.17142857142857143,0.0,0.17142857142857143,0.0,0.0] |\n",
      "|[0.19298245614035087,0.08771929824561403,0.5964912280701754,0.07017543859649122,0.0,0.05263157894736842,0.0,0.0] |\n",
      "|(8,[0,2,3,7],[0.38461538461538464,0.46153846153846156,0.07692307692307693,0.07692307692307693])                  |\n",
      "|(8,[0,2,3,5],[0.25,0.25,0.25,0.25])                                                                              |\n",
      "|(8,[0,2,3,5],[0.3333333333333333,0.3333333333333333,0.16666666666666666,0.16666666666666666])                    |\n",
      "|[0.3333333333333333,0.0,0.38095238095238093,0.14285714285714285,0.09523809523809523,0.047619047619047616,0.0,0.0]|\n",
      "|[0.19444444444444445,0.027777777777777776,0.4722222222222222,0.16666666666666666,0.0,0.1388888888888889,0.0,0.0] |\n",
      "|[0.2,0.04,0.36,0.2,0.0,0.2,0.0,0.0]                                                                              |\n",
      "|[0.19672131147540983,0.03278688524590164,0.5901639344262295,0.09836065573770492,0.0,0.08196721311475409,0.0,0.0] |\n",
      "|(8,[0,2,3,5],[0.25,0.25,0.25,0.25])                                                                              |\n",
      "+-----------------------------------------------------------------------------------------------------------------+\n",
      "only showing top 10 rows\n",
      "\n"
     ]
    }
   ],
   "source": [
    "dataset.select('features').show(10,False)"
   ]
  },
  {
   "cell_type": "code",
   "execution_count": 86,
   "metadata": {},
   "outputs": [],
   "source": [
    "#clustering\n",
    "from pyspark.ml.clustering import KMeans\n",
    "kmeans = KMeans().setK(40).setSeed(1)\n",
    "model = kmeans.fit(dataset)"
   ]
  },
  {
   "cell_type": "code",
   "execution_count": 87,
   "metadata": {},
   "outputs": [
    {
     "name": "stdout",
     "output_type": "stream",
     "text": [
      "Within Set Sum of Squared Errors = 13548.6775627\n"
     ]
    }
   ],
   "source": [
    "#compute wssse error for those constructed model\n",
    "wssse = model.computeCost(dataset)\n",
    "print(\"Within Set Sum of Squared Errors = \" + str(wssse))"
   ]
  },
  {
   "cell_type": "code",
   "execution_count": 81,
   "metadata": {},
   "outputs": [
    {
     "name": "stdout",
     "output_type": "stream",
     "text": [
      "Cluster Centers: \n",
      "[  2.37308739e-01   8.87798341e-03   3.00327731e-01   2.34128945e-01\n",
      "   2.31781485e-04   2.16993991e-01   7.76098387e-07   2.13005362e-03]\n",
      "[  9.87584114e-02   1.69996681e-02   7.91714838e-01   5.14296350e-02\n",
      "   5.50224760e-05   4.07093073e-02   7.92848419e-07   3.32324571e-04]\n",
      "[  2.40603781e-01   3.28825567e-02   5.00046621e-01   1.23539377e-01\n",
      "   2.15735731e-04   1.01385233e-01   1.77973813e-06   1.32491479e-03]\n"
     ]
    }
   ],
   "source": [
    "# Shows the result.\n",
    "centers = model.clusterCenters()\n",
    "print(\"Cluster Centers: \")\n",
    "for center in centers:\n",
    "    print(center)\n",
    "# $example off$"
   ]
  },
  {
   "cell_type": "code",
   "execution_count": null,
   "metadata": {},
   "outputs": [],
   "source": []
  }
 ],
 "metadata": {
  "kernelspec": {
   "display_name": "PySpark",
   "language": "python",
   "name": "python2"
  },
  "language_info": {
   "codemirror_mode": {
    "name": "ipython",
    "version": 2
   },
   "file_extension": ".py",
   "mimetype": "text/x-python",
   "name": "python",
   "nbconvert_exporter": "python",
   "pygments_lexer": "ipython2",
   "version": "2.7.9"
  }
 },
 "nbformat": 4,
 "nbformat_minor": 2
}

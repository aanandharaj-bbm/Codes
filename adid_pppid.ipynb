{
 "cells": [
  {
   "cell_type": "code",
   "execution_count": 1,
   "metadata": {},
   "outputs": [],
   "source": [
    "from pyspark.sql.types import *\n",
    "from pyspark import SparkConf, SparkContext\n",
    "from pyspark.sql import SQLContext\n",
    "from pyspark.sql.functions import expr\n",
    "from pyspark.sql.functions import *\n",
    "import pandas as pd\n",
    "import time\n",
    "sc.stop()\n",
    "sc =SparkContext()\n",
    "sqlCtx = SQLContext(sc)\n"
   ]
  },
  {
   "cell_type": "code",
   "execution_count": 4,
   "metadata": {},
   "outputs": [],
   "source": [
    "rdd = sc.textFile(\"gs://ds-url-catag/adid_ppid_segment_check/request_2_mark/*.csv\") \\\n",
    "    .map(lambda line: line.split(\",\"))\n"
   ]
  },
  {
   "cell_type": "code",
   "execution_count": 5,
   "metadata": {},
   "outputs": [],
   "source": [
    "first_line = rdd.first()"
   ]
  },
  {
   "cell_type": "code",
   "execution_count": 6,
   "metadata": {},
   "outputs": [],
   "source": [
    "ppids = rdd.filter(lambda line: line != first_line).toDF(['adid'])"
   ]
  },
  {
   "cell_type": "code",
   "execution_count": 7,
   "metadata": {},
   "outputs": [
    {
     "data": {
      "text/plain": [
       "2806982"
      ]
     },
     "execution_count": 7,
     "metadata": {},
     "output_type": "execute_result"
    }
   ],
   "source": [
    "ppids.count()"
   ]
  },
  {
   "cell_type": "code",
   "execution_count": 8,
   "metadata": {},
   "outputs": [
    {
     "data": {
      "text/plain": [
       "585918"
      ]
     },
     "execution_count": 8,
     "metadata": {},
     "output_type": "execute_result"
    }
   ],
   "source": [
    "ppids.dropDuplicates().count()"
   ]
  },
  {
   "cell_type": "code",
   "execution_count": 9,
   "metadata": {},
   "outputs": [],
   "source": [
    "final_ppids = ppids.where(col('adid') != '\"\"')"
   ]
  },
  {
   "cell_type": "code",
   "execution_count": 10,
   "metadata": {},
   "outputs": [
    {
     "data": {
      "text/plain": [
       "2806982"
      ]
     },
     "execution_count": 10,
     "metadata": {},
     "output_type": "execute_result"
    }
   ],
   "source": [
    "final_ppids.count()"
   ]
  },
  {
   "cell_type": "code",
   "execution_count": 11,
   "metadata": {},
   "outputs": [],
   "source": [
    "#convert to ppids\n",
    "from hashlib import sha1\n",
    "import binascii\n",
    "import re \n",
    "SALT_A = \"77EfzyR%iZtyTFAK7lyZ_X=B7e^b1atUx%W+Rx0A3ja~b5yjGL-q==po%nkL\"\n",
    "\n",
    "def adid_to_ppid(adid):\n",
    "    sha1hash = []\n",
    "    pattern = re.compile(\"^[a-zA-Z0-9\\-]{8}-[a-zA-z0-9]{4}-[a-zA-z0-9]{4}-[a-zA-z0-9]{4}-[a-zA-z0-9]{12}\")\n",
    "    if re.match(pattern,adid) is not None:\n",
    "        text = adid + SALT_A\n",
    "        sha1_dig = sha1(text).digest()\n",
    "        sha1hash = [ord(c) for c in sha1_dig]\n",
    "    return binascii.hexlify(bytearray(sha1hash))\n",
    "\n",
    "adid_ppid_udf = udf(adid_to_ppid, StringType())"
   ]
  },
  {
   "cell_type": "code",
   "execution_count": 12,
   "metadata": {},
   "outputs": [],
   "source": [
    "final_ppids= final_ppids.withColumn('ppid',adid_ppid_udf(col('adid')))"
   ]
  },
  {
   "cell_type": "code",
   "execution_count": 14,
   "metadata": {},
   "outputs": [
    {
     "name": "stdout",
     "output_type": "stream",
     "text": [
      "+--------------------+--------------------+\n",
      "|                adid|                ppid|\n",
      "+--------------------+--------------------+\n",
      "|0f677cad-1e34-45c...|3904def9d176c888b...|\n",
      "|01177995-6580-458...|ecfcf2c208203d743...|\n",
      "|2c07d77b-3902-4c6...|8e1b44be7c5026621...|\n",
      "|8ca0d23b-4d31-407...|6fc2103ce9e1af2d4...|\n",
      "|1e9cc12e-2ce9-4f4...|287cb5472caa8ab5d...|\n",
      "|f4231dc6-fd64-40c...|e0b807d7f5225a452...|\n",
      "|c33fa70d-b6e4-42a...|c8dd2a55e8b518169...|\n",
      "|aef7a87b-1400-45b...|9d06e9c5177369464...|\n",
      "|9ad11051-e36d-42a...|3a4d890b21dabd827...|\n",
      "|eb67064a-9afe-47d...|e5122bc04c39eb600...|\n",
      "|95f76851-85ce-484...|ee45c165c794907a6...|\n",
      "|d1675846-e5c3-4a6...|5a36100c7334137a3...|\n",
      "|5bcdbebb-9481-404...|5cbda3e1bdabeddd9...|\n",
      "|5a59927d-49d8-4b4...|775d27e9e70fdfb3a...|\n",
      "|b7109c9f-e017-474...|c5f508f06ca0c322e...|\n",
      "|38ee8250-b7ab-48a...|0abe364ad934fc243...|\n",
      "|a4b65068-d9c4-41b...|cc11b1bfff2f1ba3e...|\n",
      "|b33ea461-1fd0-418...|b1e845c33e9506fba...|\n",
      "|6efddc14-3eef-467...|4429a1c2c10a6d1c6...|\n",
      "|24a710de-c0c3-408...|77644eee203daa491...|\n",
      "+--------------------+--------------------+\n",
      "only showing top 20 rows\n",
      "\n"
     ]
    }
   ],
   "source": [
    "final_ppids.show()"
   ]
  },
  {
   "cell_type": "code",
   "execution_count": 13,
   "metadata": {},
   "outputs": [
    {
     "data": {
      "text/plain": [
       "585910"
      ]
     },
     "execution_count": 13,
     "metadata": {},
     "output_type": "execute_result"
    }
   ],
   "source": [
    "final_ppids.select('ppid').dropDuplicates().count()"
   ]
  },
  {
   "cell_type": "code",
   "execution_count": 15,
   "metadata": {},
   "outputs": [],
   "source": [
    "final_ppids.select('ppid').dropDuplicates().coalesce(10).write.mode('overwrite').text(\"gs://ds-url-catag/adid_ppid_segment_check/request_2_mark/results/\")"
   ]
  },
  {
   "cell_type": "code",
   "execution_count": null,
   "metadata": {},
   "outputs": [],
   "source": []
  }
 ],
 "metadata": {
  "kernelspec": {
   "display_name": "PySpark",
   "language": "python",
   "name": "python2"
  },
  "language_info": {
   "codemirror_mode": {
    "name": "ipython",
    "version": 2
   },
   "file_extension": ".py",
   "mimetype": "text/x-python",
   "name": "python",
   "nbconvert_exporter": "python",
   "pygments_lexer": "ipython2",
   "version": "2.7.9"
  }
 },
 "nbformat": 4,
 "nbformat_minor": 2
}

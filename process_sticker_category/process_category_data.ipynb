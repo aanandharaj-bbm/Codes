{
 "cells": [
  {
   "cell_type": "code",
   "execution_count": 1,
   "metadata": {},
   "outputs": [],
   "source": [
    "from pyspark import SparkConf, SparkContext\n",
    "from pyspark.sql.functions import *\n",
    "from pyspark.sql import SQLContext\n",
    "sc.stop()\n",
    "sc =SparkContext()\n",
    "sqlContext = SQLContext(sc)\n",
    "import pyspark.sql.functions as func\n",
    "import sys\n",
    "from pyspark.sql.functions import countDistinct"
   ]
  },
  {
   "cell_type": "code",
   "execution_count": 2,
   "metadata": {},
   "outputs": [],
   "source": [
    "# files = !gsutil ls gs://ds-url-catag/Stickers/sticker_bycategory/"
   ]
  },
  {
   "cell_type": "code",
   "execution_count": 3,
   "metadata": {},
   "outputs": [],
   "source": [
    "# import re \n",
    "# count=0\n",
    "# file_count=0\n",
    "# for sub_file in files:\n",
    "#     sub_str = sub_file.split(\"/\")[5]\n",
    "#     string = sub_str[13:]\n",
    "#     category =  re.sub(r'\\d','', string)\n",
    "#     if sub_str:\n",
    "#         file_count+=1\n",
    "#         print file_count\n",
    "#         try:\n",
    "#             detail_catag = sc.textFile(\"gs://ds-url-catag/Stickers/sticker_bycategory/\"+str(sub_str)).map(lambda line: line.split(\",\")).map(lambda line: (line[0],line[1],line[2])).toDF(['id','Name','animated'])\n",
    "#             detail_catag = detail_catag.withColumn('category',lit(category))\n",
    "#             print category\n",
    "#             detail_catag.coalesce(1).write.parquet(\"gs://ds-url-catag/Stickers/proces_sticker_bycategory/\"+str(category)+\"/\"+str(file_count)+\"/\")\n",
    "#         except Exception,e:\n",
    "#             count += 1 \n",
    "\n",
    "\n"
   ]
  },
  {
   "cell_type": "code",
   "execution_count": 8,
   "metadata": {},
   "outputs": [],
   "source": [
    "Stick_category_data = sqlContext.read.parquet(\"gs://ds-url-catag/Stickers/proces_sticker_bycategory/*/*\")\n",
    "#Cleaning the data    \n",
    "from pyspark.sql.types import StringType\n",
    "import re\n",
    "remove_quotes = udf(lambda x: re.sub('\"','',x), StringType())\n",
    "remove_slashes = udf(lambda x: re.sub('\\\\\\\\','',x), StringType())\n",
    "#removing quotes from the data \n",
    "Stick_category_data_df = Stick_category_data.select(*[remove_quotes(column).alias(column) for column in Stick_category_data.columns])\n",
    "Stick_category_data_df =  Stick_category_data_df.select(*[remove_slashes(column).alias(column) for column in Stick_category_data_df.columns])\n",
    "Stick_category_data_df = Stick_category_data_df.dropDuplicates()"
   ]
  },
  {
   "cell_type": "code",
   "execution_count": 9,
   "metadata": {},
   "outputs": [
    {
     "name": "stdout",
     "output_type": "stream",
     "text": [
      "+-------------------+--------------------+--------+----------------+\n",
      "|                 id|                Name|animated|        category|\n",
      "+-------------------+--------------------+--------+----------------+\n",
      "|        cuteballoon|        CUTE BALLOON|    true|animatedstickers|\n",
      "|           petspeak|From Frank Pet Speak|   false|  animalsandpets|\n",
      "|   berthasvalentine|Bertha's Lovely V...|    true|animatedstickers|\n",
      "|cottonanimalcostume|Cotton's Animal C...|   false|       bbmfamily|\n",
      "|bbmfamilyvalentines|BBM Family Valent...|    true|animatedstickers|\n",
      "|     royalbreakfast|     Royal Breakfast|   false|            food|\n",
      "|      tontonfriends|      Tonton Friends|    true|animatedstickers|\n",
      "|          chickyboy|          Chicky Boy|   false|  animalsandpets|\n",
      "|        roscoracoon|       Rosco Raccoon|   false|  animalsandpets|\n",
      "|   puppylovestochat| Puppy Loves to Chat|   false|  animalsandpets|\n",
      "|    squarespression|      Squarepression|   false|           emoji|\n",
      "|    preciousmoments|Precious Moments ...|   false|  loveandromance|\n",
      "|               moko|                Moko|   false|      characters|\n",
      "|       alvinthebear|      Alvin the Bear|   false|       bbmfamily|\n",
      "|             hotdog|     Rainbow Hot Dog|   false|            food|\n",
      "|        joystickers|                 Joy|   false|       bbmfamily|\n",
      "|              nybbm|Happy New Year fr...|    true|animatedstickers|\n",
      "|       cutedeviltwo|        Cute Devil 2|    true|animatedstickers|\n",
      "|              puggo|               Puggo|   false|  animalsandpets|\n",
      "|          lilbubcat|             Lil Bub|   false|  animalsandpets|\n",
      "+-------------------+--------------------+--------+----------------+\n",
      "only showing top 20 rows\n",
      "\n"
     ]
    }
   ],
   "source": [
    "Stick_category_data_df.show()"
   ]
  },
  {
   "cell_type": "code",
   "execution_count": null,
   "metadata": {},
   "outputs": [],
   "source": []
  }
 ],
 "metadata": {
  "kernelspec": {
   "display_name": "PySpark",
   "language": "python",
   "name": "python2"
  },
  "language_info": {
   "codemirror_mode": {
    "name": "ipython",
    "version": 2
   },
   "file_extension": ".py",
   "mimetype": "text/x-python",
   "name": "python",
   "nbconvert_exporter": "python",
   "pygments_lexer": "ipython2",
   "version": "2.7.9"
  }
 },
 "nbformat": 4,
 "nbformat_minor": 2
}

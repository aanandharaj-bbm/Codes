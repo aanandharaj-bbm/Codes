{
 "cells": [
  {
   "cell_type": "code",
   "execution_count": 29,
   "metadata": {},
   "outputs": [],
   "source": [
    "from pyspark import SparkConf, SparkContext\n",
    "from pyspark.sql.functions import *\n",
    "sc.stop()\n",
    "from pyspark.sql import SQLContext\n",
    "sc =SparkContext()\n",
    "sqlContext = SQLContext(sc)\n",
    "import pyspark.sql.functions as func\n",
    "import sys\n",
    "from pyspark.sql.functions import countDistinct"
   ]
  },
  {
   "cell_type": "code",
   "execution_count": 30,
   "metadata": {},
   "outputs": [],
   "source": [
    "#reading in sticker type data\n",
    "main_data = sc.textFile(\"gs://ds-url-catag/Emails_verifalia/email_100_b.csv\")\n",
    "header = main_data.take(1)[0]\n",
    "filter_header = main_data.filter(lambda line: line != header) \\\n",
    "              .map(lambda line: line.split(\",\"))  \\\n",
    "              .map(lambda line: (line[0],line[1])).toDF(['email','language'])\n",
    "\n"
   ]
  },
  {
   "cell_type": "code",
   "execution_count": 20,
   "metadata": {},
   "outputs": [
    {
     "data": {
      "text/plain": [
       "9407056"
      ]
     },
     "execution_count": 20,
     "metadata": {},
     "output_type": "execute_result"
    }
   ],
   "source": [
    "filter_header.count()"
   ]
  },
  {
   "cell_type": "code",
   "execution_count": 21,
   "metadata": {},
   "outputs": [
    {
     "data": {
      "text/plain": [
       "9405982"
      ]
     },
     "execution_count": 21,
     "metadata": {},
     "output_type": "execute_result"
    }
   ],
   "source": [
    "filter_header.distinct().count()"
   ]
  },
  {
   "cell_type": "code",
   "execution_count": 31,
   "metadata": {},
   "outputs": [],
   "source": [
    "distinct_emails = filter_header.distinct()"
   ]
  },
  {
   "cell_type": "code",
   "execution_count": 17,
   "metadata": {},
   "outputs": [],
   "source": [
    "# #testing for sample\n",
    "# sample_size_test = distinct_emails.limit(10)\n",
    "# sample_size_test.write.mode('overwrite').parquet(\"gs://ds-url-catag/Emails_verifalia/testing/\")\n",
    "# read_again = sqlContext.read.parquet(\"gs://ds-url-catag/Emails_verifalia/testing/\")\n",
    "# read_again.show()"
   ]
  },
  {
   "cell_type": "code",
   "execution_count": 32,
   "metadata": {},
   "outputs": [],
   "source": [
    "from pyspark.sql.functions import col  \n",
    "from pyspark.sql.window import Window\n",
    "\n",
    "\n",
    "w = Window().orderBy('email')\n",
    "distinct_emails= distinct_emails.withColumn(\"rowNum\",func.row_number().over(w))"
   ]
  },
  {
   "cell_type": "code",
   "execution_count": null,
   "metadata": {},
   "outputs": [],
   "source": [
    "distinct_emails.write.mode('overwrite').parquet(\"gs://ds-url-catag/Emails_verifalia/testing/\")"
   ]
  },
  {
   "cell_type": "code",
   "execution_count": 10,
   "metadata": {},
   "outputs": [],
   "source": [
    "new_data = sqlContext.read.parquet(\"gs://ds-url-catag/Emails_verifalia/testing/\")"
   ]
  },
  {
   "cell_type": "code",
   "execution_count": null,
   "metadata": {},
   "outputs": [],
   "source": [
    "new_data.show(100)"
   ]
  },
  {
   "cell_type": "code",
   "execution_count": null,
   "metadata": {},
   "outputs": [],
   "source": [
    "new_data= new_data.withColumn(\"mod_num\",lit(160))\n",
    "new_data= new_data.withColumn(\"every_160\",col('rowNum')%col('mod_num'))\n"
   ]
  },
  {
   "cell_type": "code",
   "execution_count": null,
   "metadata": {},
   "outputs": [],
   "source": [
    "Sample = new_data.where(col('mod_num') == 0)"
   ]
  },
  {
   "cell_type": "code",
   "execution_count": null,
   "metadata": {},
   "outputs": [],
   "source": [
    "Sample.count()"
   ]
  },
  {
   "cell_type": "code",
   "execution_count": null,
   "metadata": {},
   "outputs": [],
   "source": [
    "Sample.select('email').limit(50000).write.text(\"gs://ds-url-catag/Emails_verifalia/sample_email\")"
   ]
  }
 ],
 "metadata": {
  "kernelspec": {
   "display_name": "PySpark",
   "language": "python",
   "name": "python2"
  },
  "language_info": {
   "codemirror_mode": {
    "name": "ipython",
    "version": 2
   },
   "file_extension": ".py",
   "mimetype": "text/x-python",
   "name": "python",
   "nbconvert_exporter": "python",
   "pygments_lexer": "ipython2",
   "version": "2.7.9"
  }
 },
 "nbformat": 4,
 "nbformat_minor": 2
}

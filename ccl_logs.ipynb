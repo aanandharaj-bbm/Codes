{
 "cells": [
  {
   "cell_type": "code",
   "execution_count": 1,
   "metadata": {},
   "outputs": [],
   "source": [
    "from pyspark import SparkConf, SparkContext\n",
    "from pyspark.sql.functions import *\n",
    "from pyspark.sql.types import *\n",
    "from pyspark.sql import SQLContext\n",
    "import pyspark.sql.functions as func\n",
    "from datetime import datetime, timedelta\n",
    "import re\n",
    "import subprocess\n",
    "import sys\n",
    "sc.stop()\n",
    "sc = SparkContext()\n",
    "sql = SQLContext(sc)\n",
    "\n"
   ]
  },
  {
   "cell_type": "code",
   "execution_count": 2,
   "metadata": {},
   "outputs": [],
   "source": [
    "# !gsutil ls gs://bbm-data-warehouse-production-bigdata/tables/flat-logs/year=2017/month=12/day=11/*"
   ]
  },
  {
   "cell_type": "code",
   "execution_count": 3,
   "metadata": {},
   "outputs": [
    {
     "ename": "Py4JJavaError",
     "evalue": "An error occurred while calling o101.parquet.\n: java.lang.OutOfMemoryError: GC overhead limit exceeded\n",
     "output_type": "error",
     "traceback": [
      "\u001b[0;31m\u001b[0m",
      "\u001b[0;31mPy4JJavaError\u001b[0mTraceback (most recent call last)",
      "\u001b[0;32m<ipython-input-3-23718987306f>\u001b[0m in \u001b[0;36m<module>\u001b[0;34m()\u001b[0m\n\u001b[0;32m----> 1\u001b[0;31m \u001b[0mccl_logs\u001b[0m \u001b[0;34m=\u001b[0m \u001b[0msql\u001b[0m\u001b[0;34m.\u001b[0m\u001b[0mread\u001b[0m\u001b[0;34m.\u001b[0m\u001b[0mparquet\u001b[0m\u001b[0;34m(\u001b[0m\u001b[0;34m\"gs://bbm-data-warehouse-production-bigdata/tables/flat-logs/year=2017/*/*/*/*.parquet\"\u001b[0m\u001b[0;34m)\u001b[0m\u001b[0;34m\u001b[0m\u001b[0m\n\u001b[0m",
      "\u001b[0;32m/usr/lib/spark/python/pyspark/sql/readwriter.pyc\u001b[0m in \u001b[0;36mparquet\u001b[0;34m(self, *paths)\u001b[0m\n\u001b[1;32m    289\u001b[0m         \u001b[0;34m[\u001b[0m\u001b[0;34m(\u001b[0m\u001b[0;34m'name'\u001b[0m\u001b[0;34m,\u001b[0m \u001b[0;34m'string'\u001b[0m\u001b[0;34m)\u001b[0m\u001b[0;34m,\u001b[0m \u001b[0;34m(\u001b[0m\u001b[0;34m'year'\u001b[0m\u001b[0;34m,\u001b[0m \u001b[0;34m'int'\u001b[0m\u001b[0;34m)\u001b[0m\u001b[0;34m,\u001b[0m \u001b[0;34m(\u001b[0m\u001b[0;34m'month'\u001b[0m\u001b[0;34m,\u001b[0m \u001b[0;34m'int'\u001b[0m\u001b[0;34m)\u001b[0m\u001b[0;34m,\u001b[0m \u001b[0;34m(\u001b[0m\u001b[0;34m'day'\u001b[0m\u001b[0;34m,\u001b[0m \u001b[0;34m'int'\u001b[0m\u001b[0;34m)\u001b[0m\u001b[0;34m]\u001b[0m\u001b[0;34m\u001b[0m\u001b[0m\n\u001b[1;32m    290\u001b[0m         \"\"\"\n\u001b[0;32m--> 291\u001b[0;31m         \u001b[0;32mreturn\u001b[0m \u001b[0mself\u001b[0m\u001b[0;34m.\u001b[0m\u001b[0m_df\u001b[0m\u001b[0;34m(\u001b[0m\u001b[0mself\u001b[0m\u001b[0;34m.\u001b[0m\u001b[0m_jreader\u001b[0m\u001b[0;34m.\u001b[0m\u001b[0mparquet\u001b[0m\u001b[0;34m(\u001b[0m\u001b[0m_to_seq\u001b[0m\u001b[0;34m(\u001b[0m\u001b[0mself\u001b[0m\u001b[0;34m.\u001b[0m\u001b[0m_spark\u001b[0m\u001b[0;34m.\u001b[0m\u001b[0m_sc\u001b[0m\u001b[0;34m,\u001b[0m \u001b[0mpaths\u001b[0m\u001b[0;34m)\u001b[0m\u001b[0;34m)\u001b[0m\u001b[0;34m)\u001b[0m\u001b[0;34m\u001b[0m\u001b[0m\n\u001b[0m\u001b[1;32m    292\u001b[0m \u001b[0;34m\u001b[0m\u001b[0m\n\u001b[1;32m    293\u001b[0m     \u001b[0;34m@\u001b[0m\u001b[0mignore_unicode_prefix\u001b[0m\u001b[0;34m\u001b[0m\u001b[0m\n",
      "\u001b[0;32m/usr/lib/spark/python/lib/py4j-0.10.4-src.zip/py4j/java_gateway.py\u001b[0m in \u001b[0;36m__call__\u001b[0;34m(self, *args)\u001b[0m\n\u001b[1;32m   1131\u001b[0m         \u001b[0manswer\u001b[0m \u001b[0;34m=\u001b[0m \u001b[0mself\u001b[0m\u001b[0;34m.\u001b[0m\u001b[0mgateway_client\u001b[0m\u001b[0;34m.\u001b[0m\u001b[0msend_command\u001b[0m\u001b[0;34m(\u001b[0m\u001b[0mcommand\u001b[0m\u001b[0;34m)\u001b[0m\u001b[0;34m\u001b[0m\u001b[0m\n\u001b[1;32m   1132\u001b[0m         return_value = get_return_value(\n\u001b[0;32m-> 1133\u001b[0;31m             answer, self.gateway_client, self.target_id, self.name)\n\u001b[0m\u001b[1;32m   1134\u001b[0m \u001b[0;34m\u001b[0m\u001b[0m\n\u001b[1;32m   1135\u001b[0m         \u001b[0;32mfor\u001b[0m \u001b[0mtemp_arg\u001b[0m \u001b[0;32min\u001b[0m \u001b[0mtemp_args\u001b[0m\u001b[0;34m:\u001b[0m\u001b[0;34m\u001b[0m\u001b[0m\n",
      "\u001b[0;32m/usr/lib/spark/python/pyspark/sql/utils.pyc\u001b[0m in \u001b[0;36mdeco\u001b[0;34m(*a, **kw)\u001b[0m\n\u001b[1;32m     61\u001b[0m     \u001b[0;32mdef\u001b[0m \u001b[0mdeco\u001b[0m\u001b[0;34m(\u001b[0m\u001b[0;34m*\u001b[0m\u001b[0ma\u001b[0m\u001b[0;34m,\u001b[0m \u001b[0;34m**\u001b[0m\u001b[0mkw\u001b[0m\u001b[0;34m)\u001b[0m\u001b[0;34m:\u001b[0m\u001b[0;34m\u001b[0m\u001b[0m\n\u001b[1;32m     62\u001b[0m         \u001b[0;32mtry\u001b[0m\u001b[0;34m:\u001b[0m\u001b[0;34m\u001b[0m\u001b[0m\n\u001b[0;32m---> 63\u001b[0;31m             \u001b[0;32mreturn\u001b[0m \u001b[0mf\u001b[0m\u001b[0;34m(\u001b[0m\u001b[0;34m*\u001b[0m\u001b[0ma\u001b[0m\u001b[0;34m,\u001b[0m \u001b[0;34m**\u001b[0m\u001b[0mkw\u001b[0m\u001b[0;34m)\u001b[0m\u001b[0;34m\u001b[0m\u001b[0m\n\u001b[0m\u001b[1;32m     64\u001b[0m         \u001b[0;32mexcept\u001b[0m \u001b[0mpy4j\u001b[0m\u001b[0;34m.\u001b[0m\u001b[0mprotocol\u001b[0m\u001b[0;34m.\u001b[0m\u001b[0mPy4JJavaError\u001b[0m \u001b[0;32mas\u001b[0m \u001b[0me\u001b[0m\u001b[0;34m:\u001b[0m\u001b[0;34m\u001b[0m\u001b[0m\n\u001b[1;32m     65\u001b[0m             \u001b[0ms\u001b[0m \u001b[0;34m=\u001b[0m \u001b[0me\u001b[0m\u001b[0;34m.\u001b[0m\u001b[0mjava_exception\u001b[0m\u001b[0;34m.\u001b[0m\u001b[0mtoString\u001b[0m\u001b[0;34m(\u001b[0m\u001b[0;34m)\u001b[0m\u001b[0;34m\u001b[0m\u001b[0m\n",
      "\u001b[0;32m/usr/lib/spark/python/lib/py4j-0.10.4-src.zip/py4j/protocol.py\u001b[0m in \u001b[0;36mget_return_value\u001b[0;34m(answer, gateway_client, target_id, name)\u001b[0m\n\u001b[1;32m    317\u001b[0m                 raise Py4JJavaError(\n\u001b[1;32m    318\u001b[0m                     \u001b[0;34m\"An error occurred while calling {0}{1}{2}.\\n\"\u001b[0m\u001b[0;34m.\u001b[0m\u001b[0;34m\u001b[0m\u001b[0m\n\u001b[0;32m--> 319\u001b[0;31m                     format(target_id, \".\", name), value)\n\u001b[0m\u001b[1;32m    320\u001b[0m             \u001b[0;32melse\u001b[0m\u001b[0;34m:\u001b[0m\u001b[0;34m\u001b[0m\u001b[0m\n\u001b[1;32m    321\u001b[0m                 raise Py4JError(\n",
      "\u001b[0;31mPy4JJavaError\u001b[0m: An error occurred while calling o101.parquet.\n: java.lang.OutOfMemoryError: GC overhead limit exceeded\n"
     ]
    }
   ],
   "source": [
    "ccl_logs = sql.read.parquet(\"gs://bbm-data-warehouse-production-bigdata/tables/flat-logs/year=2017/*/*/*/*.parquet\")"
   ]
  },
  {
   "cell_type": "code",
   "execution_count": 19,
   "metadata": {},
   "outputs": [
    {
     "name": "stdout",
     "output_type": "stream",
     "text": [
      "+-----+------+-----------+----------+\n",
      "|  tag|mainId|placementid|   orderId|\n",
      "+-----+------+-----------+----------+\n",
      "|OFFER|  null|       null|2201425661|\n",
      "|OFFER|  null|       null|2205447056|\n",
      "|OFFER|  null|       null|    INMOBI|\n",
      "|OFFER|  null|       null|2205447056|\n",
      "|OFFER|  null|       null|    INMOBI|\n",
      "|OFFER|  null|       null|     YAHOO|\n",
      "|OFFER|  null|       null|2205606633|\n",
      "|OFFER|  null|       null|2204480300|\n",
      "|OFFER|  null|       null|2204480300|\n",
      "|OFFER|  null|       null|    INMOBI|\n",
      "|OFFER|  null|       null|2204480300|\n",
      "|OFFER|  null|       null|2205606633|\n",
      "|OFFER|  null|       null|    INMOBI|\n",
      "|OFFER|  null|       null|    INMOBI|\n",
      "|OFFER|  null|       null|2197861368|\n",
      "|OFFER|  null|       null|2205447056|\n",
      "|OFFER|  null|       null|     YAHOO|\n",
      "|OFFER|  null|       null|    INMOBI|\n",
      "|OFFER|  null|       null|    INMOBI|\n",
      "|OFFER|  null|       null|    INMOBI|\n",
      "+-----+------+-----------+----------+\n",
      "only showing top 20 rows\n",
      "\n"
     ]
    }
   ],
   "source": [
    "# ccl_logs.select(\"orderId\",\"vendorid\",\"cellid\",\"event_id\",\"\",\"bbid\",\"adid\",\"rid\").show()\n",
    "ccl_logs.select('tag','mainId','placementid','orderId','adid').where((col('tag') == 'OFFER') | (col('tag') == 'RENDER') & (col('mainID') == 'true') ).show()"
   ]
  },
  {
   "cell_type": "code",
   "execution_count": null,
   "metadata": {},
   "outputs": [],
   "source": [
    "ccl_logs.groupby('placementid').count().show()"
   ]
  },
  {
   "cell_type": "code",
   "execution_count": 6,
   "metadata": {},
   "outputs": [],
   "source": [
    "data_csv = sc.textFile(\"gs://ds-url-catag/emails_new_un_ba.csv\").map(lambda line: line.split(\",\")).toDF(['emailids'])"
   ]
  },
  {
   "cell_type": "code",
   "execution_count": 21,
   "metadata": {},
   "outputs": [
    {
     "ename": "KeyboardInterrupt",
     "evalue": "",
     "output_type": "error",
     "traceback": [
      "\u001b[0;31m\u001b[0m",
      "\u001b[0;31mKeyboardInterrupt\u001b[0mTraceback (most recent call last)",
      "\u001b[0;32m<ipython-input-21-c3f6745afce0>\u001b[0m in \u001b[0;36m<module>\u001b[0;34m()\u001b[0m\n\u001b[0;32m----> 1\u001b[0;31m \u001b[0mccl_logs\u001b[0m\u001b[0;34m.\u001b[0m\u001b[0mgroupby\u001b[0m\u001b[0;34m(\u001b[0m\u001b[0;34m'placementid'\u001b[0m\u001b[0;34m)\u001b[0m\u001b[0;34m.\u001b[0m\u001b[0mcount\u001b[0m\u001b[0;34m(\u001b[0m\u001b[0;34m)\u001b[0m\u001b[0;34m.\u001b[0m\u001b[0mshow\u001b[0m\u001b[0;34m(\u001b[0m\u001b[0;34m)\u001b[0m\u001b[0;34m\u001b[0m\u001b[0m\n\u001b[0m",
      "\u001b[0;32m/usr/lib/spark/python/pyspark/sql/dataframe.pyc\u001b[0m in \u001b[0;36mshow\u001b[0;34m(self, n, truncate)\u001b[0m\n\u001b[1;32m    334\u001b[0m         \"\"\"\n\u001b[1;32m    335\u001b[0m         \u001b[0;32mif\u001b[0m \u001b[0misinstance\u001b[0m\u001b[0;34m(\u001b[0m\u001b[0mtruncate\u001b[0m\u001b[0;34m,\u001b[0m \u001b[0mbool\u001b[0m\u001b[0;34m)\u001b[0m \u001b[0;32mand\u001b[0m \u001b[0mtruncate\u001b[0m\u001b[0;34m:\u001b[0m\u001b[0;34m\u001b[0m\u001b[0m\n\u001b[0;32m--> 336\u001b[0;31m             \u001b[0;32mprint\u001b[0m\u001b[0;34m(\u001b[0m\u001b[0mself\u001b[0m\u001b[0;34m.\u001b[0m\u001b[0m_jdf\u001b[0m\u001b[0;34m.\u001b[0m\u001b[0mshowString\u001b[0m\u001b[0;34m(\u001b[0m\u001b[0mn\u001b[0m\u001b[0;34m,\u001b[0m \u001b[0;36m20\u001b[0m\u001b[0;34m)\u001b[0m\u001b[0;34m)\u001b[0m\u001b[0;34m\u001b[0m\u001b[0m\n\u001b[0m\u001b[1;32m    337\u001b[0m         \u001b[0;32melse\u001b[0m\u001b[0;34m:\u001b[0m\u001b[0;34m\u001b[0m\u001b[0m\n\u001b[1;32m    338\u001b[0m             \u001b[0;32mprint\u001b[0m\u001b[0;34m(\u001b[0m\u001b[0mself\u001b[0m\u001b[0;34m.\u001b[0m\u001b[0m_jdf\u001b[0m\u001b[0;34m.\u001b[0m\u001b[0mshowString\u001b[0m\u001b[0;34m(\u001b[0m\u001b[0mn\u001b[0m\u001b[0;34m,\u001b[0m \u001b[0mint\u001b[0m\u001b[0;34m(\u001b[0m\u001b[0mtruncate\u001b[0m\u001b[0;34m)\u001b[0m\u001b[0;34m)\u001b[0m\u001b[0;34m)\u001b[0m\u001b[0;34m\u001b[0m\u001b[0m\n",
      "\u001b[0;32m/usr/lib/spark/python/lib/py4j-0.10.4-src.zip/py4j/java_gateway.py\u001b[0m in \u001b[0;36m__call__\u001b[0;34m(self, *args)\u001b[0m\n\u001b[1;32m   1129\u001b[0m             \u001b[0mproto\u001b[0m\u001b[0;34m.\u001b[0m\u001b[0mEND_COMMAND_PART\u001b[0m\u001b[0;34m\u001b[0m\u001b[0m\n\u001b[1;32m   1130\u001b[0m \u001b[0;34m\u001b[0m\u001b[0m\n\u001b[0;32m-> 1131\u001b[0;31m         \u001b[0manswer\u001b[0m \u001b[0;34m=\u001b[0m \u001b[0mself\u001b[0m\u001b[0;34m.\u001b[0m\u001b[0mgateway_client\u001b[0m\u001b[0;34m.\u001b[0m\u001b[0msend_command\u001b[0m\u001b[0;34m(\u001b[0m\u001b[0mcommand\u001b[0m\u001b[0;34m)\u001b[0m\u001b[0;34m\u001b[0m\u001b[0m\n\u001b[0m\u001b[1;32m   1132\u001b[0m         return_value = get_return_value(\n\u001b[1;32m   1133\u001b[0m             answer, self.gateway_client, self.target_id, self.name)\n",
      "\u001b[0;32m/usr/lib/spark/python/lib/py4j-0.10.4-src.zip/py4j/java_gateway.py\u001b[0m in \u001b[0;36msend_command\u001b[0;34m(self, command, retry, binary)\u001b[0m\n\u001b[1;32m    881\u001b[0m         \u001b[0mconnection\u001b[0m \u001b[0;34m=\u001b[0m \u001b[0mself\u001b[0m\u001b[0;34m.\u001b[0m\u001b[0m_get_connection\u001b[0m\u001b[0;34m(\u001b[0m\u001b[0;34m)\u001b[0m\u001b[0;34m\u001b[0m\u001b[0m\n\u001b[1;32m    882\u001b[0m         \u001b[0;32mtry\u001b[0m\u001b[0;34m:\u001b[0m\u001b[0;34m\u001b[0m\u001b[0m\n\u001b[0;32m--> 883\u001b[0;31m             \u001b[0mresponse\u001b[0m \u001b[0;34m=\u001b[0m \u001b[0mconnection\u001b[0m\u001b[0;34m.\u001b[0m\u001b[0msend_command\u001b[0m\u001b[0;34m(\u001b[0m\u001b[0mcommand\u001b[0m\u001b[0;34m)\u001b[0m\u001b[0;34m\u001b[0m\u001b[0m\n\u001b[0m\u001b[1;32m    884\u001b[0m             \u001b[0;32mif\u001b[0m \u001b[0mbinary\u001b[0m\u001b[0;34m:\u001b[0m\u001b[0;34m\u001b[0m\u001b[0m\n\u001b[1;32m    885\u001b[0m                 \u001b[0;32mreturn\u001b[0m \u001b[0mresponse\u001b[0m\u001b[0;34m,\u001b[0m \u001b[0mself\u001b[0m\u001b[0;34m.\u001b[0m\u001b[0m_create_connection_guard\u001b[0m\u001b[0;34m(\u001b[0m\u001b[0mconnection\u001b[0m\u001b[0;34m)\u001b[0m\u001b[0;34m\u001b[0m\u001b[0m\n",
      "\u001b[0;32m/usr/lib/spark/python/lib/py4j-0.10.4-src.zip/py4j/java_gateway.py\u001b[0m in \u001b[0;36msend_command\u001b[0;34m(self, command)\u001b[0m\n\u001b[1;32m   1026\u001b[0m \u001b[0;34m\u001b[0m\u001b[0m\n\u001b[1;32m   1027\u001b[0m         \u001b[0;32mtry\u001b[0m\u001b[0;34m:\u001b[0m\u001b[0;34m\u001b[0m\u001b[0m\n\u001b[0;32m-> 1028\u001b[0;31m             \u001b[0manswer\u001b[0m \u001b[0;34m=\u001b[0m \u001b[0msmart_decode\u001b[0m\u001b[0;34m(\u001b[0m\u001b[0mself\u001b[0m\u001b[0;34m.\u001b[0m\u001b[0mstream\u001b[0m\u001b[0;34m.\u001b[0m\u001b[0mreadline\u001b[0m\u001b[0;34m(\u001b[0m\u001b[0;34m)\u001b[0m\u001b[0;34m[\u001b[0m\u001b[0;34m:\u001b[0m\u001b[0;34m-\u001b[0m\u001b[0;36m1\u001b[0m\u001b[0;34m]\u001b[0m\u001b[0;34m)\u001b[0m\u001b[0;34m\u001b[0m\u001b[0m\n\u001b[0m\u001b[1;32m   1029\u001b[0m             \u001b[0mlogger\u001b[0m\u001b[0;34m.\u001b[0m\u001b[0mdebug\u001b[0m\u001b[0;34m(\u001b[0m\u001b[0;34m\"Answer received: {0}\"\u001b[0m\u001b[0;34m.\u001b[0m\u001b[0mformat\u001b[0m\u001b[0;34m(\u001b[0m\u001b[0manswer\u001b[0m\u001b[0;34m)\u001b[0m\u001b[0;34m)\u001b[0m\u001b[0;34m\u001b[0m\u001b[0m\n\u001b[1;32m   1030\u001b[0m             \u001b[0;32mif\u001b[0m \u001b[0manswer\u001b[0m\u001b[0;34m.\u001b[0m\u001b[0mstartswith\u001b[0m\u001b[0;34m(\u001b[0m\u001b[0mproto\u001b[0m\u001b[0;34m.\u001b[0m\u001b[0mRETURN_MESSAGE\u001b[0m\u001b[0;34m)\u001b[0m\u001b[0;34m:\u001b[0m\u001b[0;34m\u001b[0m\u001b[0m\n",
      "\u001b[0;32m/usr/lib/python2.7/socket.pyc\u001b[0m in \u001b[0;36mreadline\u001b[0;34m(self, size)\u001b[0m\n\u001b[1;32m    445\u001b[0m             \u001b[0;32mwhile\u001b[0m \u001b[0mTrue\u001b[0m\u001b[0;34m:\u001b[0m\u001b[0;34m\u001b[0m\u001b[0m\n\u001b[1;32m    446\u001b[0m                 \u001b[0;32mtry\u001b[0m\u001b[0;34m:\u001b[0m\u001b[0;34m\u001b[0m\u001b[0m\n\u001b[0;32m--> 447\u001b[0;31m                     \u001b[0mdata\u001b[0m \u001b[0;34m=\u001b[0m \u001b[0mself\u001b[0m\u001b[0;34m.\u001b[0m\u001b[0m_sock\u001b[0m\u001b[0;34m.\u001b[0m\u001b[0mrecv\u001b[0m\u001b[0;34m(\u001b[0m\u001b[0mself\u001b[0m\u001b[0;34m.\u001b[0m\u001b[0m_rbufsize\u001b[0m\u001b[0;34m)\u001b[0m\u001b[0;34m\u001b[0m\u001b[0m\n\u001b[0m\u001b[1;32m    448\u001b[0m                 \u001b[0;32mexcept\u001b[0m \u001b[0merror\u001b[0m\u001b[0;34m,\u001b[0m \u001b[0me\u001b[0m\u001b[0;34m:\u001b[0m\u001b[0;34m\u001b[0m\u001b[0m\n\u001b[1;32m    449\u001b[0m                     \u001b[0;32mif\u001b[0m \u001b[0me\u001b[0m\u001b[0;34m.\u001b[0m\u001b[0margs\u001b[0m\u001b[0;34m[\u001b[0m\u001b[0;36m0\u001b[0m\u001b[0;34m]\u001b[0m \u001b[0;34m==\u001b[0m \u001b[0mEINTR\u001b[0m\u001b[0;34m:\u001b[0m\u001b[0;34m\u001b[0m\u001b[0m\n",
      "\u001b[0;31mKeyboardInterrupt\u001b[0m: "
     ]
    }
   ],
   "source": [
    "ccl_logs.groupby('placementid').count().show()"
   ]
  },
  {
   "cell_type": "code",
   "execution_count": 9,
   "metadata": {},
   "outputs": [
    {
     "data": {
      "text/plain": [
       "37423680"
      ]
     },
     "execution_count": 9,
     "metadata": {},
     "output_type": "execute_result"
    }
   ],
   "source": [
    "data_csv.count()"
   ]
  },
  {
   "cell_type": "code",
   "execution_count": 13,
   "metadata": {},
   "outputs": [
    {
     "data": {
      "text/plain": [
       "37423680"
      ]
     },
     "execution_count": 13,
     "metadata": {},
     "output_type": "execute_result"
    }
   ],
   "source": [
    "data_csv.distinct().count()"
   ]
  },
  {
   "cell_type": "code",
   "execution_count": 34,
   "metadata": {},
   "outputs": [],
   "source": [
    "new_csv = data_csv.repartition(100)"
   ]
  },
  {
   "cell_type": "code",
   "execution_count": 35,
   "metadata": {},
   "outputs": [
    {
     "data": {
      "text/plain": [
       "100"
      ]
     },
     "execution_count": 35,
     "metadata": {},
     "output_type": "execute_result"
    }
   ],
   "source": [
    "new_csv.rdd.getNumPartitions()"
   ]
  },
  {
   "cell_type": "code",
   "execution_count": 36,
   "metadata": {},
   "outputs": [],
   "source": [
    "new_csv.write.mode('overwrite').text(\"gs://ds-url-catag/Emails_verifalia/indonesian_emails\")"
   ]
  },
  {
   "cell_type": "code",
   "execution_count": 47,
   "metadata": {},
   "outputs": [
    {
     "name": "stdout",
     "output_type": "stream",
     "text": [
      "gs://ds-url-catag/Emails_verifalia/indonesian_emails/part-00000-1cc70721-cc6f-4e7a-ad62-520c4bdd8cb5-c000.txt\n",
      "374237\n",
      "gs://ds-url-catag/Emails_verifalia/indonesian_emails/part-00001-1cc70721-cc6f-4e7a-ad62-520c4bdd8cb5-c000.txt\n",
      "374237\n",
      "gs://ds-url-catag/Emails_verifalia/indonesian_emails/part-00002-1cc70721-cc6f-4e7a-ad62-520c4bdd8cb5-c000.txt\n",
      "374237\n",
      "gs://ds-url-catag/Emails_verifalia/indonesian_emails/part-00003-1cc70721-cc6f-4e7a-ad62-520c4bdd8cb5-c000.txt\n",
      "374237\n",
      "gs://ds-url-catag/Emails_verifalia/indonesian_emails/part-00004-1cc70721-cc6f-4e7a-ad62-520c4bdd8cb5-c000.txt\n",
      "374236\n",
      "gs://ds-url-catag/Emails_verifalia/indonesian_emails/part-00005-1cc70721-cc6f-4e7a-ad62-520c4bdd8cb5-c000.txt\n",
      "374236\n",
      "gs://ds-url-catag/Emails_verifalia/indonesian_emails/part-00006-1cc70721-cc6f-4e7a-ad62-520c4bdd8cb5-c000.txt\n",
      "374236\n",
      "gs://ds-url-catag/Emails_verifalia/indonesian_emails/part-00007-1cc70721-cc6f-4e7a-ad62-520c4bdd8cb5-c000.txt\n",
      "374236\n",
      "gs://ds-url-catag/Emails_verifalia/indonesian_emails/part-00008-1cc70721-cc6f-4e7a-ad62-520c4bdd8cb5-c000.txt\n",
      "374235\n",
      "gs://ds-url-catag/Emails_verifalia/indonesian_emails/part-00009-1cc70721-cc6f-4e7a-ad62-520c4bdd8cb5-c000.txt\n",
      "374236\n",
      "gs://ds-url-catag/Emails_verifalia/indonesian_emails/part-00010-1cc70721-cc6f-4e7a-ad62-520c4bdd8cb5-c000.txt\n",
      "374236\n",
      "gs://ds-url-catag/Emails_verifalia/indonesian_emails/part-00011-1cc70721-cc6f-4e7a-ad62-520c4bdd8cb5-c000.txt\n",
      "374236\n",
      "gs://ds-url-catag/Emails_verifalia/indonesian_emails/part-00012-1cc70721-cc6f-4e7a-ad62-520c4bdd8cb5-c000.txt\n",
      "374237\n",
      "gs://ds-url-catag/Emails_verifalia/indonesian_emails/part-00013-1cc70721-cc6f-4e7a-ad62-520c4bdd8cb5-c000.txt\n",
      "374237\n",
      "gs://ds-url-catag/Emails_verifalia/indonesian_emails/part-00014-1cc70721-cc6f-4e7a-ad62-520c4bdd8cb5-c000.txt\n",
      "374237\n",
      "gs://ds-url-catag/Emails_verifalia/indonesian_emails/part-00015-1cc70721-cc6f-4e7a-ad62-520c4bdd8cb5-c000.txt\n",
      "374237\n",
      "gs://ds-url-catag/Emails_verifalia/indonesian_emails/part-00016-1cc70721-cc6f-4e7a-ad62-520c4bdd8cb5-c000.txt\n",
      "374237\n",
      "gs://ds-url-catag/Emails_verifalia/indonesian_emails/part-00017-1cc70721-cc6f-4e7a-ad62-520c4bdd8cb5-c000.txt\n",
      "374237\n",
      "gs://ds-url-catag/Emails_verifalia/indonesian_emails/part-00018-1cc70721-cc6f-4e7a-ad62-520c4bdd8cb5-c000.txt\n",
      "374237\n",
      "gs://ds-url-catag/Emails_verifalia/indonesian_emails/part-00019-1cc70721-cc6f-4e7a-ad62-520c4bdd8cb5-c000.txt\n",
      "374237\n",
      "gs://ds-url-catag/Emails_verifalia/indonesian_emails/part-00020-1cc70721-cc6f-4e7a-ad62-520c4bdd8cb5-c000.txt\n",
      "374237\n",
      "gs://ds-url-catag/Emails_verifalia/indonesian_emails/part-00021-1cc70721-cc6f-4e7a-ad62-520c4bdd8cb5-c000.txt\n",
      "374237\n",
      "gs://ds-url-catag/Emails_verifalia/indonesian_emails/part-00022-1cc70721-cc6f-4e7a-ad62-520c4bdd8cb5-c000.txt\n",
      "374236\n",
      "gs://ds-url-catag/Emails_verifalia/indonesian_emails/part-00023-1cc70721-cc6f-4e7a-ad62-520c4bdd8cb5-c000.txt\n",
      "374236\n",
      "gs://ds-url-catag/Emails_verifalia/indonesian_emails/part-00024-1cc70721-cc6f-4e7a-ad62-520c4bdd8cb5-c000.txt\n",
      "374236\n",
      "gs://ds-url-catag/Emails_verifalia/indonesian_emails/part-00025-1cc70721-cc6f-4e7a-ad62-520c4bdd8cb5-c000.txt\n",
      "374236\n",
      "gs://ds-url-catag/Emails_verifalia/indonesian_emails/part-00026-1cc70721-cc6f-4e7a-ad62-520c4bdd8cb5-c000.txt\n",
      "374236\n",
      "gs://ds-url-catag/Emails_verifalia/indonesian_emails/part-00027-1cc70721-cc6f-4e7a-ad62-520c4bdd8cb5-c000.txt\n",
      "374236\n",
      "gs://ds-url-catag/Emails_verifalia/indonesian_emails/part-00028-1cc70721-cc6f-4e7a-ad62-520c4bdd8cb5-c000.txt\n",
      "374236\n",
      "gs://ds-url-catag/Emails_verifalia/indonesian_emails/part-00029-1cc70721-cc6f-4e7a-ad62-520c4bdd8cb5-c000.txt\n",
      "374236\n",
      "gs://ds-url-catag/Emails_verifalia/indonesian_emails/part-00030-1cc70721-cc6f-4e7a-ad62-520c4bdd8cb5-c000.txt\n",
      "374236\n",
      "gs://ds-url-catag/Emails_verifalia/indonesian_emails/part-00031-1cc70721-cc6f-4e7a-ad62-520c4bdd8cb5-c000.txt\n",
      "374236\n",
      "gs://ds-url-catag/Emails_verifalia/indonesian_emails/part-00032-1cc70721-cc6f-4e7a-ad62-520c4bdd8cb5-c000.txt\n",
      "374236\n",
      "gs://ds-url-catag/Emails_verifalia/indonesian_emails/part-00033-1cc70721-cc6f-4e7a-ad62-520c4bdd8cb5-c000.txt\n",
      "374236\n",
      "gs://ds-url-catag/Emails_verifalia/indonesian_emails/part-00034-1cc70721-cc6f-4e7a-ad62-520c4bdd8cb5-c000.txt\n",
      "374236\n",
      "gs://ds-url-catag/Emails_verifalia/indonesian_emails/part-00035-1cc70721-cc6f-4e7a-ad62-520c4bdd8cb5-c000.txt\n",
      "374237\n",
      "gs://ds-url-catag/Emails_verifalia/indonesian_emails/part-00036-1cc70721-cc6f-4e7a-ad62-520c4bdd8cb5-c000.txt\n",
      "374237\n",
      "gs://ds-url-catag/Emails_verifalia/indonesian_emails/part-00037-1cc70721-cc6f-4e7a-ad62-520c4bdd8cb5-c000.txt\n",
      "374237\n",
      "gs://ds-url-catag/Emails_verifalia/indonesian_emails/part-00038-1cc70721-cc6f-4e7a-ad62-520c4bdd8cb5-c000.txt\n",
      "374237\n",
      "gs://ds-url-catag/Emails_verifalia/indonesian_emails/part-00039-1cc70721-cc6f-4e7a-ad62-520c4bdd8cb5-c000.txt\n",
      "374237\n",
      "gs://ds-url-catag/Emails_verifalia/indonesian_emails/part-00040-1cc70721-cc6f-4e7a-ad62-520c4bdd8cb5-c000.txt\n",
      "374237\n",
      "gs://ds-url-catag/Emails_verifalia/indonesian_emails/part-00041-1cc70721-cc6f-4e7a-ad62-520c4bdd8cb5-c000.txt\n",
      "374237\n",
      "gs://ds-url-catag/Emails_verifalia/indonesian_emails/part-00042-1cc70721-cc6f-4e7a-ad62-520c4bdd8cb5-c000.txt\n",
      "374237\n",
      "gs://ds-url-catag/Emails_verifalia/indonesian_emails/part-00043-1cc70721-cc6f-4e7a-ad62-520c4bdd8cb5-c000.txt\n",
      "374237\n",
      "gs://ds-url-catag/Emails_verifalia/indonesian_emails/part-00044-1cc70721-cc6f-4e7a-ad62-520c4bdd8cb5-c000.txt\n",
      "374237\n",
      "gs://ds-url-catag/Emails_verifalia/indonesian_emails/part-00045-1cc70721-cc6f-4e7a-ad62-520c4bdd8cb5-c000.txt\n",
      "374237\n",
      "gs://ds-url-catag/Emails_verifalia/indonesian_emails/part-00046-1cc70721-cc6f-4e7a-ad62-520c4bdd8cb5-c000.txt\n",
      "374237\n",
      "gs://ds-url-catag/Emails_verifalia/indonesian_emails/part-00047-1cc70721-cc6f-4e7a-ad62-520c4bdd8cb5-c000.txt\n",
      "374237\n",
      "gs://ds-url-catag/Emails_verifalia/indonesian_emails/part-00048-1cc70721-cc6f-4e7a-ad62-520c4bdd8cb5-c000.txt\n",
      "374236\n",
      "gs://ds-url-catag/Emails_verifalia/indonesian_emails/part-00049-1cc70721-cc6f-4e7a-ad62-520c4bdd8cb5-c000.txt\n",
      "374236\n",
      "gs://ds-url-catag/Emails_verifalia/indonesian_emails/part-00050-1cc70721-cc6f-4e7a-ad62-520c4bdd8cb5-c000.txt\n",
      "374236\n",
      "gs://ds-url-catag/Emails_verifalia/indonesian_emails/part-00051-1cc70721-cc6f-4e7a-ad62-520c4bdd8cb5-c000.txt\n",
      "374236\n",
      "gs://ds-url-catag/Emails_verifalia/indonesian_emails/part-00052-1cc70721-cc6f-4e7a-ad62-520c4bdd8cb5-c000.txt\n",
      "374236\n",
      "gs://ds-url-catag/Emails_verifalia/indonesian_emails/part-00053-1cc70721-cc6f-4e7a-ad62-520c4bdd8cb5-c000.txt\n",
      "374236\n",
      "gs://ds-url-catag/Emails_verifalia/indonesian_emails/part-00054-1cc70721-cc6f-4e7a-ad62-520c4bdd8cb5-c000.txt\n",
      "374236\n",
      "gs://ds-url-catag/Emails_verifalia/indonesian_emails/part-00055-1cc70721-cc6f-4e7a-ad62-520c4bdd8cb5-c000.txt\n",
      "374236\n",
      "gs://ds-url-catag/Emails_verifalia/indonesian_emails/part-00056-1cc70721-cc6f-4e7a-ad62-520c4bdd8cb5-c000.txt\n",
      "374236\n",
      "gs://ds-url-catag/Emails_verifalia/indonesian_emails/part-00057-1cc70721-cc6f-4e7a-ad62-520c4bdd8cb5-c000.txt\n",
      "374236\n",
      "gs://ds-url-catag/Emails_verifalia/indonesian_emails/part-00058-1cc70721-cc6f-4e7a-ad62-520c4bdd8cb5-c000.txt\n",
      "374236\n",
      "gs://ds-url-catag/Emails_verifalia/indonesian_emails/part-00059-1cc70721-cc6f-4e7a-ad62-520c4bdd8cb5-c000.txt\n",
      "374236\n",
      "gs://ds-url-catag/Emails_verifalia/indonesian_emails/part-00060-1cc70721-cc6f-4e7a-ad62-520c4bdd8cb5-c000.txt\n",
      "374236\n",
      "gs://ds-url-catag/Emails_verifalia/indonesian_emails/part-00061-1cc70721-cc6f-4e7a-ad62-520c4bdd8cb5-c000.txt\n",
      "374237\n",
      "gs://ds-url-catag/Emails_verifalia/indonesian_emails/part-00062-1cc70721-cc6f-4e7a-ad62-520c4bdd8cb5-c000.txt\n",
      "374237\n",
      "gs://ds-url-catag/Emails_verifalia/indonesian_emails/part-00063-1cc70721-cc6f-4e7a-ad62-520c4bdd8cb5-c000.txt\n",
      "374238\n",
      "gs://ds-url-catag/Emails_verifalia/indonesian_emails/part-00064-1cc70721-cc6f-4e7a-ad62-520c4bdd8cb5-c000.txt\n",
      "374238\n",
      "gs://ds-url-catag/Emails_verifalia/indonesian_emails/part-00065-1cc70721-cc6f-4e7a-ad62-520c4bdd8cb5-c000.txt\n",
      "374238\n",
      "gs://ds-url-catag/Emails_verifalia/indonesian_emails/part-00066-1cc70721-cc6f-4e7a-ad62-520c4bdd8cb5-c000.txt\n",
      "374238\n",
      "gs://ds-url-catag/Emails_verifalia/indonesian_emails/part-00067-1cc70721-cc6f-4e7a-ad62-520c4bdd8cb5-c000.txt\n",
      "374238\n",
      "gs://ds-url-catag/Emails_verifalia/indonesian_emails/part-00068-1cc70721-cc6f-4e7a-ad62-520c4bdd8cb5-c000.txt\n",
      "374238\n",
      "gs://ds-url-catag/Emails_verifalia/indonesian_emails/part-00069-1cc70721-cc6f-4e7a-ad62-520c4bdd8cb5-c000.txt\n",
      "374238\n",
      "gs://ds-url-catag/Emails_verifalia/indonesian_emails/part-00070-1cc70721-cc6f-4e7a-ad62-520c4bdd8cb5-c000.txt\n"
     ]
    },
    {
     "name": "stdout",
     "output_type": "stream",
     "text": [
      "374237\n",
      "gs://ds-url-catag/Emails_verifalia/indonesian_emails/part-00071-1cc70721-cc6f-4e7a-ad62-520c4bdd8cb5-c000.txt\n",
      "374237\n",
      "gs://ds-url-catag/Emails_verifalia/indonesian_emails/part-00072-1cc70721-cc6f-4e7a-ad62-520c4bdd8cb5-c000.txt\n",
      "374237\n",
      "gs://ds-url-catag/Emails_verifalia/indonesian_emails/part-00073-1cc70721-cc6f-4e7a-ad62-520c4bdd8cb5-c000.txt\n",
      "374237\n",
      "gs://ds-url-catag/Emails_verifalia/indonesian_emails/part-00074-1cc70721-cc6f-4e7a-ad62-520c4bdd8cb5-c000.txt\n",
      "374237\n",
      "gs://ds-url-catag/Emails_verifalia/indonesian_emails/part-00075-1cc70721-cc6f-4e7a-ad62-520c4bdd8cb5-c000.txt\n",
      "374237\n",
      "gs://ds-url-catag/Emails_verifalia/indonesian_emails/part-00076-1cc70721-cc6f-4e7a-ad62-520c4bdd8cb5-c000.txt\n",
      "374237\n",
      "gs://ds-url-catag/Emails_verifalia/indonesian_emails/part-00077-1cc70721-cc6f-4e7a-ad62-520c4bdd8cb5-c000.txt\n",
      "374237\n",
      "gs://ds-url-catag/Emails_verifalia/indonesian_emails/part-00078-1cc70721-cc6f-4e7a-ad62-520c4bdd8cb5-c000.txt\n",
      "374237\n",
      "gs://ds-url-catag/Emails_verifalia/indonesian_emails/part-00079-1cc70721-cc6f-4e7a-ad62-520c4bdd8cb5-c000.txt\n",
      "374237\n",
      "gs://ds-url-catag/Emails_verifalia/indonesian_emails/part-00080-1cc70721-cc6f-4e7a-ad62-520c4bdd8cb5-c000.txt\n",
      "374237\n",
      "gs://ds-url-catag/Emails_verifalia/indonesian_emails/part-00081-1cc70721-cc6f-4e7a-ad62-520c4bdd8cb5-c000.txt\n",
      "374237\n",
      "gs://ds-url-catag/Emails_verifalia/indonesian_emails/part-00082-1cc70721-cc6f-4e7a-ad62-520c4bdd8cb5-c000.txt\n",
      "374237\n",
      "gs://ds-url-catag/Emails_verifalia/indonesian_emails/part-00083-1cc70721-cc6f-4e7a-ad62-520c4bdd8cb5-c000.txt\n",
      "374237\n",
      "gs://ds-url-catag/Emails_verifalia/indonesian_emails/part-00084-1cc70721-cc6f-4e7a-ad62-520c4bdd8cb5-c000.txt\n",
      "374237\n",
      "gs://ds-url-catag/Emails_verifalia/indonesian_emails/part-00085-1cc70721-cc6f-4e7a-ad62-520c4bdd8cb5-c000.txt\n",
      "374237\n",
      "gs://ds-url-catag/Emails_verifalia/indonesian_emails/part-00086-1cc70721-cc6f-4e7a-ad62-520c4bdd8cb5-c000.txt\n",
      "374238\n",
      "gs://ds-url-catag/Emails_verifalia/indonesian_emails/part-00087-1cc70721-cc6f-4e7a-ad62-520c4bdd8cb5-c000.txt\n",
      "374238\n",
      "gs://ds-url-catag/Emails_verifalia/indonesian_emails/part-00088-1cc70721-cc6f-4e7a-ad62-520c4bdd8cb5-c000.txt\n",
      "374239\n",
      "gs://ds-url-catag/Emails_verifalia/indonesian_emails/part-00089-1cc70721-cc6f-4e7a-ad62-520c4bdd8cb5-c000.txt\n",
      "374239\n",
      "gs://ds-url-catag/Emails_verifalia/indonesian_emails/part-00090-1cc70721-cc6f-4e7a-ad62-520c4bdd8cb5-c000.txt\n",
      "374238\n",
      "gs://ds-url-catag/Emails_verifalia/indonesian_emails/part-00091-1cc70721-cc6f-4e7a-ad62-520c4bdd8cb5-c000.txt\n",
      "374238\n",
      "gs://ds-url-catag/Emails_verifalia/indonesian_emails/part-00092-1cc70721-cc6f-4e7a-ad62-520c4bdd8cb5-c000.txt\n",
      "374237\n",
      "gs://ds-url-catag/Emails_verifalia/indonesian_emails/part-00093-1cc70721-cc6f-4e7a-ad62-520c4bdd8cb5-c000.txt\n",
      "374237\n",
      "gs://ds-url-catag/Emails_verifalia/indonesian_emails/part-00094-1cc70721-cc6f-4e7a-ad62-520c4bdd8cb5-c000.txt\n",
      "374237\n",
      "gs://ds-url-catag/Emails_verifalia/indonesian_emails/part-00095-1cc70721-cc6f-4e7a-ad62-520c4bdd8cb5-c000.txt\n",
      "374237\n",
      "gs://ds-url-catag/Emails_verifalia/indonesian_emails/part-00096-1cc70721-cc6f-4e7a-ad62-520c4bdd8cb5-c000.txt\n",
      "374237\n",
      "gs://ds-url-catag/Emails_verifalia/indonesian_emails/part-00097-1cc70721-cc6f-4e7a-ad62-520c4bdd8cb5-c000.txt\n",
      "374237\n",
      "gs://ds-url-catag/Emails_verifalia/indonesian_emails/part-00098-1cc70721-cc6f-4e7a-ad62-520c4bdd8cb5-c000.txt\n",
      "374237\n",
      "gs://ds-url-catag/Emails_verifalia/indonesian_emails/part-00099-1cc70721-cc6f-4e7a-ad62-520c4bdd8cb5-c000.txt\n",
      "374237\n"
     ]
    }
   ],
   "source": [
    "for i in range(0,100):\n",
    "    if i < 10:\n",
    "        path = \"gs://ds-url-catag/Emails_verifalia/indonesian_emails/part-0000\"+str(i)+\"-1cc70721-cc6f-4e7a-ad62-520c4bdd8cb5-c000.txt\"\n",
    "        testing = sc.textFile(path).map(lambda line: line.split(\",\")).toDF(['emailids'])\n",
    "        print path\n",
    "        print testing.count()\n",
    "    else:\n",
    "        path = \"gs://ds-url-catag/Emails_verifalia/indonesian_emails/part-000\"+str(i)+\"-1cc70721-cc6f-4e7a-ad62-520c4bdd8cb5-c000.txt\"\n",
    "        testing = sc.textFile(path).map(lambda line: line.split(\",\")).toDF(['emailids'])\n",
    "        print path\n",
    "        print testing.count()\n",
    "        "
   ]
  },
  {
   "cell_type": "code",
   "execution_count": 39,
   "metadata": {},
   "outputs": [],
   "source": [
    "testing = sc.textFile(\"gs://ds-url-catag/Emails_verifalia/indonesian_emails/part-00000-1cc70721-cc6f-4e7a-ad62-520c4bdd8cb5-c000.txt\").map(lambda line: line.split(\",\")).toDF(['emailids'])"
   ]
  },
  {
   "cell_type": "code",
   "execution_count": 40,
   "metadata": {},
   "outputs": [
    {
     "data": {
      "text/plain": [
       "37423680"
      ]
     },
     "execution_count": 40,
     "metadata": {},
     "output_type": "execute_result"
    }
   ],
   "source": [
    "testing.count()"
   ]
  },
  {
   "cell_type": "code",
   "execution_count": 1,
   "metadata": {},
   "outputs": [],
   "source": [
    "from pyspark.sql import SparkSession\n",
    "\n",
    "spark = SparkSession.builder.appName(\"Python Spark SQL basic example\").getOrCreate()"
   ]
  },
  {
   "cell_type": "code",
   "execution_count": 22,
   "metadata": {},
   "outputs": [],
   "source": [
    "email_csv = spark.read.option(\"header\",\"true\").csv(\"gs://ds-url-catag/Emails_verifalia/ID_email_results/part18.csv\")"
   ]
  },
  {
   "cell_type": "code",
   "execution_count": 23,
   "metadata": {},
   "outputs": [],
   "source": [
    "email_csv.select('InputData','ResultStatus').coalesce(1).write.mode('overwrite').csv(\"gs://ds-url-catag/check/part18\")"
   ]
  },
  {
   "cell_type": "code",
   "execution_count": null,
   "metadata": {},
   "outputs": [],
   "source": []
  }
 ],
 "metadata": {
  "kernelspec": {
   "display_name": "PySpark",
   "language": "python",
   "name": "python2"
  },
  "language_info": {
   "codemirror_mode": {
    "name": "ipython",
    "version": 2
   },
   "file_extension": ".py",
   "mimetype": "text/x-python",
   "name": "python",
   "nbconvert_exporter": "python",
   "pygments_lexer": "ipython2",
   "version": "2.7.9"
  }
 },
 "nbformat": 4,
 "nbformat_minor": 2
}

{
 "cells": [
  {
   "cell_type": "code",
   "execution_count": null,
   "metadata": {
    "collapsed": true
   },
   "outputs": [],
   "source": [
    "df = spark.read.parquet(\"gs://bbm-labs-ds-news/bbm-news-with-content.parquet\")\n",
    "# print df.count()"
   ]
  },
  {
   "cell_type": "code",
   "execution_count": null,
   "metadata": {
    "collapsed": true
   },
   "outputs": [],
   "source": []
  },
  {
   "cell_type": "code",
   "execution_count": 10,
   "metadata": {},
   "outputs": [],
   "source": [
    "# insert into elastic search\n",
    "df.write.format(\"org.elasticsearch.spark.sql\")\\\n",
    "    .option(\"es.nodes\",\"elasticsearch-1-vm,elasticsearch-2-vm, elasticsearch-3-vm\")\\\n",
    "    .option(\"es.resource\",\"bbmnews/article\")\\\n",
    "    .option(\"es.mapping.id\", \"article_id\")\\\n",
    "    .save()"
   ]
  },
  {
   "cell_type": "code",
   "execution_count": 4,
   "metadata": {},
   "outputs": [
    {
     "name": "stdout",
     "output_type": "stream",
     "text": [
      "+--------------------+--------------------+--------------+------------+----------+-----------+--------------------+--------------------+--------------------+--------+\n",
      "|                date|         article_url|publisher_name|channel_name|article_id|total_views|               title|       image_caption|             content|language|\n",
      "+--------------------+--------------------+--------------+------------+----------+-----------+--------------------+--------------------+--------------------+--------+\n",
      "|2017-08-11 00:00:...|https://news.bbme...|  Liputan6.com|        Home|    232938|          3|5 Resep Praktis B...|5 resep jajanan i...|Membawakan bekal ...|      id|\n",
      "+--------------------+--------------------+--------------+------------+----------+-----------+--------------------+--------------------+--------------------+--------+\n",
      "only showing top 1 row\n",
      "\n"
     ]
    }
   ],
   "source": [
    "# df.show(1)"
   ]
  },
  {
   "cell_type": "code",
   "execution_count": 29,
   "metadata": {},
   "outputs": [],
   "source": [
    "import json\n",
    "\n",
    "# query from elastic search\n",
    "q =\"\"\"{ \n",
    "        \"min_score\": 0.7,\n",
    "        \"query\":{\n",
    "            \"dis_max\": {\n",
    "                \"queries\":[\n",
    "                {\n",
    "                    \"multi_match\" : {\n",
    "                        \"fields\":[\"article_url\",\"title\",\"image_caption\",\"content\"],\n",
    "                        \"query\" : \"makan makanan masak Kater resep tukang roti kue teh curry arsik hotel kafe restoran goreng nasi sate sambal ayam mie\",\n",
    "                        \"type\":\"most_fields\",\n",
    "                        \"analyzer\": \"standard\"\n",
    "                        }\n",
    "                    \n",
    "                },\n",
    "                {\n",
    "                    \"query_string\": {\n",
    "                            \"fields\":[\"article_url\",\"title\",\"image_caption\",\"content\"],\n",
    "                            \"query\": \"rumah makan OR juru masak\"        \n",
    "                            }\n",
    "                }\n",
    "            ]\n",
    "        }\n",
    "    }\n",
    "}\"\"\"\n",
    "\n",
    "es_read_conf = {\n",
    "    \"es.nodes\" : \"elasticsearch-1-vm\",\n",
    "    \"es.port\" : \"9200\",\n",
    "    \"es.resource\" : \"bbmnews/article\",\n",
    "    \"es.query\" : q,\n",
    "    \"es.read.metadata\": \"true\"\n",
    "}\n",
    "\n",
    "es_rdd = sc.newAPIHadoopRDD(\n",
    "    inputFormatClass=\"org.elasticsearch.hadoop.mr.EsInputFormat\",\n",
    "    keyClass=\"org.apache.hadoop.io.NullWritable\", \n",
    "    valueClass=\"org.elasticsearch.hadoop.mr.LinkedMapWritable\", \n",
    "    conf=es_read_conf)\n",
    "\n",
    "new_df = sqlContext.createDataFrame(es_rdd)"
   ]
  },
  {
   "cell_type": "code",
   "execution_count": 30,
   "metadata": {},
   "outputs": [
    {
     "data": {
      "text/plain": [
       "41955"
      ]
     },
     "execution_count": 30,
     "metadata": {},
     "output_type": "execute_result"
    }
   ],
   "source": [
    "new_df.count()"
   ]
  },
  {
   "cell_type": "code",
   "execution_count": 16,
   "metadata": {},
   "outputs": [
    {
     "name": "stdout",
     "output_type": "stream",
     "text": [
      "+----------+----------------------------------------------------------------------------------------------------------------------------------------------------------------------------------------------------------------------------------------------------------------------------------------------------------------------------------------------------------------------------------------------------------------------------------------------------------------------------------------------------------------------------------------------------------------------------------------------------------------------------------------------------------------------------------------------------------------------------------------------------------------------------------------------------------------------------------------------------------------------------------------------------------------------------------------------------------------------------------------------------------------------------------------------------------------------------------------------------------------------------------------------------------------------------------------------------------------------------------------------------------------------------------------------------------------------------------------------------------------------------------------------------------------------------------------------------------------------------------------------------------------------------------------------------------------------------------------------------------------------------------------------------------------------------------------------------------------------------------------------------------------------------------------------------------------------------------------------------------------------------------------------------------------------------------------------------------------------------------------------------------------------------------------------------+\n",
      "|mapping_id|paramaters                                                                                                                                                                                                                                                                                                                                                                                                                                                                                                                                                                                                                                                                                                                                                                                                                                                                                                                                                                                                                                                                                                                                                                                                                                                                                                                                                                                                                                                                                                                                                                                                                                                                                                                                                                                                                                                                                                                                                                                                                                          |\n",
      "+----------+----------------------------------------------------------------------------------------------------------------------------------------------------------------------------------------------------------------------------------------------------------------------------------------------------------------------------------------------------------------------------------------------------------------------------------------------------------------------------------------------------------------------------------------------------------------------------------------------------------------------------------------------------------------------------------------------------------------------------------------------------------------------------------------------------------------------------------------------------------------------------------------------------------------------------------------------------------------------------------------------------------------------------------------------------------------------------------------------------------------------------------------------------------------------------------------------------------------------------------------------------------------------------------------------------------------------------------------------------------------------------------------------------------------------------------------------------------------------------------------------------------------------------------------------------------------------------------------------------------------------------------------------------------------------------------------------------------------------------------------------------------------------------------------------------------------------------------------------------------------------------------------------------------------------------------------------------------------------------------------------------------------------------------------------------+\n",
      "|157081    |Map(channel_name ->  Bisnis, article_url -> https://news.bbmessaging.com/id/bisnis/suara-com/articles/157081, total_views -> 2, _metadata -> {_type=article, _id=157081, _index=bbmnews, _score=0.0}, language -> id, date -> 2017-08-01 00:00:00 UTC, article_id -> 157081, image_caption -> Kantor Pusat BPS di Kawasan Pasar Baru, Jakarta Pusat, Senin (3/4/2017). [Suara.com/Adhitya Himawan], content -> \n",
      "Suara.com - Badan Pusat Statistik (BPS) menyatakan bahwa jumlah kunjungan wisatawan mancanegara atau wisman ke Indonesia April 2017 mengalami peningkatan. Kenaikan ini sebesar 26,75 persen dibanding jumlah kunjungan pada periode yang sama tahun sebelumnya.\n",
      "\"Dengan demikian, kunjungan wisatawan asing meningkat dari 901,09 ribu kunjungan menjadi 1,14 juta kunjungan. Begitupula jika dibandingkan dengan Maret 2017, mengalami kenaikan sebesar 7,09 persen,\" kata Kepala BPS, Suhariyanto, di Jakarta, Jumat (2/6/2017).\n",
      "Secara kumulatif (Januari–April) 2017, jumlah kunjungan wisman ke Indonesia mencapai 4,20 juta kunjungan. Capaian ini naik 19,34 persen dibandingkan dengan jumlah kunjungan wisman April 2016 yang berjumlah 3,52 juta kunjungan.\n",
      "Baca JugaBPS: Mei 2017 Terjadi Inflasi 0,39 PersenPemprov DKI Kerjasama dengan LAPAN dan BPSBPS: Inflasi Mei Diprediksi Lebih Tinggi Dibanding AprilDibanding April 2016, BPS Sebut Ekspor RI Naik 12,63 Persen\n",
      "Tingkat Penghunian Kamar (TPK) hotel klasifikasi bintang di Indonesia pada April 2017 mencapai rata-rata 55,14 persen atau naik 0,76 poin dibandingkan dengan TPK April 2016 yang tercatat sebesar 54,38 persen. Begitu pula jika dibanding TPK Maret 2017, TPK hotel klasifikasi bintang pada April 2017 naik 0,44 poin.\n",
      "Rata-rata lama menginap tamu asing dan Indonesia pada hotel klasifikasi bintang di Indonesia selama April 2017 tercatat sebesar 1,84 hari, terjadi penurunan 0,04 poin jika dibandingkan keadaan April 2016. , title -> BPS Sebut Kunjungan Turis Asing April 2017 Naik 26,75 Persen, publisher_name ->  Suara.com)|\n",
      "+----------+----------------------------------------------------------------------------------------------------------------------------------------------------------------------------------------------------------------------------------------------------------------------------------------------------------------------------------------------------------------------------------------------------------------------------------------------------------------------------------------------------------------------------------------------------------------------------------------------------------------------------------------------------------------------------------------------------------------------------------------------------------------------------------------------------------------------------------------------------------------------------------------------------------------------------------------------------------------------------------------------------------------------------------------------------------------------------------------------------------------------------------------------------------------------------------------------------------------------------------------------------------------------------------------------------------------------------------------------------------------------------------------------------------------------------------------------------------------------------------------------------------------------------------------------------------------------------------------------------------------------------------------------------------------------------------------------------------------------------------------------------------------------------------------------------------------------------------------------------------------------------------------------------------------------------------------------------------------------------------------------------------------------------------------------------+\n",
      "only showing top 1 row\n",
      "\n"
     ]
    }
   ],
   "source": [
    "new_df.show(1,False)"
   ]
  },
  {
   "cell_type": "code",
   "execution_count": 92,
   "metadata": {
    "collapsed": true
   },
   "outputs": [],
   "source": [
    "from pyspark.sql.functions import explode\n",
    "from pyspark.sql.functions import col\n",
    "\n",
    "keys = (new_df\n",
    "    .select(explode(\"paramaters\"))\n",
    "    .select(\"key\")\n",
    "    .distinct()\n",
    "    .rdd.flatMap(lambda x: x)\n",
    "    .collect())"
   ]
  },
  {
   "cell_type": "code",
   "execution_count": 94,
   "metadata": {
    "collapsed": true
   },
   "outputs": [],
   "source": [
    "exprs = [col(\"paramaters\").getItem(k).alias(k) for k in keys]\n",
    "data = new_df.select(*exprs)"
   ]
  },
  {
   "cell_type": "code",
   "execution_count": 96,
   "metadata": {},
   "outputs": [
    {
     "data": {
      "text/plain": [
       "41955"
      ]
     },
     "execution_count": 96,
     "metadata": {},
     "output_type": "execute_result"
    }
   ],
   "source": [
    "data.count()"
   ]
  },
  {
   "cell_type": "code",
   "execution_count": 109,
   "metadata": {
    "collapsed": true
   },
   "outputs": [],
   "source": [
    "data.write.parquet(\"gs://url_catag_data/data_process_code/results/es_res.parquet\")"
   ]
  },
  {
   "cell_type": "code",
   "execution_count": 110,
   "metadata": {
    "collapsed": true
   },
   "outputs": [],
   "source": [
    "testing = spark.read.parquet(\"gs://url_catag_data/data_process_code/results/es_res.parquet\")"
   ]
  },
  {
   "cell_type": "code",
   "execution_count": 111,
   "metadata": {},
   "outputs": [
    {
     "name": "stdout",
     "output_type": "stream",
     "text": [
      "+--------------------+--------------------+----------+--------------------+--------------------+--------+-----------------+------------+-----------+--------------------+\n",
      "|               title|             content|article_id|       image_caption|                date|language|   publisher_name|channel_name|total_views|         article_url|\n",
      "+--------------------+--------------------+----------+--------------------+--------------------+--------+-----------------+------------+-----------+--------------------+\n",
      "|FOTO: Yuk Intip B...|Mel Gibson baru s...|    269417|FOTO: Yuk Intip B...|2017-08-09 00:00:...|      id|        Kapanlagi|     Hiburan|         89|https://news.bbme...|\n",
      "|Liga 2: Melcior H...|PSIS Semarang pes...|    284146|Partai PPSM vs PS...|2017-08-16 00:00:...|      id|         Bola.com|       Sport|         84|https://news.bbme...|\n",
      "|Untuk Kali Kedua,...|\n",
      "\n",
      "\n",
      "\n",
      "\n",
      "\n",
      "\n",
      "\n",
      "\n",
      "\n",
      "\n",
      "\n",
      " Untu...|    143511|Salah satu penyer...|2017-07-16 00:00:...|      id|        Juara.net|       Sport|          3|https://news.bbme...|\n",
      "|Penertiban di kom...|Ratusan personel ...|    132579|Penertiban di kom...|2017-07-17 00:00:...|      id|      Merdeka.com|        News|          3|https://news.bbme...|\n",
      "| Kiat Aman Berena...|\n",
      "Saat berenang be...|    250397|\n",
      "Perenang Indones...|2017-07-28 00:00:...|      id|         Tempo.co|   Lifestyle|          3|https://news.bbme...|\n",
      "|Tabung elpiji mel...|Gara-gara tabung ...|     53687|Tabung elpiji mel...|2017-07-19 00:00:...|      id|      Merdeka.com|        News|          3|https://news.bbme...|\n",
      "|Kisah Masa Kecil ...|\n",
      "\n",
      "\n",
      "\n",
      "\n",
      "\n",
      "\n",
      "\n",
      "\n",
      "\n",
      "\n",
      "\n",
      " Kisa...|    216025|Daniele Padelli d...|2017-07-09 00:00:...|      id|        Juara.net|       Sport|        136|https://news.bbme...|\n",
      "|Shandy Aulia Pasr...|Meski sudah lama ...|    252641|Shandy Aulia belu...|2017-07-30 00:00:...|      id|      Bintang.com|     Hiburan|        127|https://news.bbme...|\n",
      "|Bukan Adegan Pana...|Jagat K-pop belak...|    204833|Kim Soo Hyun. fot...|2017-07-02 00:00:...|      id|     Liputan6.com|     Hiburan|        117|https://news.bbme...|\n",
      "|Restoran Cepat Sa...| Apa yang akan te...|    252620|Restoran Cepat Sa...|2017-07-30 00:00:...|      id|     IDNTimes.com|     Hiburan|        106|https://news.bbme...|\n",
      "|Detik-Detik Pengg...|Aparat Polda Metr...|    252686|Total ada sebanya...|2017-07-30 00:00:...|      id|     Liputan6.com|        News|        105|https://news.bbme...|\n",
      "|Keluarga Korban T...|Keluarga salah sa...|    177621|Kondisi dari gerb...|2017-07-12 00:00:...|      id|     Liputan6.com|        News|        104|https://news.bbme...|\n",
      "|Berita Liga 1 Ind...|Ligaolahraga -- B...|    151050|Berita Liga 1 Ind...|2017-07-22 00:00:...|      id| Ligaolahraga.com|       Sport|          3|https://news.bbme...|\n",
      "|Sapi hingga Ontel...|Panitia Dieng Cul...|    251936|Rambut gimbal ini...|2017-08-04 00:00:...|      id|     Liputan6.com|        Home|          3|https://news.bbme...|\n",
      "|Mixology, Kombina...|Bagaimana rasanya...|     58037|Kuliner Mixology ...|2017-07-07 00:00:...|      id|     Liputan6.com|        Home|          3|https://news.bbme...|\n",
      "|Rayakan 1 Dekade,...|Menu yang nikmat ...|    138599|Restoran Pancious...|2017-07-30 00:00:...|      id|     Liputan6.com|        Home|          3|https://news.bbme...|\n",
      "|KPK Ancam Jemput ...|Ali Fahmi sudah d...|     91280|Ilustrasi KPK (AF...|2017-07-10 00:00:...|      id|     Liputan6.com|        News|          2|https://news.bbme...|\n",
      "|Indonesia Pastika...|\n",
      "\n",
      "\n",
      "\n",
      "\n",
      "\n",
      "\n",
      "\n",
      "\n",
      "\n",
      "\n",
      "\n",
      " Indo...|    227006|Pasangan ganda ca...|2017-07-15 00:00:...|      id|        Juara.net|       Sport|        199|https://news.bbme...|\n",
      "|Kalapas Nusakamba...|Kepala Lapas Nusa...|    259515|Kalapas Nusakamba...|2017-08-03 00:00:...|      id|      Merdeka.com|        News|        155|https://news.bbme...|\n",
      "|Jelajah Hutan Bat...|Selain pantai, Su...|     43484|Hutan Batu, Pangk...|2017-08-04 00:00:...|      id|      Bintang.com|        Home|          3|https://news.bbme...|\n",
      "+--------------------+--------------------+----------+--------------------+--------------------+--------+-----------------+------------+-----------+--------------------+\n",
      "only showing top 20 rows\n",
      "\n"
     ]
    }
   ],
   "source": [
    "testing.show()"
   ]
  }
 ],
 "metadata": {
  "kernelspec": {
   "display_name": "PySpark",
   "language": "python",
   "name": "python2"
  },
  "language_info": {
   "codemirror_mode": {
    "name": "ipython",
    "version": 2
   },
   "file_extension": ".py",
   "mimetype": "text/x-python",
   "name": "python",
   "nbconvert_exporter": "python",
   "pygments_lexer": "ipython2",
   "version": "2.7.9"
  }
 },
 "nbformat": 4,
 "nbformat_minor": 2
}

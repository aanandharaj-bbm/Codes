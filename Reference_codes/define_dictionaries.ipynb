{
 "cells": [
  {
   "cell_type": "code",
   "execution_count": 1,
   "metadata": {
    "collapsed": true
   },
   "outputs": [],
   "source": [
    "path='/root/notebooks/words.txt'\n",
    "dict_words = open(path,\"r\").read().split(\"\\n\")"
   ]
  },
  {
   "cell_type": "code",
   "execution_count": 7,
   "metadata": {
    "collapsed": true
   },
   "outputs": [],
   "source": [
    "#sorting the dictionary and writing\n",
    "new_dictwords = sorted(dict_words,key=len,reverse= True)\n",
    "abb_path = '/root/notebooks/abbreviations.txt'\n",
    "normword_path = '/root/notebooks/new_dictwords.txt'\n",
    "f = open(abb_path,\"w+\")\n",
    "f1 = open(normword_path,\"w+\")\n",
    "for word in new_dictwords:\n",
    "    if word.isupper():\n",
    "        f.write(word + '\\n')\n",
    "    else:\n",
    "        f1.write(word + '\\n')\n",
    "f.close()\n",
    "f1.close()\n"
   ]
  },
  {
   "cell_type": "code",
   "execution_count": 6,
   "metadata": {
    "collapsed": true
   },
   "outputs": [],
   "source": [
    "#only for testing purposes\n",
    "normword_path = '/root/notebooks/new_dictwords.txt'\n",
    "f1 = open(normword_path,\"w+\")\n",
    "f1.write('Returns'+ '\\n')\n",
    "f1.write('is'+ '\\n')\n",
    "f1.close()\n"
   ]
  },
  {
   "cell_type": "code",
   "execution_count": 47,
   "metadata": {
    "collapsed": true
   },
   "outputs": [],
   "source": [
    "#testing python program for adjoining words\n",
    "\n",
    "dict_words = open('/root/notebooks/new_dictwords.txt',\"r\").read()\n",
    "after_adjoined = ''\n",
    "wrong_text = ')'\n",
    "tags = st.tag('Returnsis JC'.split())\n",
    "for tag in tags:\n",
    "    print (tag)\n",
    "    if tag[1]=='PERSON': \n",
    "        s6 = tag[0]\n",
    "        flag = 'True'\n",
    "    elif tag[0].isupper():\n",
    "        abbreviations = tag[0]\n",
    "        if tag[0] in abbreviations.split(\"\\n\"):\n",
    "            s6 = tag[0]\n",
    "            flag = 'True'\n",
    "        else:\n",
    "            len_text = len(tag[0])\n",
    "            flag = 'False'\n",
    "            len_text = len(tag[0])\n",
    "            for i in range(1,len_text):\n",
    "                if tag[0][0:i].lower() in abbreviations.split():\n",
    "                    new_text = tag[0][0:i]\n",
    "                    if new_text.lower() in abbreviations.split():\n",
    "                        s6 = tag[0:i] + \" \" + tag[i:]\n",
    "                        flag = 'True'       \n",
    "    elif tag[0].lower() in dict_words.lower().split():\n",
    "        s6 = tag[0]\n",
    "        flag = 'True'\n",
    "    else:\n",
    "        flag = 'False'\n",
    "        len_text = len(tag[0])\n",
    "        new_text = tag[0]\n",
    "        print (new_text)\n",
    "        print (len_text)\n",
    "        print (\"here\")\n",
    "        for i in range(1,len_text):\n",
    "            condition = 'False'\n",
    "            print (i)\n",
    "            print (tag[0][0:i].lower())\n",
    "            if tag[0][0:i].lower() in dict_words.lower().split():\n",
    "                    s6 = tag[0][0:i] + \" \" + tag[0][i:]\n",
    "                    flag = 'True'\n",
    "                    condition = 'True'\n",
    "                    print (condition)\n",
    "    if flag == 'True':\n",
    "        after_adjoined += s6 + ' '\n",
    "    else:\n",
    "        s6 = tag[0]\n",
    "        after_adjoined += s6 + ' '\n",
    "print (after_adjoined)"
   ]
  },
  {
   "cell_type": "code",
   "execution_count": null,
   "metadata": {
    "collapsed": true
   },
   "outputs": [],
   "source": [
    "dict_words = open('/root/notebooks/new_dictwords.txt',\"r\").read()\n",
    "after_adjoined = ''\n",
    "wrong_text = ')'\n",
    "tags = st.tag('2010 a is a returnsis'.split())\n",
    "cond = 'False'\n",
    "for tag in tags:\n",
    "    #print (tag)\n",
    "    if tag[1]=='PERSON': \n",
    "        s6 = tag[0]\n",
    "        flag = 'True'\n",
    "    if tag[0].isdigit(): \n",
    "        s6 = tag[0]\n",
    "        cond = 'True'\n",
    "        print (cond)\n",
    "    elif tag[0].isupper():\n",
    "        abbreviations = tag[0]\n",
    "        if tag[0] in abbreviations.split(\"\\n\"):\n",
    "            s6 = tag[0]\n",
    "            flag = 'True'\n",
    "        else:\n",
    "            len_text = len(tag[0])\n",
    "            flag = 'False'\n",
    "            len_text = len(tag[0])\n",
    "            for i in range(1,len_text):\n",
    "                if tag[0][0:i].lower() in abbreviations.split():\n",
    "                    new_text = tag[0][0:i]\n",
    "                    if new_text.lower() in abbreviations.split():\n",
    "                        s6 = tag[0:i] + \" \" + tag[i:]\n",
    "                        flag = 'True'       \n",
    "    elif tag[0].lower() in dict_words.lower().split():\n",
    "        s6 = tag[0]\n",
    "        flag = 'True'\n",
    "    else:\n",
    "        flag = 'False'\n",
    "        len_text = len(tag[0])\n",
    "        new_text = tag[0]\n",
    "        print (new_text)\n",
    "        print (len_text)\n",
    "        print (\"here\")\n",
    "        for i in range(1,len_text):\n",
    "            condition = 'False'\n",
    "            print (i)\n",
    "            print (tag[0][0:i].lower())\n",
    "            if tag[0][0:i].lower() in dict_words.lower().split():\n",
    "                    s6 = tag[0][0:i] + \" \" + tag[0][i:]\n",
    "                    flag = 'True'\n",
    "                    condition = 'True'\n",
    "                    print (condition)\n",
    "    if flag == 'True':\n",
    "        after_adjoined += s6 + ' '\n",
    "    else:\n",
    "        s6 = tag[0]\n",
    "        after_adjoined += s6 + ' '\n",
    "print (after_adjoined)"
   ]
  },
  {
   "cell_type": "code",
   "execution_count": null,
   "metadata": {
    "collapsed": true
   },
   "outputs": [],
   "source": [
    "import nltk.corpus."
   ]
  }
 ],
 "metadata": {
  "kernelspec": {
   "display_name": "PySpark",
   "language": "python",
   "name": "python2"
  },
  "language_info": {
   "codemirror_mode": {
    "name": "ipython",
    "version": 2
   },
   "file_extension": ".py",
   "mimetype": "text/x-python",
   "name": "python",
   "nbconvert_exporter": "python",
   "pygments_lexer": "ipython2",
   "version": "2.7.9"
  }
 },
 "nbformat": 4,
 "nbformat_minor": 2
}

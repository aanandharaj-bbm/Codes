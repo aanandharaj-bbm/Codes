{
 "cells": [
  {
   "cell_type": "code",
   "execution_count": 1,
   "metadata": {},
   "outputs": [],
   "source": [
    "from pyspark import SparkConf, SparkContext\n",
    "from pyspark.sql.functions import *\n",
    "sc.stop()\n",
    "from pyspark.sql import SQLContext\n",
    "conf = SparkConf().setAppName(\"App\")\n",
    "conf = (conf.set('spark.driver.memory', '60G').set(\"spark.yarn.executor.memoryOverhead\", '4096'))\n",
    "sc =SparkContext(conf=conf)\n",
    "sqlContext = SQLContext(sc)\n",
    "import pyspark.sql.functions as func\n",
    "import sys\n",
    "from pyspark.sql.functions import countDistinct"
   ]
  },
  {
   "cell_type": "code",
   "execution_count": 2,
   "metadata": {},
   "outputs": [],
   "source": [
    "#reading in sticker type data\n",
    "feature_data = sqlContext.read.parquet(\"gs://ds-url-catag/stick_statistics/derived_features/\")\n"
   ]
  },
  {
   "cell_type": "code",
   "execution_count": 3,
   "metadata": {},
   "outputs": [],
   "source": [
    "#convert pyspark to pandas dataframe\n",
    "import pandas as pd\n",
    "import pyarrow.parquet as pq\n",
    "feature_data_df  = feature_data.toPandas()"
   ]
  },
  {
   "cell_type": "code",
   "execution_count": 4,
   "metadata": {},
   "outputs": [
    {
     "name": "stdout",
     "output_type": "stream",
     "text": [
      "Size of the dataframe: (7495040, 9)\n"
     ]
    }
   ],
   "source": [
    "#checking size of dataframe\n",
    "print 'Size of the dataframe: {}'.format(feature_data_df.shape)"
   ]
  },
  {
   "cell_type": "code",
   "execution_count": 5,
   "metadata": {},
   "outputs": [],
   "source": [
    "#logarithmic transformation of two different variables\n",
    "import numpy as np\n",
    "feature_data_df['log_noofdays']=np.log10(1+feature_data_df.numofdays)\n",
    "feature_data_df['log_avg_con_days']=np.log10(1+feature_data_df.avg_con_days)\n",
    "feature_data_df['log_sticker_packs_sent']=np.log10(1+feature_data_df.sticker_packs_sent)\n",
    "feature_data_df['log_distinct_sticker_packs_sent']=np.log10(1+feature_data_df.distinct_sticker_packs_sent)\n",
    "feature_data_df['log_sum_paid']=np.log10(1+feature_data_df.sum_paid)\n",
    "feature_data_df['log_sum_free']=np.log10(1+feature_data_df.sum_free)\n",
    "feature_data_df['log_sum_subs']=np.log10(1+feature_data_df.sum_subs)\n",
    "feature_data_df['log_sum_discont']=np.log10(1+feature_data_df.sum_discont)\n"
   ]
  },
  {
   "cell_type": "code",
   "execution_count": 6,
   "metadata": {},
   "outputs": [
    {
     "name": "stdout",
     "output_type": "stream",
     "text": [
      "Explained variation per principal component: [  8.46172910e-01   6.66238711e-02   5.91211599e-02   1.92696980e-02\n",
      "   4.88561740e-03   3.16695632e-03   7.46680208e-04   1.31073945e-05]\n"
     ]
    }
   ],
   "source": [
    "#computing PCA\n",
    "from sklearn.decomposition import PCA\n",
    "pca = PCA(n_components=8)\n",
    "pca_result = pca.fit_transform(feature_data_df[['log_noofdays','log_avg_con_days','log_sticker_packs_sent','log_distinct_sticker_packs_sent','log_sum_paid','log_sum_free','log_sum_subs','log_sum_discont']].values)\n",
    "\n",
    "feature_data_df['pca-one'] = pca_result[:,0]\n",
    "feature_data_df['pca-two'] = pca_result[:,1] \n",
    "feature_data_df['pca-three'] = pca_result[:,2]\n",
    "feature_data_df['pca-four'] = pca_result[:,3]\n",
    "feature_data_df['pca-five'] = pca_result[:,4]\n",
    "feature_data_df['pca-six'] = pca_result[:,5]\n",
    "feature_data_df['pca-seven'] = pca_result[:,6]\n",
    "feature_data_df['pca-eight'] = pca_result[:,7]\n",
    "\n",
    "\n",
    "print 'Explained variation per principal component: {}'.format(pca.explained_variance_ratio_)\n"
   ]
  },
  {
   "cell_type": "code",
   "execution_count": 7,
   "metadata": {},
   "outputs": [],
   "source": [
    "from sklearn.cluster import KMeans\n",
    "kmeans = KMeans(n_clusters=9)\n",
    "model = kmeans.fit(feature_data_df[['pca-one','pca-two','pca-three','pca-four','pca-five','pca-six','pca-seven']])\n",
    "y_kmeans = kmeans.predict(feature_data_df[['pca-one','pca-two','pca-three','pca-four','pca-five','pca-six','pca-seven']])\n",
    "centers = kmeans.cluster_centers_"
   ]
  },
  {
   "cell_type": "code",
   "execution_count": 8,
   "metadata": {},
   "outputs": [],
   "source": [
    "feature_data_df['clusters'] =  kmeans.labels_"
   ]
  },
  {
   "cell_type": "code",
   "execution_count": 9,
   "metadata": {},
   "outputs": [],
   "source": [
    "original_data = sqlContext.createDataFrame(feature_data_df)"
   ]
  },
  {
   "cell_type": "code",
   "execution_count": 10,
   "metadata": {},
   "outputs": [
    {
     "name": "stdout",
     "output_type": "stream",
     "text": [
      "+--------+-------+------------------+\n",
      "|clusters|    cnt|        percentage|\n",
      "+--------+-------+------------------+\n",
      "|       2|2190787| 29.22982399026556|\n",
      "|       7|1616061|21.561739497054052|\n",
      "|       6| 898722|11.990889975236957|\n",
      "|       0| 735645| 9.815091046879003|\n",
      "|       1| 659583| 8.800259905217317|\n",
      "|       5| 493926| 6.590038211937495|\n",
      "|       4| 438667| 5.852763961233029|\n",
      "|       3| 247672| 3.304478695243788|\n",
      "|       8| 213977|2.8549147169327984|\n",
      "+--------+-------+------------------+\n",
      "\n"
     ]
    }
   ],
   "source": [
    "#distributionofclusters\n",
    "data = original_data.groupby('clusters').agg(countDistinct('user_id_n').alias('cnt'))\n",
    "total = data.select(\"cnt\").agg({\"cnt\": \"sum\"}).collect().pop()['sum(cnt)']\n",
    "data = data.withColumn(\"percentage\", (data['cnt']/total) * 100)\n",
    "data.sort(col('percentage').desc()).show(data.count())"
   ]
  },
  {
   "cell_type": "code",
   "execution_count": 11,
   "metadata": {},
   "outputs": [],
   "source": [
    "aggregated_demo_stick = sqlContext.read.parquet(\"gs://ds-url-catag/clustering/user_profile_data/\")"
   ]
  },
  {
   "cell_type": "code",
   "execution_count": 15,
   "metadata": {},
   "outputs": [],
   "source": [
    "new_data = original_data.join(aggregated_demo_stick,aggregated_demo_stick.user_id_n == original_data.user_id_n).select([original_data.user_id_n,original_data.clusters,original_data.numofdays,original_data.avg_con_days,original_data.sticker_packs_sent,original_data.distinct_sticker_packs_sent,original_data.sum_paid,original_data.sum_free,original_data.sum_subs,original_data.sum_discont]+[aggregated_demo_stick.city,aggregated_demo_stick.Country,aggregated_demo_stick.age_group,aggregated_demo_stick.gender,aggregated_demo_stick.Device_Brand,aggregated_demo_stick.Device_Model,aggregated_demo_stick.OS_version,aggregated_demo_stick.platform])"
   ]
  },
  {
   "cell_type": "code",
   "execution_count": null,
   "metadata": {},
   "outputs": [],
   "source": [
    "# cluster_8.groupby('clusters','numofdays','avg_con_days','sticker_packs_sent','distinct_sticker_packs_sent','sum_paid','sum_free','sum_subs').count().sort(col(\"clusters\").desc()).show(1000)"
   ]
  },
  {
   "cell_type": "code",
   "execution_count": 147,
   "metadata": {},
   "outputs": [],
   "source": [
    "cluster_1 = new_data.where(col('clusters')==1)"
   ]
  },
  {
   "cell_type": "code",
   "execution_count": 148,
   "metadata": {},
   "outputs": [],
   "source": [
    "from pyspark.sql.functions import mean, min, max"
   ]
  },
  {
   "cell_type": "code",
   "execution_count": 149,
   "metadata": {},
   "outputs": [
    {
     "name": "stdout",
     "output_type": "stream",
     "text": [
      "+-----------------+--------------+--------------+\n",
      "|   avg(numofdays)|min(numofdays)|max(numofdays)|\n",
      "+-----------------+--------------+--------------+\n",
      "|8.457347912529633|             1|            26|\n",
      "+-----------------+--------------+--------------+\n",
      "\n"
     ]
    }
   ],
   "source": [
    "cluster_1.select([mean('numofdays'), min('numofdays'), max('numofdays')]).show()"
   ]
  },
  {
   "cell_type": "code",
   "execution_count": 150,
   "metadata": {},
   "outputs": [
    {
     "name": "stdout",
     "output_type": "stream",
     "text": [
      "+-----------------+-----------------+-----------------+\n",
      "|avg(avg_con_days)|min(avg_con_days)|max(avg_con_days)|\n",
      "+-----------------+-----------------+-----------------+\n",
      "| 1.41172437765587|              0.0|             10.0|\n",
      "+-----------------+-----------------+-----------------+\n",
      "\n"
     ]
    }
   ],
   "source": [
    "cluster_1.select([mean('avg_con_days'), min('avg_con_days'), max('avg_con_days')]).show()"
   ]
  },
  {
   "cell_type": "code",
   "execution_count": 151,
   "metadata": {},
   "outputs": [
    {
     "name": "stdout",
     "output_type": "stream",
     "text": [
      "+-----------------------+-----------------------+-----------------------+\n",
      "|avg(sticker_packs_sent)|min(sticker_packs_sent)|max(sticker_packs_sent)|\n",
      "+-----------------------+-----------------------+-----------------------+\n",
      "|     23.352051266939537|                      6|                     76|\n",
      "+-----------------------+-----------------------+-----------------------+\n",
      "\n"
     ]
    }
   ],
   "source": [
    "cluster_1.select([mean('sticker_packs_sent'), min('sticker_packs_sent'), max('sticker_packs_sent')]).show()"
   ]
  },
  {
   "cell_type": "code",
   "execution_count": 152,
   "metadata": {},
   "outputs": [
    {
     "name": "stdout",
     "output_type": "stream",
     "text": [
      "+--------------------------------+--------------------------------+--------------------------------+\n",
      "|avg(distinct_sticker_packs_sent)|min(distinct_sticker_packs_sent)|max(distinct_sticker_packs_sent)|\n",
      "+--------------------------------+--------------------------------+--------------------------------+\n",
      "|               6.064450519777776|                               3|                              49|\n",
      "+--------------------------------+--------------------------------+--------------------------------+\n",
      "\n"
     ]
    }
   ],
   "source": [
    "cluster_1.select([mean('distinct_sticker_packs_sent'), min('distinct_sticker_packs_sent'), max('distinct_sticker_packs_sent')]).show()"
   ]
  },
  {
   "cell_type": "code",
   "execution_count": 153,
   "metadata": {},
   "outputs": [
    {
     "name": "stdout",
     "output_type": "stream",
     "text": [
      "+-------------------+-------------+-------------+\n",
      "|      avg(sum_paid)|min(sum_paid)|max(sum_paid)|\n",
      "+-------------------+-------------+-------------+\n",
      "|0.00873212230263419|            0|           14|\n",
      "+-------------------+-------------+-------------+\n",
      "\n"
     ]
    }
   ],
   "source": [
    "cluster_1.select([mean('sum_paid'), min('sum_paid'), max('sum_paid')]).show()"
   ]
  },
  {
   "cell_type": "code",
   "execution_count": 154,
   "metadata": {},
   "outputs": [
    {
     "name": "stdout",
     "output_type": "stream",
     "text": [
      "+-----------------+-------------+-------------+\n",
      "|    avg(sum_free)|min(sum_free)|max(sum_free)|\n",
      "+-----------------+-------------+-------------+\n",
      "|5.091552573750952|            1|           44|\n",
      "+-----------------+-------------+-------------+\n",
      "\n"
     ]
    }
   ],
   "source": [
    "cluster_1.select([mean('sum_free'), min('sum_free'), max('sum_free')]).show()"
   ]
  },
  {
   "cell_type": "code",
   "execution_count": 155,
   "metadata": {},
   "outputs": [
    {
     "name": "stdout",
     "output_type": "stream",
     "text": [
      "+--------------------+-------------+-------------+\n",
      "|       avg(sum_subs)|min(sum_subs)|max(sum_subs)|\n",
      "+--------------------+-------------+-------------+\n",
      "|1.311021117062158E-4|            0|            9|\n",
      "+--------------------+-------------+-------------+\n",
      "\n"
     ]
    }
   ],
   "source": [
    "cluster_1.select([mean('sum_subs'), min('sum_subs'), max('sum_subs')]).show()"
   ]
  },
  {
   "cell_type": "code",
   "execution_count": 156,
   "metadata": {},
   "outputs": [
    {
     "name": "stdout",
     "output_type": "stream",
     "text": [
      "+-------------------+----------------+----------------+\n",
      "|   avg(sum_discont)|min(sum_discont)|max(sum_discont)|\n",
      "+-------------------+----------------+----------------+\n",
      "|0.06770882822375883|               0|               7|\n",
      "+-------------------+----------------+----------------+\n",
      "\n"
     ]
    }
   ],
   "source": [
    "cluster_1.select([mean('sum_discont'), min('sum_discont'), max('sum_discont')]).show()"
   ]
  },
  {
   "cell_type": "code",
   "execution_count": null,
   "metadata": {},
   "outputs": [],
   "source": []
  }
 ],
 "metadata": {
  "kernelspec": {
   "display_name": "PySpark",
   "language": "python",
   "name": "python2"
  },
  "language_info": {
   "codemirror_mode": {
    "name": "ipython",
    "version": 2
   },
   "file_extension": ".py",
   "mimetype": "text/x-python",
   "name": "python",
   "nbconvert_exporter": "python",
   "pygments_lexer": "ipython2",
   "version": "2.7.9"
  }
 },
 "nbformat": 4,
 "nbformat_minor": 2
}

{
 "cells": [
  {
   "cell_type": "code",
   "execution_count": 1,
   "metadata": {},
   "outputs": [],
   "source": [
    "from pyspark import SparkConf, SparkContext\n",
    "from pyspark.sql.functions import *\n",
    "import pyspark.sql.functions as func\n",
    "from pyspark.sql.functions import countDistinct\n",
    "import re\n",
    "sc.stop()\n",
    "from pyspark.sql import SQLContext\n",
    "sc =SparkContext()\n",
    "sqlContext = SQLContext(sc)"
   ]
  },
  {
   "cell_type": "code",
   "execution_count": 2,
   "metadata": {},
   "outputs": [],
   "source": [
    "files = !gsutil ls  gs://ds-url-catag/Stickers/sticker_bycategory/"
   ]
  },
  {
   "cell_type": "code",
   "execution_count": null,
   "metadata": {},
   "outputs": [
    {
     "name": "stdout",
     "output_type": "stream",
     "text": [
      "animalsandpets\n",
      "animatedstickers\n",
      "bbmfamily\n",
      "characters\n",
      "classics\n",
      "emoji\n",
      "expressions\n",
      "favindonesia\n",
      "food\n",
      "games\n",
      "loveandromance\n",
      "mostpopular\n",
      "movies\n",
      "sports\n",
      "stickerfactory\n",
      "summer\n",
      "tvseries\n",
      "workandoffice\n"
     ]
    }
   ],
   "source": [
    "count = 0\n",
    "for sub_file in files:\n",
    "    sub_str = sub_file.split(\"/\")[5]\n",
    "    extract_string = sub_str[13:]   \n",
    "    if extract_string != '': #ignore the first line \n",
    "        category = re.sub(r'[0-9]*','',extract_string) # get the category from the name of the file \n",
    "        try :\n",
    "            path = \"gs://ds-url-catag/Stickers/sticker_bycategory/\"+sub_str+\"/\" #read in each path\n",
    "            df = sc.textFile(path).map(lambda line: line.split(\",\")).map(lambda line: (line[0],line[1],line[2])).toDF(['id','name','animated'])\n",
    "            print category \n",
    "            df = df.withColumn('category',lit(category))\n",
    "            #do little bit of preprocessing\n",
    "            from pyspark.sql.functions import StringType\n",
    "            import re\n",
    "            def removes_quotes(x):\n",
    "                y = re.sub(r'[\"\\\\\\\\]*','',x)\n",
    "                return y\n",
    "            remo_udf = udf(removes_quotes, StringType())\n",
    "            df = df.withColumn(\"sticker_pack_id\",remo_udf('id'))\n",
    "            df = df.withColumn(\"Sticker_name\",remo_udf('Name'))\n",
    "            #write it to a file\n",
    "            df.select('sticker_pack_id','Sticker_name','category').write.mode('append').parquet(\"gs://ds-url-catag/Stickers/proces_sticker_bycategory/final/\"+category+\"/\")\n",
    "        except ValueError:\n",
    "            count += 1\n",
    "\n",
    "                "
   ]
  },
  {
   "cell_type": "code",
   "execution_count": null,
   "metadata": {},
   "outputs": [],
   "source": []
  }
 ],
 "metadata": {
  "kernelspec": {
   "display_name": "PySpark",
   "language": "python",
   "name": "python2"
  },
  "language_info": {
   "codemirror_mode": {
    "name": "ipython",
    "version": 2
   },
   "file_extension": ".py",
   "mimetype": "text/x-python",
   "name": "python",
   "nbconvert_exporter": "python",
   "pygments_lexer": "ipython2",
   "version": "2.7.9"
  }
 },
 "nbformat": 4,
 "nbformat_minor": 2
}

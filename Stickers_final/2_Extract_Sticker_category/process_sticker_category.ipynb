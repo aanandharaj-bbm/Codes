{
 "cells": [
  {
   "cell_type": "code",
   "execution_count": 2,
   "metadata": {},
   "outputs": [],
   "source": [
    "from pyspark import SparkConf, SparkContext\n",
    "from pyspark.sql.functions import *\n",
    "from pyspark.sql.types import *\n",
    "sc.stop()\n",
    "from pyspark.sql import SQLContext\n",
    "sc =SparkContext()\n",
    "sqlContext = SQLContext(sc)\n",
    "import numpy as np\n",
    "import pandas as pd\n",
    "import re\n",
    "\n"
   ]
  },
  {
   "cell_type": "code",
   "execution_count": 3,
   "metadata": {},
   "outputs": [],
   "source": [
    "files = !gsutil ls gs://ds-url-catag/Stickers/sticker_categories/*/"
   ]
  },
  {
   "cell_type": "code",
   "execution_count": null,
   "metadata": {},
   "outputs": [],
   "source": [
    "count = 0 \n",
    "remove_quotes = udf(lambda x: re.sub('\"','',x), StringType())\n",
    "remove_slashes = udf(lambda x: re.sub('\\\\\\\\','',x), StringType())\n",
    "for sub_file in files:\n",
    "    sub_str = sub_file.split(\"/\")[6]\n",
    "    extract_string = sub_str[13:]   \n",
    "    category = re.sub(r'[0-9]','',extract_string)\n",
    "    if sub_str != '':\n",
    "        try :\n",
    "            df = sc.textFile(\"gs://ds-url-catag/Stickers/sticker_categories/*/\"+sub_str+\"/\").map(lambda line: line.split(\",\")).map(lambda line: (line[0],line[1],line[2],line[3])).toDF(['Sticker_id','name','animated','Type'])\n",
    "            df = df.withColumn('category',lit(category))\n",
    "            df = df.select(*[remove_quotes(column).alias(column) for column in df.columns])\n",
    "            df = df.select(*[remove_slashes(column).alias(column) for column in df.columns])\n",
    "            df.write.parquet(\"gs://ds-url-catag/Stickers/processed_categories/\"+sub_str+\"/\")\n",
    "        except ValueError:\n",
    "            count += 1\n",
    "        \n",
    "        \n",
    "        "
   ]
  },
  {
   "cell_type": "code",
   "execution_count": null,
   "metadata": {},
   "outputs": [],
   "source": []
  }
 ],
 "metadata": {
  "kernelspec": {
   "display_name": "PySpark",
   "language": "python",
   "name": "python2"
  },
  "language_info": {
   "codemirror_mode": {
    "name": "ipython",
    "version": 2
   },
   "file_extension": ".py",
   "mimetype": "text/x-python",
   "name": "python",
   "nbconvert_exporter": "python",
   "pygments_lexer": "ipython2",
   "version": "2.7.9"
  }
 },
 "nbformat": 4,
 "nbformat_minor": 2
}

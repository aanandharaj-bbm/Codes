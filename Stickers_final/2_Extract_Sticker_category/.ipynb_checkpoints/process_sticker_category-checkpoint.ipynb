{
 "cells": [
  {
   "cell_type": "code",
   "execution_count": 1,
   "metadata": {},
   "outputs": [],
   "source": [
    "import numpy as np\n",
    "import pandas as pd"
   ]
  },
  {
   "cell_type": "code",
   "execution_count": null,
   "metadata": {},
   "outputs": [],
   "source": [
    "count = 0 \n",
    "for sub_file in files:\n",
    "    sub_str = sub_file.split(\"/\")[5]\n",
    "    extract_string = sub_str[13:]   \n",
    "    category = re.sub(r'[0-9]','',extract_string)\n",
    "    try :\n",
    "        df = sc.textFile(\"gs://ds-url-catag/Stickers/sticker_bycategory/\"+sub_str+\"/\").map(lambda line: line.split(\",\")).map(lambda line: (line[0],line[1],line[2])).toDF(['Sticker_id','name','animated'])\n",
    "        df = df.withColumn('category',lit(category))\n",
    "        df.write.mode('overwrite').parquet(\"gs://ds-url-catag/Stickers/proces_sticker_bycategory/check/\")\n",
    "    except ValueError:\n",
    "        count += 1\n",
    "        \n",
    "        \n",
    "        "
   ]
  }
 ],
 "metadata": {
  "kernelspec": {
   "display_name": "PySpark",
   "language": "python",
   "name": "python2"
  },
  "language_info": {
   "codemirror_mode": {
    "name": "ipython",
    "version": 2
   },
   "file_extension": ".py",
   "mimetype": "text/x-python",
   "name": "python",
   "nbconvert_exporter": "python",
   "pygments_lexer": "ipython2",
   "version": "2.7.9"
  }
 },
 "nbformat": 4,
 "nbformat_minor": 2
}

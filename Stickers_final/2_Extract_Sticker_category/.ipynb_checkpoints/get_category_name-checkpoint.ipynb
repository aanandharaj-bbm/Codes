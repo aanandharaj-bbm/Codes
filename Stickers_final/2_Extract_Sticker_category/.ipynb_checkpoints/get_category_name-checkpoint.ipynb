{
 "cells": [
  {
   "cell_type": "code",
   "execution_count": 1,
   "metadata": {},
   "outputs": [],
   "source": [
    "from pyspark import SparkConf, SparkContext\n",
    "from pyspark.sql.functions import *\n",
    "import pyspark.sql.functions as func\n",
    "from pyspark.sql.functions import countDistinct\n",
    "import re\n",
    "sc.stop()\n",
    "from pyspark.sql import SQLContext\n",
    "sc =SparkContext()\n",
    "sqlContext = SQLContext(sc)"
   ]
  },
  {
   "cell_type": "code",
   "execution_count": 4,
   "metadata": {},
   "outputs": [],
   "source": [
    "files = !gsutil ls  gs://ds-url-catag/Stickers/sticker_bycategory/"
   ]
  },
  {
   "cell_type": "code",
   "execution_count": 6,
   "metadata": {},
   "outputs": [],
   "source": [
    "count = 0\n",
    "for sub_file in files:\n",
    "    sub_str = sub_file.split(\"/\")[5]\n",
    "    extract_string = sub_str[13:]   \n",
    "    if extract_string != '':\n",
    "        category = re.sub(r'[0-9]*','',extract_string)\n",
    "        print category \n",
    "        try :\n",
    "            df = sc.textFile(\"gs://ds-url-catag/Stickers/sticker_bycategory/\").map(lambda line: line.split(\",\")).map(lambda line: (line[0],line[1],line[2])).toDF(['id','name','animated'])\n",
    "            df = df.withColumn('category',lit(category))\n",
    "            df.write.mode('append').parquet(\"gs://ds-url-catag/Stickers/proces_sticker_bycategory/\"+category+\"/\")\n",
    "            break;\n",
    "        except ValueError:\n",
    "            count += 0 \n",
    "            print count "
   ]
  },
  {
   "cell_type": "code",
   "execution_count": null,
   "metadata": {},
   "outputs": [],
   "source": []
  }
 ],
 "metadata": {
  "kernelspec": {
   "display_name": "PySpark",
   "language": "python",
   "name": "python2"
  },
  "language_info": {
   "codemirror_mode": {
    "name": "ipython",
    "version": 2
   },
   "file_extension": ".py",
   "mimetype": "text/x-python",
   "name": "python",
   "nbconvert_exporter": "python",
   "pygments_lexer": "ipython2",
   "version": "2.7.9"
  }
 },
 "nbformat": 4,
 "nbformat_minor": 2
}

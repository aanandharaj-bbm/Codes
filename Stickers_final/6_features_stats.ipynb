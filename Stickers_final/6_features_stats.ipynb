{
 "cells": [
  {
   "cell_type": "code",
   "execution_count": 16,
   "metadata": {},
   "outputs": [],
   "source": [
    "from pyspark import SparkConf, SparkContext\n",
    "from pyspark.sql.functions import *\n",
    "import pyspark.sql.functions as func\n",
    "# from pyspark.sql.functions import countDistinct"
   ]
  },
  {
   "cell_type": "code",
   "execution_count": 17,
   "metadata": {},
   "outputs": [],
   "source": [
    "#reading in sticker type data\n",
    "feature_data = spark.read.parquet(\"gs://ds-url-catag/Stickers/stick_statistics/sticker_download/derived_features/\")"
   ]
  },
  {
   "cell_type": "code",
   "execution_count": 18,
   "metadata": {},
   "outputs": [
    {
     "name": "stdout",
     "output_type": "stream",
     "text": [
      "+-------+------------------+\n",
      "|summary|         numofdays|\n",
      "+-------+------------------+\n",
      "|  count|           2422112|\n",
      "|   mean|1.8746366807150123|\n",
      "| stddev| 2.200631302702048|\n",
      "|    min|                 1|\n",
      "|    max|               147|\n",
      "+-------+------------------+\n",
      "\n"
     ]
    }
   ],
   "source": [
    "#Feature statistics \n",
    "\n",
    "feature_data.describe(['numofdays']).show()"
   ]
  },
  {
   "cell_type": "code",
   "execution_count": 19,
   "metadata": {},
   "outputs": [
    {
     "name": "stdout",
     "output_type": "stream",
     "text": [
      "+-------+-------------------+\n",
      "|summary|       avg_con_days|\n",
      "+-------+-------------------+\n",
      "|  count|            2422112|\n",
      "|   mean|0.09567270217066759|\n",
      "| stddev|0.34783412371311656|\n",
      "|    min|                0.0|\n",
      "|    max|               48.0|\n",
      "+-------+-------------------+\n",
      "\n"
     ]
    }
   ],
   "source": [
    "feature_data.describe(['avg_con_days']).show()"
   ]
  },
  {
   "cell_type": "code",
   "execution_count": 21,
   "metadata": {},
   "outputs": [
    {
     "name": "stdout",
     "output_type": "stream",
     "text": [
      "+-------+----------------------+\n",
      "|summary|sticker_packs_download|\n",
      "+-------+----------------------+\n",
      "|  count|               2422112|\n",
      "|   mean|     7.526869525438956|\n",
      "| stddev|    3273.0824561446675|\n",
      "|    min|                     1|\n",
      "|    max|               5093912|\n",
      "+-------+----------------------+\n",
      "\n"
     ]
    }
   ],
   "source": [
    "feature_data.describe(['sticker_packs_download']).show()"
   ]
  },
  {
   "cell_type": "code",
   "execution_count": 22,
   "metadata": {},
   "outputs": [
    {
     "name": "stdout",
     "output_type": "stream",
     "text": [
      "+-------+-------------------------------+\n",
      "|summary|distinct_sticker_packs_download|\n",
      "+-------+-------------------------------+\n",
      "|  count|                        2422112|\n",
      "|   mean|              5.303306370638517|\n",
      "| stddev|             11.384950279152505|\n",
      "|    min|                              1|\n",
      "|    max|                           1174|\n",
      "+-------+-------------------------------+\n",
      "\n"
     ]
    }
   ],
   "source": [
    "feature_data.describe(['distinct_sticker_packs_download']).show()"
   ]
  },
  {
   "cell_type": "code",
   "execution_count": 23,
   "metadata": {},
   "outputs": [
    {
     "name": "stdout",
     "output_type": "stream",
     "text": [
      "+-------+--------------------+\n",
      "|summary|            sum_paid|\n",
      "+-------+--------------------+\n",
      "|  count|             2422112|\n",
      "|   mean|0.005946876114729...|\n",
      "| stddev|  0.3068122052575507|\n",
      "|    min|                   0|\n",
      "|    max|                 449|\n",
      "+-------+--------------------+\n",
      "\n"
     ]
    }
   ],
   "source": [
    "feature_data.describe(['sum_paid']).show()"
   ]
  },
  {
   "cell_type": "code",
   "execution_count": 24,
   "metadata": {},
   "outputs": [
    {
     "name": "stdout",
     "output_type": "stream",
     "text": [
      "+-------+------------------+\n",
      "|summary|          sum_free|\n",
      "+-------+------------------+\n",
      "|  count|           2422112|\n",
      "|   mean|3.0265817600507328|\n",
      "| stddev| 7.257014569165548|\n",
      "|    min|                 0|\n",
      "|    max|               421|\n",
      "+-------+------------------+\n",
      "\n"
     ]
    }
   ],
   "source": [
    "feature_data.describe(['sum_free']).show()"
   ]
  },
  {
   "cell_type": "code",
   "execution_count": 25,
   "metadata": {},
   "outputs": [
    {
     "name": "stdout",
     "output_type": "stream",
     "text": [
      "+-------+--------------------+\n",
      "|summary|            sum_subs|\n",
      "+-------+--------------------+\n",
      "|  count|             2422112|\n",
      "|   mean|3.401989668520696E-4|\n",
      "| stddev| 0.12823822773957522|\n",
      "|    min|                   0|\n",
      "|    max|                 111|\n",
      "+-------+--------------------+\n",
      "\n"
     ]
    }
   ],
   "source": [
    "feature_data.describe(['sum_subs']).show()"
   ]
  },
  {
   "cell_type": "code",
   "execution_count": 26,
   "metadata": {},
   "outputs": [
    {
     "name": "stdout",
     "output_type": "stream",
     "text": [
      "+-------+-------------------+\n",
      "|summary|        sum_discont|\n",
      "+-------+-------------------+\n",
      "|  count|            2422112|\n",
      "|   mean|0.17584034099166349|\n",
      "| stddev| 0.5998416322313329|\n",
      "|    min|                  0|\n",
      "|    max|                 56|\n",
      "+-------+-------------------+\n",
      "\n"
     ]
    }
   ],
   "source": [
    "feature_data.describe(['sum_discont']).show()"
   ]
  },
  {
   "cell_type": "code",
   "execution_count": 27,
   "metadata": {},
   "outputs": [
    {
     "name": "stdout",
     "output_type": "stream",
     "text": [
      "+---------+---------+------------+----------------------+-------------------------------+--------+--------+--------+-----------+\n",
      "|user_id_n|numofdays|avg_con_days|sticker_packs_download|distinct_sticker_packs_download|sum_paid|sum_free|sum_subs|sum_discont|\n",
      "+---------+---------+------------+----------------------+-------------------------------+--------+--------+--------+-----------+\n",
      "|        0|        0|           0|                     0|                              0|       0|       0|       0|          0|\n",
      "+---------+---------+------------+----------------------+-------------------------------+--------+--------+--------+-----------+\n",
      "\n"
     ]
    }
   ],
   "source": [
    "#check if columns have nullvalues\n",
    "feature_data.select([count(when(isnan(c) | col(c).isNull(), c)).alias(c) for c in feature_data.columns]).show()"
   ]
  },
  {
   "cell_type": "code",
   "execution_count": null,
   "metadata": {},
   "outputs": [],
   "source": []
  }
 ],
 "metadata": {
  "kernelspec": {
   "display_name": "PySpark",
   "language": "python",
   "name": "python2"
  },
  "language_info": {
   "codemirror_mode": {
    "name": "ipython",
    "version": 2
   },
   "file_extension": ".py",
   "mimetype": "text/x-python",
   "name": "python",
   "nbconvert_exporter": "python",
   "pygments_lexer": "ipython2",
   "version": "2.7.9"
  }
 },
 "nbformat": 4,
 "nbformat_minor": 2
}

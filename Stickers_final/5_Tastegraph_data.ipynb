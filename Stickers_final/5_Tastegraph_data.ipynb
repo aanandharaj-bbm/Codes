{
 "cells": [
  {
   "cell_type": "code",
   "execution_count": 1,
   "metadata": {},
   "outputs": [],
   "source": [
    "from pyspark import SparkConf, SparkContext\n",
    "from pyspark.sql.functions import *\n",
    "import pyspark.sql.functions as func\n",
    "from pyspark.sql.functions import countDistinct"
   ]
  },
  {
   "cell_type": "code",
   "execution_count": 2,
   "metadata": {},
   "outputs": [],
   "source": [
    "#reading in data again\n",
    "df_new = spark.read.parquet(\"gs://ds-url-catag/plenty_stickers_data/aggregate_data/\")\n",
    "df_demo = spark.read.parquet(\"gs://ds-user-demographic/parquet/tastes_mau_1024.parquet\")\n",
    "\n",
    "#joining to get the demographic data\n",
    "from pyspark.sql.functions import col\n",
    "active_base  = df_new.alias('a').join(df_demo.alias('b'),col('b.regid') == col('a.user_id_n')).select([col('time'),col('City'),col('Connection'),col('Country'),col('Device_Brand'),col('Device_Model'),col('New_User'),col('OS_Version'),col('app_name'),col('carrier'),col('license_type'),col('a.platform'),col('sticker_id'),col('sticker_pack_id'),col('user_id_n')]+[col('language'),col('age_group'),col('gender')])\n",
    "\n",
    "#joining in to get the sticker category data\n",
    "stick_category = spark.read.parquet(\"gs://ds-url-catag/Stickers/proces_sticker_bycategory/final/*/*.parquet\")"
   ]
  },
  {
   "cell_type": "code",
   "execution_count": 6,
   "metadata": {},
   "outputs": [],
   "source": [
    "#sticker categories to user \n",
    "with_category = active_base.join(stick_category,stick_category.id==active_base.sticker_pack_id).select([active_base.user_id_n,active_base.sticker_pack_id]+[final_stickcat.id,final_stickcat.Name,final_stickcat.category])"
   ]
  },
  {
   "cell_type": "code",
   "execution_count": null,
   "metadata": {},
   "outputs": [],
   "source": [
    "#calculating scores \n",
    "category_Scores = with_category.groupby('user_id_n','category').agg(func.count(\"*\").alias('category_scores'))\n",
    "Total_Scores = with_category.groupby('user_id_n').agg(func.count(\"*\").alias('Total_scores'))\n",
    "\n",
    "#joing to get the full data file \n",
    "Final_affinty_file = category_Scores.join(Total_Scores,Total_Scores.user_id_n==category_Scores.user_id_n,'left').select[()]\n"
   ]
  },
  {
   "cell_type": "code",
   "execution_count": null,
   "metadata": {},
   "outputs": [],
   "source": [
    "# #joining to get the sticker type data\n",
    "# Final_stickers_types = sqlContext.read.parquet(\"gs://ds-url-catag/Stickers/stick_bytype/agg_proc_stickertypes/\")\n",
    "# #sticker types used by users\n",
    "# data_join = active_base.join(Final_stickers_types,Final_stickers_types.id==active_base.sticker_pack_id).select([active_base.sticker_pack_id,active_base.user_id_n]+[Final_stickers_types.id,Final_stickers_types.type])\n",
    "# data_join = data_join.dropDuplicates()"
   ]
  }
 ],
 "metadata": {
  "kernelspec": {
   "display_name": "PySpark",
   "language": "python",
   "name": "python2"
  },
  "language_info": {
   "codemirror_mode": {
    "name": "ipython",
    "version": 2
   },
   "file_extension": ".py",
   "mimetype": "text/x-python",
   "name": "python",
   "nbconvert_exporter": "python",
   "pygments_lexer": "ipython2",
   "version": "2.7.9"
  }
 },
 "nbformat": 4,
 "nbformat_minor": 2
}

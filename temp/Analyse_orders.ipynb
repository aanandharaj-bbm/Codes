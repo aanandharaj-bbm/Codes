{
 "cells": [
  {
   "cell_type": "code",
   "execution_count": 1,
   "metadata": {},
   "outputs": [],
   "source": [
    "# Import appropriate modules from the client library.\n",
    "from googleads import dfp\n",
    "from collections import defaultdict\n",
    "from pyspark.sql.types import *\n",
    "from pyspark import SparkConf, SparkContext\n",
    "from pyspark.sql import SQLContext\n",
    "from pyspark.sql.functions import expr\n",
    "from pyspark.sql.functions import *\n",
    "import pandas as pd\n",
    "import time\n",
    "sc.stop()\n",
    "\n",
    "sc =SparkContext()\n",
    "sqlCtx = SQLContext(sc)\n"
   ]
  },
  {
   "cell_type": "code",
   "execution_count": 2,
   "metadata": {},
   "outputs": [],
   "source": [
    "orders = sqlCtx.read.parquet(\"gs://ds-url-catag/dfp_new/orders_final/\")"
   ]
  },
  {
   "cell_type": "code",
   "execution_count": 7,
   "metadata": {},
   "outputs": [],
   "source": [
    "from pyspark.sql.types import BooleanType,StringType\n",
    "import re\n",
    "\n",
    "def regex_filter(x):\n",
    "    list_campaign = ['DBS','Gojek','indosat','grab','Google roadblock','uber','opera']\n",
    "    filter_status = ''\n",
    "    string_x = x[:5]\n",
    "    for camp in list_campaign:\n",
    "        if camp.lower() in string_x.lower():\n",
    "            filter_status = True\n",
    "    \n",
    "    return filter_status\n",
    "    \n",
    "    \n",
    "filter_udf = udf(regex_filter, BooleanType())\n",
    "\n",
    "orders = orders.withColumn('Filter_campaigns',filter_udf(orders.Order_name))"
   ]
  },
  {
   "cell_type": "code",
   "execution_count": 11,
   "metadata": {},
   "outputs": [],
   "source": [
    "new_campaigns = orders.where(col('Filter_campaigns') == True).dropDuplicates()"
   ]
  },
  {
   "cell_type": "code",
   "execution_count": 24,
   "metadata": {},
   "outputs": [],
   "source": [
    "new_campaigns.write.mode('overwrite').parquet(\"gs://ds-url-catag/campaign_analysis/campaign_details/\")"
   ]
  },
  {
   "cell_type": "code",
   "execution_count": null,
   "metadata": {},
   "outputs": [],
   "source": []
  }
 ],
 "metadata": {
  "kernelspec": {
   "display_name": "PySpark",
   "language": "python",
   "name": "python2"
  },
  "language_info": {
   "codemirror_mode": {
    "name": "ipython",
    "version": 2
   },
   "file_extension": ".py",
   "mimetype": "text/x-python",
   "name": "python",
   "nbconvert_exporter": "python",
   "pygments_lexer": "ipython2",
   "version": "2.7.9"
  }
 },
 "nbformat": 4,
 "nbformat_minor": 2
}

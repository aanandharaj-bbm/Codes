{
 "cells": [
  {
   "cell_type": "code",
   "execution_count": 1,
   "metadata": {},
   "outputs": [],
   "source": [
    "# Import appropriate modules from the client library.\n",
    "from googleads import dfp\n",
    "from collections import defaultdict\n",
    "from pyspark.sql.types import *\n",
    "from pyspark import SparkConf, SparkContext\n",
    "from pyspark.sql import SQLContext\n",
    "from pyspark.sql.functions import expr\n",
    "from pyspark.sql.functions import *\n",
    "import pandas as pd\n",
    "import time\n",
    "sc.stop()\n",
    "sc =SparkContext()\n",
    "sqlCtx = SQLContext(sc)\n"
   ]
  },
  {
   "cell_type": "code",
   "execution_count": 2,
   "metadata": {},
   "outputs": [],
   "source": [
    "# Campaign details from MARK \n",
    "rdd = sc.textFile(\"gs://ds-url-catag/campaign_analysis/campaign_details.csv\") \\\n",
    "    .map(lambda line: line.split(\";\"))     \n",
    "first_line = rdd.first()\n",
    "campaigns_list = rdd.filter(lambda line: line != first_line).toDF(['orders_id','order','audseg_idname','audseg_id','impr','click','category'])\n"
   ]
  },
  {
   "cell_type": "code",
   "execution_count": 3,
   "metadata": {},
   "outputs": [],
   "source": [
    "#details of the campaigns - This has to be removed \n",
    "campaign_details = sqlCtx.read.parquet(\"gs://ds-url-catag/campaign_analysis/processed_orders/\")\n",
    "\n",
    "#tagging the campagin list - the campaings that use our model\n",
    "campaigns_list = campaigns_list.withColumn(\"To_check\",lit(True))\n",
    "\n",
    "#get the details of the campagins list\n",
    "cond = [campaign_details.order_id == campaigns_list.orders_id,campaign_details.target_audienceid == campaigns_list.audseg_id]\n",
    "\n",
    "#getting the detailds of all the campaign list\n",
    "campaignslisttier1 = campaigns_list.join(campaign_details,cond,'left')"
   ]
  },
  {
   "cell_type": "code",
   "execution_count": 4,
   "metadata": {},
   "outputs": [],
   "source": [
    "#reading all the campaign details obtained from datapreprocessing and scraping - previous two steps \n",
    "filtered_campaigns = sqlCtx.read.parquet(\"gs://ds-url-catag/campaign_analysis/campaign_details/\")\n",
    "filtered_campaigns = filtered_campaigns.select(col(\"order_id\").alias(\"orderid\"),col(\"Order_name\"),col(\"IABTier1Categorization\"),col(\"IOEndDate\"),col(\"IOStartDate\"))\n",
    "\n",
    "#get the details of the filtered campaigns\n",
    "cond = [campaign_details.order_id == filtered_campaigns.orderid]\n",
    "\n",
    "#getting the details of all the campaign list\n",
    "filtcamptier1 = filtered_campaigns.join(campaign_details,cond,'left')\n",
    "\n",
    "#To filter the campaigns before applying model \"TO_check !=  True\"\n",
    "filtcamptier2 = filtcamptier1.join(campaigns_list,filtcamptier1.orderid == campaigns_list.orders_id,'left')\n",
    "filtcamptier2 =filtcamptier2.withColumn(\"To_check\",when(col('To_check') == True,col('To_check')).otherwise(False))\n",
    "filtcamptier3 = filtcamptier2.where(col('To_check') == False )"
   ]
  },
  {
   "cell_type": "code",
   "execution_count": 5,
   "metadata": {},
   "outputs": [],
   "source": [
    "#comparing campaigns \n",
    "from pyspark.sql.types import BooleanType,StringType\n",
    "import re\n",
    "#'DBS',indosat','grab','Google roadblock','uber','opera']\n",
    "\n",
    "#GOJEK\n",
    "def regex_filter(x):\n",
    "    list_campaign = ['uber']\n",
    "    filter_status = ''\n",
    "    string_x = x[:5]\n",
    "    for camp in list_campaign:\n",
    "        if camp.lower() in string_x.lower():\n",
    "            filter_status = True\n",
    "    return filter_status\n",
    "filter_udf = udf(regex_filter, BooleanType())\n",
    "\n",
    "#Before application of the model\n",
    "filtcamptier3 = filtcamptier3.withColumn('Filter_campaigns',filter_udf(filtcamptier3.Order_name))    "
   ]
  },
  {
   "cell_type": "code",
   "execution_count": 25,
   "metadata": {},
   "outputs": [],
   "source": [
    "#gojek old\n",
    "go_jek_old = filtcamptier3.where(col('Filter_campaigns') == True)\n",
    "go_jek_old = go_jek_old.withColumn(\"filter\",when((col('Age_group_1') != \"null\"),True).otherwise(False))\n",
    "go_jek_old = go_jek_old.where(col('filter') == True)\n",
    "go_jek_old = go_jek_old.withColumn(\"CTR\",((col('clicks')/col('impressions'))*100))\n",
    "old = go_jek_old.where((col('CTR') != 0))\n"
   ]
  },
  {
   "cell_type": "code",
   "execution_count": 14,
   "metadata": {},
   "outputs": [
    {
     "data": {
      "text/plain": [
       "7"
      ]
     },
     "execution_count": 14,
     "metadata": {},
     "output_type": "execute_result"
    }
   ],
   "source": [
    "go_jek_old.count()"
   ]
  },
  {
   "cell_type": "code",
   "execution_count": 24,
   "metadata": {},
   "outputs": [
    {
     "name": "stdout",
     "output_type": "stream",
     "text": [
      "+----------+--------------------+---------+-----------+-----------+-----------+-----------+-----------+------------------+\n",
      "|   orderid|          Order_name|ad_type_1|Age_group_1|Age_group_2|Age_group_3|Age_group_4|Age_group_5|               CTR|\n",
      "+----------+--------------------+---------+-----------+-----------+-----------+-----------+-----------+------------------+\n",
      "| 407070516|Uber_20160601_201...|     diau|      25-34|      35-44|      18-24|      45-54|      13-17|               0.0|\n",
      "| 407070516|Uber_20160601_201...|     dnau|      25-34|      35-44|      18-24|      45-54|      13-17|2.2183111399623376|\n",
      "| 407070516|Uber_20160601_201...|     clau|      25-34|      35-44|      18-24|      45-54|      13-17| 4.913771798997303|\n",
      "|2174257350|Uber-20171029-A_2...|     dnau|      13-17|      35-44|      25-34|      18-24|       null|0.9187549061107235|\n",
      "|2193911929|Uber-20171119-A_2...|     dnau|      18-24|      13-17|      25-34|      35-44|       null|0.8875411926557553|\n",
      "|2188576502|Uber-20171119-A_2...|     dnau|      13-17|      35-44|      25-34|      18-24|       null|0.9566968156678849|\n",
      "|2174225189|Uber-20171029-B_2...|     dnau|      13-17|      35-44|      25-34|      18-24|       null|0.8861479541935492|\n",
      "+----------+--------------------+---------+-----------+-----------+-----------+-----------+-----------+------------------+\n",
      "\n"
     ]
    }
   ],
   "source": [
    "go_jek_old.select(['orderid','Order_name','ad_type_1','Age_group_1','Age_group_2','Age_group_3','Age_group_4','Age_group_5','CTR']).show(1300)"
   ]
  },
  {
   "cell_type": "code",
   "execution_count": 27,
   "metadata": {},
   "outputs": [],
   "source": [
    "#gojek new\n",
    "campaignslisttier1 = campaignslisttier1.withColumn('Filter_campaigns',filter_udf(campaignslisttier1.order))\n",
    "go_jek_new = campaignslisttier1.where(col('Filter_campaigns') == True)\n",
    "go_jek_new = go_jek_new.withColumn(\"filter\",when(col('Age_group_1') != \"null\",True).otherwise(False))\n",
    "new = go_jek_new.where(col('filter') == True)\n",
    "new = new.withColumn(\"CTR\",((col('clicks')/col('impressions'))*100))"
   ]
  },
  {
   "cell_type": "code",
   "execution_count": 21,
   "metadata": {},
   "outputs": [
    {
     "data": {
      "text/plain": [
       "16"
      ]
     },
     "execution_count": 21,
     "metadata": {},
     "output_type": "execute_result"
    }
   ],
   "source": [
    "new.count()"
   ]
  },
  {
   "cell_type": "code",
   "execution_count": 28,
   "metadata": {},
   "outputs": [
    {
     "name": "stdout",
     "output_type": "stream",
     "text": [
      "+----------+--------------------+---------+-----------+-----------+-----------+-----------+-----------+------------------+\n",
      "| orders_id|               order|ad_type_1|Age_group_1|Age_group_2|Age_group_3|Age_group_4|Age_group_5|               CTR|\n",
      "+----------+--------------------+---------+-----------+-----------+-----------+-----------+-----------+------------------+\n",
      "|2197426939|Uber-20171203-A_2...|     dnau|      18-24|      13-17|      25-34|      35-44|       null|0.8015334818760835|\n",
      "|2210896988|Uber-20171224-A_2...|     dnau|      35-44|      18-24|      25-34|       null|       null|1.0640891946714384|\n",
      "|2210941604|Uber-20171224-B_2...|     dnau|      35-44|      18-24|      25-34|       null|       null|1.0735466644615392|\n",
      "|2211228630|Uber-20171224-C_2...|     dnau|      35-44|      18-24|      25-34|       null|       null|0.9098561931045728|\n",
      "|2214304737|Uber-20171228-B_2...|     dnau|      35-44|      18-24|      25-34|       null|       null|1.0421000904092295|\n",
      "|2215195916|Uber-20180101-A_2...|     dnau|      35-44|      18-24|      25-34|       null|       null|0.9756972662321213|\n",
      "|2215215044|Uber-20180101-B_2...|     dnau|      35-44|      18-24|      25-34|       null|       null| 0.979973780053943|\n",
      "|2215500879|Uber-20180101-C_2...|     dnau|      35-44|      18-24|      25-34|       null|       null|0.9454461102821434|\n",
      "|2219739257|Uber-20180107-A_2...|     dnau|      35-44|      18-24|      25-34|       null|       null|0.9527618654804322|\n",
      "|2219743856|Uber-20180107-B_2...|     dnau|      35-44|      18-24|      25-34|       null|       null|0.9519867523140477|\n",
      "|2220036420|Uber-20180107-C_2...|     dnau|      35-44|      18-24|      25-34|       null|       null| 0.944645307711788|\n",
      "|2223658447|Uber-20180114-D_2...|     dnau|      35-44|      18-24|      25-34|       null|       null|1.0432142377202192|\n",
      "|2223730699|Uber-20180115-C_2...|     dnau|      35-44|      13-17|      18-24|      25-34|       null|0.9219669014861132|\n",
      "|2227902914|Uber-20180121-B_2...|     dnau|      35-44|      18-24|      25-34|       null|       null|0.9883482321332374|\n",
      "|2227916390|Uber-20180121-C_2...|     dnau|      35-44|      18-24|      25-34|       null|       null|0.8573997785957568|\n",
      "|2228232711|Uber-20180121-A_2...|     dnau|      35-44|      18-24|      25-34|       null|       null|0.9913934124401089|\n",
      "+----------+--------------------+---------+-----------+-----------+-----------+-----------+-----------+------------------+\n",
      "\n"
     ]
    }
   ],
   "source": [
    "new.select(['orders_id','order','ad_type_1','Age_group_1','Age_group_2','Age_group_3','Age_group_4','Age_group_5','CTR']).show(go_jek_new.count())"
   ]
  },
  {
   "cell_type": "code",
   "execution_count": 26,
   "metadata": {},
   "outputs": [
    {
     "name": "stdout",
     "output_type": "stream",
     "text": [
      "6\n",
      "+-------------+\n",
      "|avg(Duration)|\n",
      "+-------------+\n",
      "|         28.5|\n",
      "+-------------+\n",
      "\n",
      "None\n",
      "+------------------+\n",
      "|          avg(CTR)|\n",
      "+------------------+\n",
      "|1.7968706345979253|\n",
      "+------------------+\n",
      "\n",
      "None\n",
      "+---------------------+\n",
      "|avg(budget)          |\n",
      "+---------------------+\n",
      "|2.9443516314166668E10|\n",
      "+---------------------+\n",
      "\n",
      "None\n",
      "+--------------+-----+\n",
      "|target_country|count|\n",
      "+--------------+-----+\n",
      "|     Singapore|    2|\n",
      "|    Balikpapan|    2|\n",
      "|    Yogyakarta|    2|\n",
      "+--------------+-----+\n",
      "\n",
      "None\n"
     ]
    }
   ],
   "source": [
    "#calculating statistics\n",
    "#no of campaigns\n",
    "print old.count()\n",
    "\n",
    "#calculate the difference between timestamps\n",
    "from pyspark.sql import functions as F\n",
    "timeFmt = \"yyyy-MM-dd\"\n",
    "timeDiff = (F.unix_timestamp('IOEndDate', format=timeFmt)\n",
    "            - F.unix_timestamp('IOStartDate', format=timeFmt))\n",
    "#for old\n",
    "old = old.withColumn(\"Duration\", (((timeDiff/60)/60/24)))\n",
    "\n",
    "# #avg no of days \n",
    "print old.agg(avg(col('Duration'))).show()\n",
    "\n",
    "#impressions and clicks \n",
    "old = old.withColumn(\"CTR\",((col('clicks')/col('impressions'))*100))\n",
    "\n",
    "#CTR calculation - check the conditions to filter \n",
    "rem_out = old.where(col('CTR').isNotNull())\n",
    "print rem_out.agg(avg(col('CTR'))).show()\n",
    "\n",
    "\n",
    "#Average Budget \n",
    "print old.agg(avg(col('budget'))).show(1,False)\n",
    "\n",
    "print old.groupby('target_country').count().show()"
   ]
  },
  {
   "cell_type": "code",
   "execution_count": 29,
   "metadata": {},
   "outputs": [
    {
     "name": "stdout",
     "output_type": "stream",
     "text": [
      "16\n",
      "+-------------+\n",
      "|avg(Duration)|\n",
      "+-------------+\n",
      "|       7.3125|\n",
      "+-------------+\n",
      "\n",
      "None\n",
      "+------------------+\n",
      "|          avg(CTR)|\n",
      "+------------------+\n",
      "|0.9652474543107983|\n",
      "+------------------+\n",
      "\n",
      "None\n",
      "+-----------+\n",
      "|avg(budget)|\n",
      "+-----------+\n",
      "|8.3125E9   |\n",
      "+-----------+\n",
      "\n",
      "None\n",
      "+--------------+-----+\n",
      "|target_country|count|\n",
      "+--------------+-----+\n",
      "|    Yogyakarta|   16|\n",
      "+--------------+-----+\n",
      "\n",
      "None\n"
     ]
    }
   ],
   "source": [
    "#no of campaigns\n",
    "print new.count()\n",
    "\n",
    "#calculate the difference between timestamps\n",
    "from pyspark.sql import functions as F\n",
    "timeFmt = \"yyyy-MM-dd\"\n",
    "timeDiff = (F.unix_timestamp('End_date', format=timeFmt)\n",
    "            - F.unix_timestamp('start_date', format=timeFmt))\n",
    "#for old\n",
    "new = new.withColumn(\"Duration\", (((timeDiff/60)/60/24)))\n",
    "\n",
    "#avg no of days \n",
    "print new.agg(avg(col('Duration'))).show()\n",
    "\n",
    "# impressions and clicks \n",
    "new = new.withColumn(\"CTR\",((col('clicks')/col('impressions'))*100))\n",
    "\n",
    "#CTR calculation - check the conditions to filter \n",
    "new = new.where(col('CTR') !=0)\n",
    "print new.agg(avg(col('CTR'))).show()\n",
    "\n",
    "#Average Budget \n",
    "print new.agg(avg(col('budget'))).show(1,False)\n",
    "\n",
    "\n",
    "print new.groupby('target_country').count().show()"
   ]
  },
  {
   "cell_type": "code",
   "execution_count": 39,
   "metadata": {},
   "outputs": [],
   "source": [
    "# go_jek_new.select(['orders_id','order','ad_type_1','Age_group_1','Age_group_1','Age_group_2','Age_group_3','Age_group_4','Age_group_5']).show()"
   ]
  },
  {
   "cell_type": "code",
   "execution_count": null,
   "metadata": {},
   "outputs": [],
   "source": []
  }
 ],
 "metadata": {
  "kernelspec": {
   "display_name": "PySpark",
   "language": "python",
   "name": "python2"
  },
  "language_info": {
   "codemirror_mode": {
    "name": "ipython",
    "version": 2
   },
   "file_extension": ".py",
   "mimetype": "text/x-python",
   "name": "python",
   "nbconvert_exporter": "python",
   "pygments_lexer": "ipython2",
   "version": "2.7.9"
  }
 },
 "nbformat": 4,
 "nbformat_minor": 2
}

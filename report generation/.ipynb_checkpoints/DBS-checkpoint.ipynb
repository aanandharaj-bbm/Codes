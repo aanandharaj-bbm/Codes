{
 "cells": [
  {
   "cell_type": "code",
   "execution_count": null,
   "metadata": {},
   "outputs": [],
   "source": [
    "# Import appropriate modules from the client library.\n",
    "from googleads import dfp\n",
    "from collections import defaultdict\n",
    "from pyspark.sql.types import *\n",
    "from pyspark import SparkConf, SparkContext\n",
    "from pyspark.sql import SQLContext\n",
    "from pyspark.sql.functions import expr\n",
    "from pyspark.sql.functions import *\n",
    "import pandas as pd\n",
    "import time\n",
    "sc.stop()\n",
    "sc =SparkContext()\n",
    "sqlCtx = SQLContext(sc)\n"
   ]
  },
  {
   "cell_type": "code",
   "execution_count": null,
   "metadata": {},
   "outputs": [],
   "source": [
    "# Campaign details from MARK \n",
    "rdd = sc.textFile(\"gs://ds-url-catag/campaign_analysis/campaign_details.csv\") \\\n",
    "    .map(lambda line: line.split(\";\"))     \n",
    "first_line = rdd.first()\n",
    "campaigns_list = rdd.filter(lambda line: line != first_line).toDF(['orders_id','order','audseg_idname','audseg_id','impr','click','category'])\n"
   ]
  },
  {
   "cell_type": "code",
   "execution_count": null,
   "metadata": {},
   "outputs": [],
   "source": [
    "#details of the campaigns - This has to be removed \n",
    "campaign_details = sqlCtx.read.parquet(\"gs://ds-url-catag/campaign_analysis/processed_orders/\")\n",
    "\n",
    "#tagging the campagin list - the campaings that use our model\n",
    "campaigns_list = campaigns_list.withColumn(\"To_check\",lit(True))\n",
    "\n",
    "#get the details of the campagins list\n",
    "cond = [campaign_details.order_id == campaigns_list.orders_id,campaign_details.target_audienceid == campaigns_list.audseg_id]\n",
    "\n",
    "#getting the detailds of all the campaign list\n",
    "campaignslisttier1 = campaigns_list.join(campaign_details,cond,'left')"
   ]
  },
  {
   "cell_type": "code",
   "execution_count": null,
   "metadata": {},
   "outputs": [],
   "source": [
    "#reading all the campaign details obtained from datapreprocessing and scraping - previous two steps \n",
    "filtered_campaigns = sqlCtx.read.parquet(\"gs://ds-url-catag/campaign_analysis/campaign_details/\")\n",
    "filtered_campaigns = filtered_campaigns.select(col(\"order_id\").alias(\"orderid\"),col(\"Order_name\"),col(\"IABTier1Categorization\"),col(\"IOEndDate\"),col(\"IOStartDate\"))\n",
    "\n",
    "#get the details of the filtered campaigns\n",
    "cond = [campaign_details.order_id == filtered_campaigns.orderid]\n",
    "\n",
    "#getting the details of all the campaign list\n",
    "filtcamptier1 = filtered_campaigns.join(campaign_details,cond,'left')\n",
    "\n",
    "#To filter the campaigns before applying model \"TO_check !=  True\"\n",
    "filtcamptier2 = filtcamptier1.join(campaigns_list,filtcamptier1.orderid == campaigns_list.orders_id,'left')\n",
    "filtcamptier2 =filtcamptier2.withColumn(\"To_check\",when(col('To_check') == True,col('To_check')).otherwise(False))\n",
    "filtcamptier3 = filtcamptier2.where(col('To_check') == False )"
   ]
  },
  {
   "cell_type": "code",
   "execution_count": null,
   "metadata": {},
   "outputs": [],
   "source": [
    "#comparing campaigns \n",
    "from pyspark.sql.types import BooleanType,StringType\n",
    "import re\n",
    "#'DBS',indosat','grab','Google roadblock','uber','opera']\n",
    "\n",
    "#GOJEK\n",
    "def regex_filter(x):\n",
    "    list_campaign = ['DBS']\n",
    "    filter_status = ''\n",
    "    string_x = x[:5]\n",
    "    for camp in list_campaign:\n",
    "        if camp.lower() in string_x.lower():\n",
    "            filter_status = True\n",
    "    return filter_status\n",
    "filter_udf = udf(regex_filter, BooleanType())\n",
    "\n",
    "#Before application of the model\n",
    "filtcamptier3 = filtcamptier3.withColumn('Filter_campaigns',filter_udf(filtcamptier3.Order_name))    "
   ]
  },
  {
   "cell_type": "code",
   "execution_count": null,
   "metadata": {},
   "outputs": [],
   "source": [
    "#gojek old\n",
    "go_jek_old = filtcamptier3.where(col('Filter_campaigns') == True)\n",
    "go_jek_old = go_jek_old.withColumn(\"filter\",when((col('Age_group_1') != \"null\") & (col('Age_group_1') == \"25-34\")  | (col('Age_group_1') == \"35-44\"),True).otherwise(False))\n",
    "old = go_jek_old.where(col('filter') == True)\n",
    "# go_jek_final = go_jek_final.withColumn(\"CTR\",((col('clicks')/col('impressions'))*100))"
   ]
  },
  {
   "cell_type": "code",
   "execution_count": 70,
   "metadata": {},
   "outputs": [
    {
     "name": "stdout",
     "output_type": "stream",
     "text": [
      "+----------+--------------------+---------+-----------+\n",
      "|   orderid|          Order_name|ad_type_1|Age_group_1|\n",
      "+----------+--------------------+---------+-----------+\n",
      "|2187504886|DBS_20171117_2017...|     dnau|      35-44|\n",
      "|2187504886|DBS_20171117_2017...|     dnau|      35-44|\n",
      "| 481449876|DBS_20170304_2017...|     dnau|      25-34|\n",
      "|2159496889|DBS_20171007_2017...|     dnau|      35-44|\n",
      "|2159496889|DBS_20171007_2017...|     dnau|      25-34|\n",
      "|2159496889|DBS_20171007_2017...|     dnau|      25-34|\n",
      "|2159496889|DBS_20171007_2017...|     dnau|      35-44|\n",
      "|2171438586|DBS_20171024_2017...|     dnau|      35-44|\n",
      "|2171438586|DBS_20171024_2017...|     dnau|      35-44|\n",
      "|2171438586|DBS_20171024_2017...|     dnau|      35-44|\n",
      "|2171438586|DBS_20171024_2017...|     dnau|      35-44|\n",
      "|2171438586|DBS_20171024_2017...|     dnau|      35-44|\n",
      "|2171438586|DBS_20171024_2017...|     dnau|      35-44|\n",
      "|2171438586|DBS_20171024_2017...|     dnau|      35-44|\n",
      "|2171438586|DBS_20171024_2017...|     dnau|      35-44|\n",
      "|2171438586|DBS_20171024_2017...|     dnau|      35-44|\n",
      "|2171438586|DBS_20171024_2017...|     dnau|      35-44|\n",
      "| 469814676|DBS_20170228_2017...|     dnau|      35-44|\n",
      "| 469814676|DBS_20170228_2017...|     dnau|      35-44|\n",
      "| 469814676|DBS_20170228_2017...|     dnau|      35-44|\n",
      "|2153567206|DBS-CPC_20170928_...|     dnau|      25-34|\n",
      "|2153567206|DBS-CPC_20170928_...|     dnau|      35-44|\n",
      "|2153567206|DBS-CPC_20170928_...|     dnau|      35-44|\n",
      "|2153567206|DBS-CPC_20170928_...|     dnau|      25-34|\n",
      "|2188172576|DBS-Bandung_20171...|     dnau|      35-44|\n",
      "|2188172576|DBS-Bandung_20171...|     dnau|      35-44|\n",
      "|2153655008|DBS-CPM_20170928_...|     dnau|      35-44|\n",
      "|2153655008|DBS-CPM_20170928_...|     dnau|      35-44|\n",
      "|2153655008|DBS-CPM_20170928_...|     dnau|      25-34|\n",
      "|2153655008|DBS-CPM_20170928_...|     dnau|      25-34|\n",
      "|2159500015|DBS-CPM_20171007_...|     dnau|      35-44|\n",
      "|2159500015|DBS-CPM_20171007_...|     dnau|      35-44|\n",
      "|2159500015|DBS-CPM_20171007_...|     dnau|      25-34|\n",
      "|2159500015|DBS-CPM_20171007_...|     dnau|      25-34|\n",
      "|2153069418|DBS-CPC_20170926_...|     dnau|      25-34|\n",
      "|2153069418|DBS-CPC_20170926_...|     dnau|      25-34|\n",
      "|2153071818|DBS-CPM_20170926_...|     dnau|      25-34|\n",
      "|2153071818|DBS-CPM_20170926_...|     dnau|      25-34|\n",
      "| 468015156|DBS_20170224_2017...|     dnau|      25-34|\n",
      "+----------+--------------------+---------+-----------+\n",
      "\n"
     ]
    }
   ],
   "source": [
    "old.select(['orderid','Order_name','ad_type_1','Age_group_1','']).show(55)"
   ]
  },
  {
   "cell_type": "code",
   "execution_count": null,
   "metadata": {},
   "outputs": [],
   "source": [
    "old.columns"
   ]
  },
  {
   "cell_type": "code",
   "execution_count": 71,
   "metadata": {},
   "outputs": [],
   "source": [
    "#gojek new\n",
    "campaignslisttier1 = campaignslisttier1.withColumn('Filter_campaigns',filter_udf(campaignslisttier1.order))\n",
    "go_jek_new = campaignslisttier1.where(col('Filter_campaigns') == True)\n",
    "go_jek_new = go_jek_new.withColumn(\"filter\",when(col('Age_group_1') != \"null\",True).otherwise(False))\n",
    "new = go_jek_new.where(col('filter') == True)"
   ]
  },
  {
   "cell_type": "code",
   "execution_count": 63,
   "metadata": {},
   "outputs": [
    {
     "name": "stdout",
     "output_type": "stream",
     "text": [
      "39\n",
      "+------------------+\n",
      "|     avg(Duration)|\n",
      "+------------------+\n",
      "|126.28205128205128|\n",
      "+------------------+\n",
      "\n",
      "None\n",
      "+------------------+\n",
      "|          avg(CTR)|\n",
      "+------------------+\n",
      "|0.9570425041501479|\n",
      "+------------------+\n",
      "\n",
      "None\n",
      "+--------------------+\n",
      "|avg(budget)         |\n",
      "+--------------------+\n",
      "|1.063101031028205E13|\n",
      "+--------------------+\n",
      "\n",
      "None\n",
      "+--------------+-----+\n",
      "|target_country|count|\n",
      "+--------------+-----+\n",
      "|     Tangerang|    2|\n",
      "|        Bekasi|   33|\n",
      "|     Indonesia|    2|\n",
      "|       Bandung|    2|\n",
      "+--------------+-----+\n",
      "\n",
      "None\n"
     ]
    }
   ],
   "source": [
    "#calculating statistics\n",
    "#no of campaigns\n",
    "print old.count()\n",
    "\n",
    "#calculate the difference between timestamps\n",
    "from pyspark.sql import functions as F\n",
    "timeFmt = \"yyyy-MM-dd\"\n",
    "timeDiff = (F.unix_timestamp('IOEndDate', format=timeFmt)\n",
    "            - F.unix_timestamp('IOStartDate', format=timeFmt))\n",
    "#for old\n",
    "old = old.withColumn(\"Duration\", (((timeDiff/60)/60/24)))\n",
    "\n",
    "# #avg no of days \n",
    "print old.agg(avg(col('Duration'))).show()\n",
    "\n",
    "#impressions and clicks \n",
    "old = old.withColumn(\"CTR\",((col('clicks')/col('impressions'))*100))\n",
    "\n",
    "#CTR calculation - check the conditions to filter \n",
    "rem_out = old.where(col('CTR').isNotNull())\n",
    "print rem_out.agg(avg(col('CTR'))).show()\n",
    "\n",
    "\n",
    "#Average Budget \n",
    "print old.agg(avg(col('budget'))).show(1,False)\n",
    "\n",
    "print old.groupby('target_country').count().show()"
   ]
  },
  {
   "cell_type": "code",
   "execution_count": 47,
   "metadata": {},
   "outputs": [
    {
     "name": "stdout",
     "output_type": "stream",
     "text": [
      "37\n",
      "+-----------------+\n",
      "|    avg(Duration)|\n",
      "+-----------------+\n",
      "|5.666666666666667|\n",
      "+-----------------+\n",
      "\n",
      "None\n",
      "+------------------+\n",
      "|          avg(CTR)|\n",
      "+------------------+\n",
      "|0.9056756813947866|\n",
      "+------------------+\n",
      "\n",
      "None\n",
      "+-----------+\n",
      "|avg(budget)|\n",
      "+-----------+\n",
      "|1.126608E13|\n",
      "+-----------+\n",
      "\n",
      "None\n",
      "+--------------+-----+\n",
      "|target_country|count|\n",
      "+--------------+-----+\n",
      "|        Bekasi|   18|\n",
      "+--------------+-----+\n",
      "\n",
      "None\n"
     ]
    }
   ],
   "source": [
    "#no of campaigns\n",
    "print go_jek_new.count()\n",
    "\n",
    "#calculate the difference between timestamps\n",
    "from pyspark.sql import functions as F\n",
    "timeFmt = \"yyyy-MM-dd\"\n",
    "timeDiff = (F.unix_timestamp('End_date', format=timeFmt)\n",
    "            - F.unix_timestamp('start_date', format=timeFmt))\n",
    "#for old\n",
    "new = new.withColumn(\"Duration\", (((timeDiff/60)/60/24)))\n",
    "\n",
    "#avg no of days \n",
    "print new.agg(avg(col('Duration'))).show()\n",
    "\n",
    "# impressions and clicks \n",
    "new = new.withColumn(\"CTR\",((col('clicks')/col('impressions'))*100))\n",
    "\n",
    "#CTR calculation - check the conditions to filter \n",
    "new = new.where(col('CTR') !=0)\n",
    "print new.agg(avg(col('CTR'))).show()\n",
    "\n",
    "#Average Budget \n",
    "print new.agg(avg(col('budget'))).show(1,False)\n",
    "\n",
    "\n",
    "print new.groupby('target_country').count().show()"
   ]
  },
  {
   "cell_type": "code",
   "execution_count": 40,
   "metadata": {},
   "outputs": [
    {
     "data": {
      "text/plain": [
       "57"
      ]
     },
     "execution_count": 40,
     "metadata": {},
     "output_type": "execute_result"
    }
   ],
   "source": [
    "old.count()"
   ]
  },
  {
   "cell_type": "code",
   "execution_count": 60,
   "metadata": {},
   "outputs": [
    {
     "name": "stdout",
     "output_type": "stream",
     "text": [
      "+-------+----------+---------+-----------+\n",
      "|orderid|Order_name|ad_type_1|Age_group_1|\n",
      "+-------+----------+---------+-----------+\n",
      "+-------+----------+---------+-----------+\n",
      "\n"
     ]
    }
   ],
   "source": []
  },
  {
   "cell_type": "code",
   "execution_count": 51,
   "metadata": {},
   "outputs": [
    {
     "name": "stdout",
     "output_type": "stream",
     "text": [
      "+----------+--------------------+---------+-----------+------------------+\n",
      "| orders_id|               order|ad_type_1|Age_group_1|               CTR|\n",
      "+----------+--------------------+---------+-----------+------------------+\n",
      "|2180363900|DBS-EXC_20171107_...|     dnau|      35-44| 0.623251384010953|\n",
      "|2180363900|DBS-EXC_20171107_...|     dnau|      35-44|0.7881480642970342|\n",
      "|2180363900|DBS-EXC_20171107_...|     dnau|      35-44| 0.839585751754242|\n",
      "|2180363900|DBS-EXC_20171107_...|     dnau|      35-44|0.7689039932030586|\n",
      "|2180363900|DBS-EXC_20171107_...|     dnau|      35-44|0.9423430522721302|\n",
      "|2180363900|DBS-EXC_20171107_...|     dnau|      35-44|0.6171376291768033|\n",
      "|2191042068|DBS-Bandung-Audie...|     dnau|      25-34|0.9405624042708225|\n",
      "|2191042068|DBS-Bandung-Audie...|     dnau|      25-34|1.0806782187441772|\n",
      "|2195762072|DBS_20171129_2017...|     dnau|      35-44|0.8551919673190004|\n",
      "|2195762072|DBS_20171129_2017...|     dnau|      35-44|1.1148272017837235|\n",
      "|2199386871|DBS_20171205_2017...|     dnau|      35-44|0.7185228506976356|\n",
      "|2199386871|DBS_20171205_2017...|     dnau|      35-44|0.7735726174108112|\n",
      "|2219369450|DBS_20180107_2017...|     dnau|      35-44|1.3292935910033845|\n",
      "|2219369450|DBS_20180107_2017...|     dnau|      35-44|0.9492515516611902|\n",
      "|2227357855|DBS_20180118_2017...|     dnau|      35-44|0.7912355447352405|\n",
      "|2227357855|DBS_20180118_2017...|     dnau|      35-44|1.1247519709686662|\n",
      "|2227917100|DBS_20180121_2017...|     dnau|      35-44| 0.902696365767878|\n",
      "|2227917100|DBS_20180121_2017...|     dnau|      35-44|1.1422081060294071|\n",
      "+----------+--------------------+---------+-----------+------------------+\n",
      "\n"
     ]
    }
   ],
   "source": [
    "new.select(['orders_id','order','ad_type_1','Age_group_1','CTR']).show(55)"
   ]
  },
  {
   "cell_type": "code",
   "execution_count": null,
   "metadata": {},
   "outputs": [],
   "source": []
  }
 ],
 "metadata": {
  "kernelspec": {
   "display_name": "PySpark",
   "language": "python",
   "name": "python2"
  },
  "language_info": {
   "codemirror_mode": {
    "name": "ipython",
    "version": 2
   },
   "file_extension": ".py",
   "mimetype": "text/x-python",
   "name": "python",
   "nbconvert_exporter": "python",
   "pygments_lexer": "ipython2",
   "version": "2.7.9"
  }
 },
 "nbformat": 4,
 "nbformat_minor": 2
}

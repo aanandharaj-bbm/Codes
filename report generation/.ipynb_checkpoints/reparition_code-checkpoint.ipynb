{
 "cells": [
  {
   "cell_type": "code",
   "execution_count": 1,
   "metadata": {},
   "outputs": [],
   "source": [
    "from pyspark import SparkConf, SparkContext\n",
    "from pyspark.sql import SQLContext\n",
    "from collections import defaultdict\n",
    "from pyspark.sql.types import *\n",
    "from pyspark.sql import functions as sf\n",
    "from pyspark.sql.functions import expr\n",
    "from pyspark.sql.functions import *\n",
    "import pandas as pd\n",
    "import time\n",
    "sc.stop()\n",
    "sc = SparkContext()\n",
    "sql = SQLContext(sc)"
   ]
  },
  {
   "cell_type": "code",
   "execution_count": 2,
   "metadata": {},
   "outputs": [],
   "source": [
    "# year= [2017,2018]\n",
    "# month = [1,2,3,4,5,6,7,8,9,10,11,12]\n",
    "# day = [1,2,3,4,5,6,7,8,9,10,11,12,13,14,15,16,17,18,19,20,21,22,23,24,25,26,27,28,29,30,31]\n",
    "# for y in year:\n",
    "#     for m in month:\n",
    "#         for d in day:\n",
    "#             path = 'gs://bbm-data-warehouse-production-bigdata/tables/flat-logs/year='+str(y)+'/month='+str(m)+'/day='+str(d)+'/'\n",
    "#             try:\n",
    "#                 original_file = sql.read.parquet(path)\n",
    "#                 status =  \"path exists\"\n",
    "#             except Exception,e:\n",
    "#                 status =  \"Path doesn't exists\"\n",
    "#             print status\n",
    "#             if status == \"path exists\":\n",
    "#                 print original_file.rdd.getNumPartitions()\n",
    "#                 original_file  = original_file.withColumn('Status',when((col('tag') == 'OFFER') & (col('mainID') == 'True'),'click').otherwise('null'))\n",
    "#                 original_file  = original_file.withColumn('Status',when((col('tag') == 'RENDER') & (col('mainID') == 'True'),'Impression'))\n",
    "#                 new_file = original_file.repartition(1)\n",
    "#                 final_file = new_file.select('orderID','placementid','adid').where(col('Status') != 'null')\n",
    "#                 print final_file.rdd.getNumPartitions()\n",
    "#                 write_path =\"gs://ds-taste-dfp/aggregated_data/click_aggregated_by_date/year=\"+str(y)+'/month='+str(m)+'/day='+str(d)+'/'\n",
    "#                 final_file.write.mode('overwrite').parquet(write_path)\n",
    "\n",
    "    "
   ]
  },
  {
   "cell_type": "code",
   "execution_count": 7,
   "metadata": {},
   "outputs": [
    {
     "name": "stdout",
     "output_type": "stream",
     "text": [
      "gs://ds-taste-dfp/aggregated_data/click_aggregated_by_date/year=2018/month=1/day=1/\r\n",
      "gs://ds-taste-dfp/aggregated_data/click_aggregated_by_date/year=2018/month=1/day=1/_SUCCESS\r\n",
      "gs://ds-taste-dfp/aggregated_data/click_aggregated_by_date/year=2018/month=1/day=1/part-00000-f9512847-1168-4f0b-8170-b78c0c4bcaaa-c000.snappy.parquet\r\n"
     ]
    }
   ],
   "source": [
    "!gsutil ls gs://ds-taste-dfp/aggregated_data/click_aggregated_by_date/year=2018/month=1/day=1/"
   ]
  },
  {
   "cell_type": "code",
   "execution_count": 26,
   "metadata": {},
   "outputs": [],
   "source": [
    "check = sql.read.parquet(\"gs://ds-taste-dfp/aggregated_data/click_aggregated_by_date/year=2018/month=1/day=1/*\")"
   ]
  },
  {
   "cell_type": "code",
   "execution_count": 27,
   "metadata": {},
   "outputs": [],
   "source": [
    "new_file = check.repartition(1)"
   ]
  },
  {
   "cell_type": "code",
   "execution_count": 29,
   "metadata": {},
   "outputs": [],
   "source": [
    "# new_file.write.parquet(\"gs://ds-taste-dfp/check/year=2018/month=1/day=1/\")"
   ]
  },
  {
   "cell_type": "code",
   "execution_count": null,
   "metadata": {},
   "outputs": [],
   "source": [
    "print final_file.rdd.getNumPartitions()"
   ]
  },
  {
   "cell_type": "code",
   "execution_count": 16,
   "metadata": {},
   "outputs": [
    {
     "data": {
      "text/plain": [
       "2578114131"
      ]
     },
     "execution_count": 16,
     "metadata": {},
     "output_type": "execute_result"
    }
   ],
   "source": [
    "check.count()"
   ]
  },
  {
   "cell_type": "code",
   "execution_count": 17,
   "metadata": {},
   "outputs": [
    {
     "name": "stdout",
     "output_type": "stream",
     "text": [
      "+----+----------+\n",
      "|adid|     count|\n",
      "+----+----------+\n",
      "|null|2578114131|\n",
      "+----+----------+\n",
      "\n"
     ]
    }
   ],
   "source": [
    "check.groupby('adid').count().show()"
   ]
  },
  {
   "cell_type": "code",
   "execution_count": 31,
   "metadata": {},
   "outputs": [],
   "source": [
    "original = sql.read.parquet(\"gs://bbm-data-warehouse-production-bigdata/tables/flat-logs/year=2018/month=1/day=1/*/*\")"
   ]
  },
  {
   "cell_type": "code",
   "execution_count": 34,
   "metadata": {},
   "outputs": [],
   "source": [
    "orginal_repart = original.repartition(1)"
   ]
  },
  {
   "cell_type": "code",
   "execution_count": null,
   "metadata": {},
   "outputs": [],
   "source": [
    "orginal_repart.select('orderId','itemId','placementid','tag','mainId','adid').write.mode('overwrite').parquet(\"gs://ds-taste-dfp/check/year=2018/month=1/day=1/\")"
   ]
  },
  {
   "cell_type": "code",
   "execution_count": null,
   "metadata": {},
   "outputs": [],
   "source": [
    "original.count()"
   ]
  },
  {
   "cell_type": "code",
   "execution_count": null,
   "metadata": {},
   "outputs": [],
   "source": [
    "checking = sql.read.parquet(\"gs://ds-taste-dfp/check/year=2018/month=1/day=1/\")"
   ]
  },
  {
   "cell_type": "code",
   "execution_count": null,
   "metadata": {},
   "outputs": [],
   "source": [
    "checking.count()"
   ]
  }
 ],
 "metadata": {
  "kernelspec": {
   "display_name": "PySpark",
   "language": "python",
   "name": "python2"
  },
  "language_info": {
   "codemirror_mode": {
    "name": "ipython",
    "version": 2
   },
   "file_extension": ".py",
   "mimetype": "text/x-python",
   "name": "python",
   "nbconvert_exporter": "python",
   "pygments_lexer": "ipython2",
   "version": "2.7.9"
  }
 },
 "nbformat": 4,
 "nbformat_minor": 2
}

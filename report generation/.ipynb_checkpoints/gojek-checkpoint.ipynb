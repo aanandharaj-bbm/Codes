{
 "cells": [
  {
   "cell_type": "code",
   "execution_count": 48,
   "metadata": {},
   "outputs": [],
   "source": [
    "# Import appropriate modules from the client library.\n",
    "from googleads import dfp\n",
    "from collections import defaultdict\n",
    "from pyspark.sql.types import *\n",
    "from pyspark import SparkConf, SparkContext\n",
    "from pyspark.sql import SQLContext\n",
    "from pyspark.sql.functions import expr\n",
    "from pyspark.sql.functions import *\n",
    "import pandas as pd\n",
    "import time\n",
    "sc.stop()\n",
    "sc =SparkContext()\n",
    "sqlCtx = SQLContext(sc)\n"
   ]
  },
  {
   "cell_type": "code",
   "execution_count": 49,
   "metadata": {},
   "outputs": [],
   "source": [
    "# Campaign details from MARK \n",
    "rdd = sc.textFile(\"gs://ds-url-catag/campaign_analysis/campaign_details.csv\") \\\n",
    "    .map(lambda line: line.split(\";\"))     \n",
    "first_line = rdd.first()\n",
    "campaigns_list = rdd.filter(lambda line: line != first_line).toDF(['orders_id','order','audseg_idname','audseg_id','impr','click','category'])\n"
   ]
  },
  {
   "cell_type": "code",
   "execution_count": 50,
   "metadata": {},
   "outputs": [],
   "source": [
    "#details of the campaigns - This has to be removed \n",
    "campaign_details = sqlCtx.read.parquet(\"gs://ds-url-catag/campaign_analysis/processed_orders/\")\n",
    "\n",
    "#tagging the campagin list - the campaings that use our model\n",
    "campaigns_list = campaigns_list.withColumn(\"To_check\",lit(True))\n",
    "\n",
    "#get the details of the campagins list\n",
    "cond = [campaign_details.order_id == campaigns_list.orders_id,campaign_details.target_audienceid == campaigns_list.audseg_id]\n",
    "\n",
    "#getting the detailds of all the campaign list\n",
    "campaignslisttier1 = campaigns_list.join(campaign_details,cond,'left')"
   ]
  },
  {
   "cell_type": "code",
   "execution_count": 51,
   "metadata": {},
   "outputs": [],
   "source": [
    "#reading all the campaign details obtained from datapreprocessing and scraping - previous two steps \n",
    "filtered_campaigns = sqlCtx.read.parquet(\"gs://ds-url-catag/campaign_analysis/campaign_details/\")\n",
    "filtered_campaigns = filtered_campaigns.select(col(\"order_id\").alias(\"orderid\"),col(\"Order_name\"),col(\"IABTier1Categorization\"),col(\"IOEndDate\"),col(\"IOStartDate\"))\n",
    "\n",
    "#get the details of the filtered campaigns\n",
    "cond = [campaign_details.order_id == filtered_campaigns.orderid]\n",
    "\n",
    "#getting the details of all the campaign list\n",
    "filtcamptier1 = filtered_campaigns.join(campaign_details,cond,'left')\n",
    "\n",
    "#To filter the campaigns before applying model \"TO_check !=  True\"\n",
    "filtcamptier2 = filtcamptier1.join(campaigns_list,filtcamptier1.orderid == campaigns_list.orders_id,'left')\n",
    "filtcamptier2 =filtcamptier2.withColumn(\"To_check\",when(col('To_check') == True,col('To_check')).otherwise(False))\n",
    "filtcamptier3 = filtcamptier2.where(col('To_check') == False )"
   ]
  },
  {
   "cell_type": "code",
   "execution_count": 52,
   "metadata": {},
   "outputs": [],
   "source": [
    "#comparing campaigns \n",
    "from pyspark.sql.types import BooleanType,StringType\n",
    "import re\n",
    "#'DBS',indosat','grab','Google roadblock','uber','opera']\n",
    "\n",
    "#GOJEK\n",
    "def regex_filter(x):\n",
    "    list_campaign = ['Gojek']\n",
    "    filter_status = ''\n",
    "    string_x = x[:5]\n",
    "    for camp in list_campaign:\n",
    "        if camp.lower() in string_x.lower():\n",
    "            filter_status = True\n",
    "    return filter_status\n",
    "filter_udf = udf(regex_filter, BooleanType())\n",
    "\n",
    "#Before application of the model\n",
    "filtcamptier3 = filtcamptier3.withColumn('Filter_campaigns',filter_udf(filtcamptier3.Order_name))    "
   ]
  },
  {
   "cell_type": "code",
   "execution_count": 53,
   "metadata": {},
   "outputs": [],
   "source": [
    "#gojek old\n",
    "go_jek_old = filtcamptier3.where(col('Filter_campaigns') == True)\n",
    "go_jek_old = go_jek_old.withColumn(\"filter\",when(col('Age_group_5') != \"null\",True).otherwise(False))\n",
    "go_jek_final = go_jek_old.where(col('filter') == False)\n",
    "# go_jek_final = go_jek_final.withColumn(\"CTR\",((col('clicks')/col('impressions'))*100))"
   ]
  },
  {
   "cell_type": "code",
   "execution_count": 54,
   "metadata": {},
   "outputs": [],
   "source": [
    "#gojek new\n",
    "campaignslisttier1 = campaignslisttier1.withColumn('Filter_campaigns',filter_udf(campaignslisttier1.order))\n",
    "go_jek_new = campaignslisttier1.where(col('Filter_campaigns') == True)\n"
   ]
  },
  {
   "cell_type": "code",
   "execution_count": 106,
   "metadata": {},
   "outputs": [
    {
     "name": "stdout",
     "output_type": "stream",
     "text": [
      "+---------------+-----+\n",
      "| target_country|count|\n",
      "+---------------+-----+\n",
      "|        Jakarta|    2|\n",
      "|          Bogor|    2|\n",
      "|          Depok|    2|\n",
      "|      Palembang|    2|\n",
      "|         Bekasi|    2|\n",
      "|      Indonesia|   10|\n",
      "|       Surabaya|    1|\n",
      "|          Medan|    1|\n",
      "|        Bandung|    1|\n",
      "|South Tangerang|    2|\n",
      "+---------------+-----+\n",
      "\n",
      "None\n"
     ]
    }
   ],
   "source": [
    "# #calculating statistics\n",
    "# # #no of campaigns\n",
    "# # print go_jek_final.count()\n",
    "\n",
    "# #calculate the difference between timestamps\n",
    "# from pyspark.sql import functions as F\n",
    "# timeFmt = \"yyyy-MM-dd\"\n",
    "# timeDiff = (F.unix_timestamp('IOEndDate', format=timeFmt)\n",
    "#             - F.unix_timestamp('IOStartDate', format=timeFmt))\n",
    "# #for old\n",
    "# go_jek_final = go_jek_final.withColumn(\"Duration\", (((timeDiff/60)/60/24)))\n",
    "\n",
    "# #avg no of days \n",
    "# print go_jek_final.agg(avg(col('Duration'))).show()\n",
    "\n",
    "# # impressions and clicks \n",
    "# go_jek_final = go_jek_final.withColumn(\"CTR\",((col('clicks')/col('impressions'))*100))\n",
    "\n",
    "# #CTR calculation - check the conditions to filter \n",
    "# rem_out = go_jek_final.where(col('CTR').isNotNull())\n",
    "# print rem_out.agg(avg(col('CTR'))).show()\n",
    "\n",
    "\n",
    "# #Average Budget \n",
    "# print go_jek_final.agg(avg(col('budget'))).show(1,False)\n",
    "\n",
    "print go_jek_final.groupby('target_country').count().show()"
   ]
  },
  {
   "cell_type": "code",
   "execution_count": 108,
   "metadata": {},
   "outputs": [
    {
     "name": "stdout",
     "output_type": "stream",
     "text": [
      "+---------------+-----+\n",
      "| target_country|count|\n",
      "+---------------+-----+\n",
      "|      Tangerang|    1|\n",
      "|       Makassar|    4|\n",
      "|        Jakarta|   20|\n",
      "|           null|    2|\n",
      "|          Bogor|   20|\n",
      "|          Depok|   20|\n",
      "|         Bekasi|   20|\n",
      "|      Palembang|    4|\n",
      "|       Surabaya|    4|\n",
      "|          Medan|    4|\n",
      "|        Bandung|    4|\n",
      "|         Banten|   10|\n",
      "|South Tangerang|    9|\n",
      "+---------------+-----+\n",
      "\n",
      "None\n"
     ]
    }
   ],
   "source": [
    "# #no of campaigns\n",
    "# print go_jek_new.count()\n",
    "\n",
    "# #calculate the difference between timestamps\n",
    "# from pyspark.sql import functions as F\n",
    "# timeFmt = \"yyyy-MM-dd\"\n",
    "# timeDiff = (F.unix_timestamp('End_date', format=timeFmt)\n",
    "#             - F.unix_timestamp('start_date', format=timeFmt))\n",
    "# #for old\n",
    "# go_jek_new = go_jek_new.withColumn(\"Duration\", (((timeDiff/60)/60/24)))\n",
    "\n",
    "# #avg no of days \n",
    "# print go_jek_new.agg(avg(col('Duration'))).show()\n",
    "\n",
    "# # impressions and clicks \n",
    "# go_jek_new = go_jek_new.withColumn(\"CTR\",((col('clicks')/col('impressions'))*100))\n",
    "\n",
    "# #CTR calculation - check the conditions to filter \n",
    "# rem_out_new = go_jek_new.where(col('CTR') !=0)\n",
    "# print rem_out_new.agg(avg(col('CTR'))).show()\n",
    "\n",
    "# #Average Budget \n",
    "# print go_jek_new.agg(avg(col('budget'))).show(1,False)\n",
    "\n",
    "\n",
    "print go_jek_new.groupby('target_country').count().show()"
   ]
  },
  {
   "cell_type": "code",
   "execution_count": 100,
   "metadata": {},
   "outputs": [
    {
     "name": "stdout",
     "output_type": "stream",
     "text": [
      "+--------------------+\n",
      "|avg(budget)         |\n",
      "+--------------------+\n",
      "|4.064284397644192E12|\n",
      "+--------------------+\n",
      "\n",
      "None\n"
     ]
    }
   ],
   "source": []
  },
  {
   "cell_type": "code",
   "execution_count": 109,
   "metadata": {},
   "outputs": [
    {
     "name": "stdout",
     "output_type": "stream",
     "text": [
      "+----------+--------------------+--------+------------------+--------------+-------------+---------+-----------+-----------+---------------+----------------------+\n",
      "|   orderid|          Order_name|Duration|               CTR|        budget|currency_code|ad_type_1|Age_group_1|Age_group_2| target_country|IABTier1Categorization|\n",
      "+----------+--------------------+--------+------------------+--------------+-------------+---------+-----------+-----------+---------------+----------------------+\n",
      "|2126562946|Gojek-Suply-Alt-2...|    31.0|              null|        100000|          IDR|     dnau|      35-44|      13-17|      Indonesia|            Automotive|\n",
      "|2126562946|Gojek-Suply-Alt-2...|    31.0|              null|        100000|          IDR|     dnau|      35-44|      18-24|      Indonesia|            Automotive|\n",
      "|2126562946|Gojek-Suply-Alt-2...|    31.0|              null|        100000|          IDR|     dnau|      35-44|      18-24|      Indonesia|            Automotive|\n",
      "|2177837480|Gojek_20171102_20...|    27.0|0.8785093242642014| 2647217423500|          IDR|     dnau|      13-17|      35-44|       Surabaya|            Automotive|\n",
      "|2177837480|Gojek_20171102_20...|    27.0|0.9067410659336151| 2791781200000|          IDR|     dnau|      13-17|      35-44|      Palembang|            Automotive|\n",
      "|2177837480|Gojek_20171102_20...|    27.0|0.5181347150259068| 1544389600000|          IDR|     dnau|      13-17|      35-44|          Bogor|            Automotive|\n",
      "|2177837480|Gojek_20171102_20...|    27.0|0.8926313660041472| 2837397122820|          IDR|     dnau|      13-17|      35-44|          Medan|            Automotive|\n",
      "|2177837480|Gojek_20171102_20...|    27.0|0.8188253368208239|64315702459710|          IDR|     dnau|      13-17|      35-44|        Jakarta|            Automotive|\n",
      "|2177837480|Gojek_20171102_20...|    27.0|0.9034589571502324|13944056100000|          IDR|     dnau|      13-17|      35-44|          Depok|            Automotive|\n",
      "|2177837480|Gojek_20171102_20...|    27.0|0.8220551378446116| 8681569327860|          IDR|     dnau|      13-17|      35-44|          Bogor|            Automotive|\n",
      "|2177837480|Gojek_20171102_20...|    27.0|0.7809184279772515|31890357753670|          IDR|     dnau|      13-17|      35-44|South Tangerang|            Automotive|\n",
      "|2177837480|Gojek_20171102_20...|    27.0|0.7744742165202694|30328786819370|          IDR|     dnau|      13-17|      35-44|         Bekasi|            Automotive|\n",
      "|2177837480|Gojek_20171102_20...|    27.0|0.8467400508044031| 2331434300000|          IDR|     dnau|      13-17|      35-44|South Tangerang|            Automotive|\n",
      "|2177837480|Gojek_20171102_20...|    27.0|1.4705882352941175| 1544389600000|          IDR|     dnau|      13-17|      35-44|          Depok|            Automotive|\n",
      "|2177837480|Gojek_20171102_20...|    27.0|0.9118260516455322| 2599988801540|          IDR|     dnau|      13-17|      35-44|        Jakarta|            Automotive|\n",
      "|2177837480|Gojek_20171102_20...|    27.0|0.8608573436401968|  164437397670|          IDR|     dnau|      13-17|      35-44|      Palembang|            Automotive|\n",
      "|2177837480|Gojek_20171102_20...|    27.0|0.9409530386740331|  772194800000|          IDR|     dnau|      13-17|      35-44|        Bandung|            Automotive|\n",
      "|2177837480|Gojek_20171102_20...|    27.0|1.1274934952298352| 1544389600000|          IDR|     dnau|      13-17|      35-44|         Bekasi|            Automotive|\n",
      "|2120316903|Gojek_20170811_20...|    23.0|0.8815794347520094|  675450000000|          IDR|     dnau|      35-44|      13-17|      Indonesia|            Automotive|\n",
      "|2120316903|Gojek_20170811_20...|    23.0|0.8455622694812839| 2025400000000|          IDR|     dnau|      35-44|      18-24|      Indonesia|            Automotive|\n",
      "|2120316903|Gojek_20170811_20...|    23.0|1.3170573519873991|18224800000000|          IDR|     dnau|      35-44|      18-24|      Indonesia|            Automotive|\n",
      "|2120316903|Gojek_20170811_20...|    23.0| 1.356382811171101| 6075250000000|          IDR|     dnau|      35-44|      18-24|      Indonesia|            Automotive|\n",
      "|2126532686|Gojek-Suply-Alt-1...|    31.0|              null|        100000|          IDR|     dnau|      35-44|      18-24|      Indonesia|            Automotive|\n",
      "|2126532686|Gojek-Suply-Alt-1...|    31.0|              null|        100000|          IDR|     dnau|      35-44|      18-24|      Indonesia|            Automotive|\n",
      "|2126532686|Gojek-Suply-Alt-1...|    31.0|              null|        100000|          IDR|     dnau|      35-44|      13-17|      Indonesia|            Automotive|\n",
      "+----------+--------------------+--------+------------------+--------------+-------------+---------+-----------+-----------+---------------+----------------------+\n",
      "\n"
     ]
    }
   ],
   "source": [
    "go_jek_final.select(['orderid','Order_name','Duration','CTR','budget','currency_code','ad_type_1','Age_group_1','Age_group_2','target_country','IABTier1Categorization']).show(44)"
   ]
  },
  {
   "cell_type": "code",
   "execution_count": null,
   "metadata": {},
   "outputs": [],
   "source": [
    "go_jek_new.agg(avg(col('Duration'))).show()\n"
   ]
  },
  {
   "cell_type": "code",
   "execution_count": 111,
   "metadata": {},
   "outputs": [],
   "source": [
    "# go_jek_new.select(['orders_id','order','clicks','Duration','CTR','budget','currency_code','ad_type_1','Age_group_1','Age_group_2','Age_group_3','Age_group_4','target_country','IABTier1Categorization']).show(123)"
   ]
  },
  {
   "cell_type": "code",
   "execution_count": 110,
   "metadata": {},
   "outputs": [
    {
     "data": {
      "text/plain": [
       "['orders_id',\n",
       " 'order',\n",
       " 'audseg_idname',\n",
       " 'audseg_id',\n",
       " 'impr',\n",
       " 'click',\n",
       " 'category',\n",
       " 'To_check',\n",
       " 'line_item_id',\n",
       " 'order_id',\n",
       " 'line_item_name',\n",
       " 'budget',\n",
       " 'currency_code',\n",
       " 'impressions',\n",
       " 'clicks',\n",
       " 'target_country',\n",
       " 'target_os',\n",
       " 'start_date',\n",
       " 'End_date',\n",
       " 'Gender',\n",
       " 'ad_type_1',\n",
       " 'ad_type_2',\n",
       " 'ad_type_3',\n",
       " 'ad_type_4',\n",
       " 'Age_group_1',\n",
       " 'Age_group_2',\n",
       " 'Age_group_3',\n",
       " 'Age_group_4',\n",
       " 'Age_group_5',\n",
       " 'Age_group_6',\n",
       " 'Age_group_7',\n",
       " 'Age_group_8',\n",
       " 'channels_1',\n",
       " 'channels_2',\n",
       " 'target_audienceid',\n",
       " 'Filter_campaigns',\n",
       " 'Duration',\n",
       " 'CTR']"
      ]
     },
     "execution_count": 110,
     "metadata": {},
     "output_type": "execute_result"
    }
   ],
   "source": [
    "go_jek_new.columns"
   ]
  },
  {
   "cell_type": "code",
   "execution_count": null,
   "metadata": {},
   "outputs": [],
   "source": []
  }
 ],
 "metadata": {
  "kernelspec": {
   "display_name": "PySpark",
   "language": "python",
   "name": "python2"
  },
  "language_info": {
   "codemirror_mode": {
    "name": "ipython",
    "version": 2
   },
   "file_extension": ".py",
   "mimetype": "text/x-python",
   "name": "python",
   "nbconvert_exporter": "python",
   "pygments_lexer": "ipython2",
   "version": "2.7.9"
  }
 },
 "nbformat": 4,
 "nbformat_minor": 2
}

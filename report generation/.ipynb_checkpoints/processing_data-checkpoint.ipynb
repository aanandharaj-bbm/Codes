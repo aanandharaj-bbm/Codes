{
 "cells": [
  {
   "cell_type": "code",
   "execution_count": 1,
   "metadata": {},
   "outputs": [],
   "source": [
    "# Import appropriate modules from the client library.\n",
    "from googleads import dfp\n",
    "from collections import defaultdict\n",
    "from pyspark.sql.types import *\n",
    "from pyspark import SparkConf, SparkContext\n",
    "from pyspark.sql import SQLContext\n",
    "from pyspark.sql.functions import expr\n",
    "from pyspark.sql.functions import *\n",
    "import pandas as pd\n",
    "import time\n",
    "sc.stop()\n",
    "\n",
    "sc =SparkContext()\n",
    "sqlCtx = SQLContext(sc)\n",
    "\n",
    "\n",
    "#connect to the dfp network\n",
    "from googleads import dfp\n",
    "dfp_client = dfp.DfpClient.LoadFromStorage()\n",
    "network_service = dfp_client.GetService('NetworkService', version='v201708')\n",
    "current_network = network_service.getCurrentNetwork()\n"
   ]
  },
  {
   "cell_type": "code",
   "execution_count": 38,
   "metadata": {},
   "outputs": [],
   "source": [
    "line_items = sqlCtx.read.parquet(\"gs://ds-url-catag/dfp_new/line_items/\")"
   ]
  },
  {
   "cell_type": "code",
   "execution_count": 39,
   "metadata": {},
   "outputs": [],
   "source": [
    "line_items = line_items.withColumn(\"start_date\",concat(col('start_date_year'),lit('-'),col('start_date_month'),lit('-'),col('start_date_day')))\n",
    "line_items = line_items.withColumn(\"End_date\",concat(col('End_date_year'),lit('-'),col('End_date_month'),lit('-'),col('End_date_day')))\n",
    "\n",
    "#dropping columns in the line items dataset\n",
    "drop_list = ['start_date_year','start_date_month','start_date_day','end_date_year','end_date_month','end_date_day']\n",
    "new_line_items = line_items.select([column for column in line_items.columns if column not in drop_list])"
   ]
  },
  {
   "cell_type": "code",
   "execution_count": 40,
   "metadata": {},
   "outputs": [],
   "source": [
    "#reading custom values high level dataset\n",
    "custom_values_high = sqlCtx.read.parquet(\"gs://ds-url-catag/dfp_new/custom_fields_line_high/\")\n",
    "\n",
    "#joinig with highlevel custom fields to find the type of demographics\n",
    "tier1data = new_line_items.join(custom_values_high,custom_values_high.id == new_line_items.target_demo,'left')\n",
    "\n",
    "\n",
    "# #dropping unwanted columns\n",
    "# drop_list = ['target_demo','id']\n",
    "# tier2data = tier1data.select([column for column in tier1data.columns if column not in drop_list])"
   ]
  },
  {
   "cell_type": "code",
   "execution_count": 41,
   "metadata": {},
   "outputs": [],
   "source": [
    "#transposing rows to columns\n",
    "new_line_items_piv = tier1data.groupBy(\"line_item_id\",\"order_id\",\"line_item_name\",\"budget\",\"impressions\",\"clicks\",\"target_country\",\"target_os\",\"target_audienceid\",\"start_date\",\"End_date\").pivot(\"displayname\").agg(expr(\"coalesce(first(values))\"))\n"
   ]
  },
  {
   "cell_type": "code",
   "execution_count": 42,
   "metadata": {},
   "outputs": [],
   "source": [
    "drop_list = ['Premium Slot','SV&V Test Targeting Flag','YourBow Pre-Flight Flag','bbm_channel','channel','staging_bbm_channel','null','Capabilities']\n",
    "tier2data = new_line_items_piv.select([column for column in new_line_items_piv.columns if column not in drop_list])"
   ]
  },
  {
   "cell_type": "code",
   "execution_count": 43,
   "metadata": {},
   "outputs": [],
   "source": [
    "from pyspark.sql.functions import split\n",
    "import re\n",
    "#cleaning the values column\n",
    "def trimming_brackets(s):\n",
    "    final_string = ''\n",
    "    new_string = s.strip('[')\n",
    "    new_string = new_string.strip(']')\n",
    "    return new_string\n",
    "\n",
    "filter_udf = udf(trimming_brackets, StringType())\n",
    "\n",
    "tier2data = tier2data.withColumn('Ad Type',filter_udf(col(\"Ad Type\")))\n",
    "\n",
    "\n",
    "#Splitting rows to columns for Ad Type\n",
    "\n",
    "tier2data = tier2data.withColumn('ad_Type_1',split(col('Ad Type'),',')[0])\n",
    "tier2data = tier2data.withColumn('ad_Type_1',regexp_replace(col('Ad Type'),'L',''))\n",
    "tier2data = tier2data.withColumn('ad_Type_1',trim(col('Ad Type')))\n",
    "tier2data = tier2data.withColumn('ad_Type_2',split(col('Ad Type'),',')[1])\n",
    "tier2data = tier2data.withColumn('ad_Type_2',regexp_replace(col('Ad Type'),'L',''))\n",
    "tier2data = tier2data.withColumn('ad_Type_2',trim(col('Ad Type')))\n",
    "tier2data = tier2data.withColumn('ad_Type_3',split(col('Ad Type'),',')[2])\n",
    "tier2data = tier2data.withColumn('ad_Type_3',regexp_replace(col('Ad Type'),'L',''))\n",
    "tier2data = tier2data.withColumn('ad_Type_3',trim(col('Ad Type')))\n",
    "tier2data = tier2data.withColumn('ad_Type_4',split(col('Ad Type'),',')[3])\n",
    "tier2data = tier2data.withColumn('ad_Type_4',regexp_replace(col('Ad Type'),'L',''))\n",
    "tier2data = tier2data.withColumn('ad_Type_4',trim(col('Ad Type')))\n",
    "\n",
    "drop_list = ['Ad Type',]\n",
    "tier2data = tier2data.select([column for column in tier2data.columns if column not in drop_list])"
   ]
  },
  {
   "cell_type": "code",
   "execution_count": 47,
   "metadata": {},
   "outputs": [
    {
     "data": {
      "text/plain": [
       "['line_item_id',\n",
       " 'order_id',\n",
       " 'line_item_name',\n",
       " 'budget',\n",
       " 'impressions',\n",
       " 'clicks',\n",
       " 'target_country',\n",
       " 'target_os',\n",
       " 'target_audienceid',\n",
       " 'start_date',\n",
       " 'End_date',\n",
       " 'Age Group',\n",
       " 'Channels',\n",
       " 'Gender',\n",
       " 'ad_Type_1',\n",
       " 'ad_Type_2',\n",
       " 'ad_Type_3',\n",
       " 'ad_Type_4',\n",
       " 'length']"
      ]
     },
     "execution_count": 47,
     "metadata": {},
     "output_type": "execute_result"
    }
   ],
   "source": [
    "tier2data.columns"
   ]
  },
  {
   "cell_type": "code",
   "execution_count": 45,
   "metadata": {},
   "outputs": [],
   "source": [
    "#cleaning Adtype\n",
    "tier2data = tier2data.withColumn('length',length(col('Age Group')))"
   ]
  },
  {
   "cell_type": "code",
   "execution_count": 48,
   "metadata": {},
   "outputs": [
    {
     "name": "stdout",
     "output_type": "stream",
     "text": [
      "+------+-----+\n",
      "|length|count|\n",
      "+------+-----+\n",
      "|  null|25773|\n",
      "|   120|   18|\n",
      "|    15| 1544|\n",
      "|    45| 2727|\n",
      "|    60| 1566|\n",
      "|    90|  503|\n",
      "|    75|  432|\n",
      "|   105| 1894|\n",
      "|     2|   97|\n",
      "|    30| 2275|\n",
      "+------+-----+\n",
      "\n"
     ]
    }
   ],
   "source": [
    "tier2data.groupby('length').count().show()"
   ]
  },
  {
   "cell_type": "code",
   "execution_count": 128,
   "metadata": {},
   "outputs": [],
   "source": [
    "\n",
    "        \n",
    "\n",
    "#splitting columns to multiple columns\n",
    "\n",
    "# new_line_items = new_line_items.withColumn('value_4',split(col('values'),',')[4])\n",
    "# new_line_items = new_line_items.withColumn('value_4',regexp_replace(col('value_4'),'L',''))\n",
    "# new_line_items = new_line_items.withColumn('value_4',trim(col('value_4')))\n",
    "# new_line_items = new_line_items.withColumn('value_5',split(col('values'),',')[5])\n",
    "# new_line_items = new_line_items.withColumn('value_5',regexp_replace(col('value_5'),'L',''))\n",
    "# new_line_items = new_line_items.withColumn('value_5',trim(col('value_5')))\n",
    "# new_line_items = new_line_items.withColumn('value_6',split(col('values'),',')[6])\n",
    "# new_line_items = new_line_items.withColumn('value_6',regexp_replace(col('value_6'),'L',''))\n",
    "# new_line_items = new_line_items.withColumn('value_6',trim(col('value_6')))\n",
    "# new_line_items = new_line_items.withColumn('value_7',split(col('values'),',')[7])\n",
    "# new_line_items = new_line_items.withColumn('value_7',regexp_replace(col('value_7'),'L',''))\n",
    "# new_line_items = new_line_items.withColumn('value_7',trim(col('value_6'))) \n",
    "\n",
    " \n",
    "#Cleaning other columns\n",
    "new_line_items = new_line_items.withColumn('target_audienceid',filter_udf(new_line_items.target_audienceid))\n",
    "new_line_items = new_line_items.withColumn('target_audienceid',regexp_replace(col('target_audienceid'),'L',''))\n"
   ]
  },
  {
   "cell_type": "code",
   "execution_count": 98,
   "metadata": {},
   "outputs": [],
   "source": [
    "# new_line_items.select('target_demo','value_0','value_1','value_2','value_3','value_4','value_5','value_6','value_7','target_audienceid').where(col('line_item_id') == '4389749219' ).show(3,False)"
   ]
  },
  {
   "cell_type": "markdown",
   "metadata": {},
   "source": [
    "\n",
    "        \n",
    "        \n",
    "\n",
    "    \n",
    "    "
   ]
  },
  {
   "cell_type": "code",
   "execution_count": 130,
   "metadata": {},
   "outputs": [],
   "source": [
    "# tier1data.select('line_item_id','target_demo','id','displayName').where(col('line_item_id') == '4389749219' ).show(3,False)"
   ]
  },
  {
   "cell_type": "code",
   "execution_count": 131,
   "metadata": {},
   "outputs": [],
   "source": [
    "#reading custom fields low\n",
    "custom_values_low = sqlCtx.read.parquet(\"gs://ds-url-catag/dfp_new/custom_fields_line/\")\n",
    "\n",
    "#renamingcolumns \n",
    "custom_values_low = custom_values_low.withColumn(\"or_displayname\",col('displayname'))\n",
    "custom_values_low = custom_values_low.withColumn(\"or_customtargetid\",col('customtargetid'))\n",
    "\n",
    "#dropping unwanted columns\n",
    "drop_list = ['displayname','customtargetid']\n",
    "custom_values_low = custom_values_low.select([column for column in custom_values_low.columns if column not in drop_list])\n"
   ]
  },
  {
   "cell_type": "code",
   "execution_count": 135,
   "metadata": {},
   "outputs": [],
   "source": [
    "# #joinig with lowlevel custom fields to find the demographic values - value_0\n",
    "tier3data = tier2data.join(custom_values_low,custom_values_low.id == tier2data.value_0,'left')\n",
    "\n",
    "tier3data =tier3data.withColumn('value_0_name',col('name'))\n",
    "tier3data =tier3data.withColumn('value_0_displayname',col('or_displayname'))\n",
    "tier3data =tier3data.withColumn('value_0_cusid',col('or_customtargetid'))\n",
    "\n",
    "drop_list = ['value_0','id','name','or_displayname','or_customtargetid']\n",
    "\n",
    "tier3data = tier3data.select([column for column in tier3data.columns if column not in drop_list])\n",
    "\n",
    "\n",
    "#joinig with lowlevel custom fields to find the demographic values - value_1\n",
    "tier4data = tier3data.join(custom_values_low,custom_values_low.id == tier3data.value_1,'left')\n",
    "tier4data =tier4data.withColumn('value_1_name',col('name'))\n",
    "tier4data =tier4data.withColumn('value_1_displayname',col('or_displayname'))\n",
    "tier4data =tier4data.withColumn('value_1_cusid',col('or_customtargetid'))\n",
    "\n",
    "drop_list = ['value_1','id','name','or_displayname','or_customtargetid']\n",
    "\n",
    "tier4data = tier4data.select([column for column in tier4data.columns if column not in drop_list])\n",
    "\n",
    "\n",
    "#joinig with lowlevel custom fields to find the demographic values - value_2\n",
    "tier5data = tier4data.join(custom_values_low,custom_values_low.id == tier4data.value_2,'left')\n",
    "tier5data =tier5data.withColumn('value_2_name',col('name'))\n",
    "tier5data =tier5data.withColumn('value_2_displayname',col('or_displayname'))\n",
    "tier5data =tier5data.withColumn('value_2_cusid',col('or_customtargetid'))\n",
    "\n",
    "drop_list = ['value_2','id','name','or_displayname','or_customtargetid']\n",
    "\n",
    "tier5data = tier5data.select([column for column in tier5data.columns if column not in drop_list])\n",
    "\n",
    "\n",
    "# #joinig with lowlevel custom fields to find the demographic values - value_3\n",
    "tier6data = tier5data.join(custom_values_low,custom_values_low.id == tier5data.value_3,'left')\n",
    "tier6data =tier6data.withColumn('value_3_name',col('name'))\n",
    "tier6data =tier6data.withColumn('value_3_displayname',col('or_displayname'))\n",
    "tier6data =tier6data.withColumn('value_3_cusid',col('or_customtargetid'))\n",
    "\n",
    "drop_list = ['value_3','id','name','or_displayname','or_customtargetid']\n",
    "\n",
    "tier6data = tier6data.select([column for column in tier6data.columns if column not in drop_list])\n",
    "\n",
    "\n",
    "# #joinig with lowlevel custom fields to find the demographic values - value_4\n",
    "tier7data = tier6data.join(custom_values_low,custom_values_low.id == tier6data.value_4,'left')\n",
    "tier7data =tier7data.withColumn('value_4_name',col('name'))\n",
    "tier7data =tier7data.withColumn('value_4_displayname',col('or_displayname'))\n",
    "tier7data =tier7data.withColumn('value_4_cusid',col('or_customtargetid'))\n",
    "\n",
    "drop_list = ['value_4','id','name','or_displayname','or_customtargetid']\n",
    "\n",
    "tier7data = tier7data.select([column for column in tier7data.columns if column not in drop_list])\n",
    "\n",
    "\n",
    "#joinig with lowlevel custom fields to find the demographic values - value_5\n",
    "tier8data = tier7data.join(custom_values_low,custom_values_low.id == tier7data.value_5,'left')\n",
    "tier8data =tier8data.withColumn('value_5_name',col('name'))\n",
    "tier8data =tier8data.withColumn('value_5_displayname',col('or_displayname'))\n",
    "tier8data =tier8data.withColumn('value_5_cusid',col('or_customtargetid'))\n",
    "\n",
    "\n",
    "drop_list = ['value_5','id','name','or_displayname','or_customtargetid']\n",
    "\n",
    "tier8data = tier8data.select([column for column in tier8data.columns if column not in drop_list])\n",
    "\n",
    "# #joinig with lowlevel custom fields to find the demographic values - value_6\n",
    "tier9data = tier8data.join(custom_values_low,custom_values_low.id == tier8data.value_6,'left')\n",
    "tier9data =tier9data.withColumn('value_6_name',col('name'))\n",
    "tier9data =tier9data.withColumn('value_6_displayname',col('or_displayname'))\n",
    "tier9data =tier9data.withColumn('value_6_cusid',col('or_customtargetid'))\n",
    "\n",
    "drop_list = ['value_6','id','name','or_displayname','or_customtargetid']\n",
    "\n",
    "tier9data = tier9data.select([column for column in tier9data.columns if column not in drop_list])\n",
    "\n",
    "\n",
    "#joinig with lowlevel custom fields to find the demographic values - value_7\n",
    "tier10data = tier9data.join(custom_values_low,custom_values_low.id == tier9data.value_7,'left')\n",
    "tier10data =tier10data.withColumn('value_7_name',col('name'))\n",
    "tier10data =tier10data.withColumn('value_7_displayname',col('or_displayname'))\n",
    "tier10data =tier10data.withColumn('value_7_cusid',col('or_customtargetid'))\n",
    "\n",
    "drop_list = ['value_7','id','name','or_displayname','or_customtargetid']\n",
    "\n",
    "tier10data = tier10data.select([column for column in tier10data.columns if column not in drop_list])\n",
    "\n"
   ]
  },
  {
   "cell_type": "code",
   "execution_count": 139,
   "metadata": {},
   "outputs": [
    {
     "name": "stdout",
     "output_type": "stream",
     "text": [
      "+-----------+----------------------------------------------------------+----------------------------------------+-------------------+-------------------+\n",
      "|displayname|values                                                    |value_0_displayname                     |value_1_displayname|value_2_displayname|\n",
      "+-----------+----------------------------------------------------------+----------------------------------------+-------------------+-------------------+\n",
      "|Age Group  |138540114996L, 138540114516L, 138540114276L, 138540114756L|35-44                                   |18-24              |13-17              |\n",
      "|Ad Type    |140963284836L                                             |BBM Display Post w/o interstitial (DNAU)|null               |null               |\n",
      "|Ad Type    |                                                          |null                                    |null               |null               |\n",
      "+-----------+----------------------------------------------------------+----------------------------------------+-------------------+-------------------+\n",
      "\n"
     ]
    }
   ],
   "source": [
    "tier10data.select('displayname','values','value_0_displayname','value_1_displayname','value_2_displayname').where(col('line_item_id') == '4389749219' ).show(3,False)"
   ]
  },
  {
   "cell_type": "code",
   "execution_count": 134,
   "metadata": {},
   "outputs": [
    {
     "name": "stdout",
     "output_type": "stream",
     "text": [
      "+------------+----+--------------+-----------------+\n",
      "|          id|name|or_displayname|or_customtargetid|\n",
      "+------------+----+--------------+-----------------+\n",
      "|138540114516|   2|         18-24|           361596|\n",
      "+------------+----+--------------+-----------------+\n",
      "\n"
     ]
    }
   ],
   "source": [
    "custom_values_low.where(col('id') == 138540114516).show()"
   ]
  },
  {
   "cell_type": "code",
   "execution_count": null,
   "metadata": {},
   "outputs": [],
   "source": []
  }
 ],
 "metadata": {
  "kernelspec": {
   "display_name": "PySpark",
   "language": "python",
   "name": "python2"
  }
 },
 "nbformat": 4,
 "nbformat_minor": 2
}

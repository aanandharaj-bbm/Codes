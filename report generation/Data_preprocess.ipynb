{
 "cells": [
  {
   "cell_type": "code",
   "execution_count": 1,
   "metadata": {},
   "outputs": [],
   "source": [
    "# Import appropriate modules from the client library.\n",
    "from googleads import dfp\n",
    "from collections import defaultdict\n",
    "from pyspark.sql.types import *\n",
    "from pyspark import SparkConf, SparkContext\n",
    "from pyspark.sql import SQLContext\n",
    "from pyspark.sql.functions import expr\n",
    "from pyspark.sql.functions import *\n",
    "import pandas as pd\n",
    "import time\n",
    "sc.stop()\n",
    "\n",
    "sc =SparkContext()\n",
    "sqlCtx = SQLContext(sc)\n",
    "\n",
    "\n",
    "#connect to the dfp network\n",
    "from googleads import dfp\n",
    "dfp_client = dfp.DfpClient.LoadFromStorage()\n",
    "network_service = dfp_client.GetService('NetworkService', version='v201708')\n",
    "current_network = network_service.getCurrentNetwork()\n"
   ]
  },
  {
   "cell_type": "code",
   "execution_count": 73,
   "metadata": {},
   "outputs": [],
   "source": [
    "line_items = sqlCtx.read.parquet(\"gs://ds-url-catag/dfp_new/line_items/\")"
   ]
  },
  {
   "cell_type": "code",
   "execution_count": 74,
   "metadata": {},
   "outputs": [],
   "source": [
    "line_items = line_items.withColumn(\"start_date\",concat(col('start_date_year'),lit('-'),col('start_date_month'),lit('-'),col('start_date_day')))\n",
    "line_items = line_items.withColumn(\"End_date\",concat(col('End_date_year'),lit('-'),col('End_date_month'),lit('-'),col('End_date_day')))\n",
    "\n",
    "#dropping columns in the line items dataset\n",
    "drop_list = ['start_date_year','start_date_month','start_date_day','end_date_year','end_date_month','end_date_day']\n",
    "new_line_items = line_items.select([column for column in line_items.columns if column not in drop_list])"
   ]
  },
  {
   "cell_type": "code",
   "execution_count": 75,
   "metadata": {},
   "outputs": [],
   "source": [
    "#reading custom values high level dataset\n",
    "custom_values_high = sqlCtx.read.parquet(\"gs://ds-url-catag/dfp_new/custom_fields_line_high/\")\n",
    "\n",
    "#joinig with highlevel custom fields to find the type of demographics\n",
    "tier1data = new_line_items.join(custom_values_high,custom_values_high.id == new_line_items.target_demo,'left')\n",
    "\n",
    "\n",
    "# #dropping unwanted columns\n",
    "# drop_list = ['target_demo','id']\n",
    "# tier2data = tier1data.select([column for column in tier1data.columns if column not in drop_list])"
   ]
  },
  {
   "cell_type": "code",
   "execution_count": 76,
   "metadata": {},
   "outputs": [],
   "source": [
    "#transposing rows to columns\n",
    "new_line_items_piv = tier1data.groupBy(\"line_item_id\",\"order_id\",\"line_item_name\",\"budget\",\"currency_code\",\"impressions\",\"clicks\",\"target_country\",\"target_os\",\"target_audienceid\",\"start_date\",\"End_date\").pivot(\"displayname\").agg(expr(\"coalesce(first(values))\"))\n"
   ]
  },
  {
   "cell_type": "code",
   "execution_count": 77,
   "metadata": {},
   "outputs": [],
   "source": [
    "drop_list = ['Premium Slot','SV&V Test Targeting Flag','YourBow Pre-Flight Flag','bbm_channel','channel','staging_bbm_channel','null','Capabilities']\n",
    "tier2data = new_line_items_piv.select([column for column in new_line_items_piv.columns if column not in drop_list])"
   ]
  },
  {
   "cell_type": "code",
   "execution_count": 79,
   "metadata": {},
   "outputs": [],
   "source": [
    "from pyspark.sql.functions import split\n",
    "import re\n",
    "#cleaning the values column Ad Type\n",
    "def trimming_brackets(s):\n",
    "    final_string = ''\n",
    "    if s is not None :\n",
    "        new_string = s.strip('[')\n",
    "        new_string = new_string.strip(']')\n",
    "    else:\n",
    "        new_string = None\n",
    "    return new_string\n",
    "\n",
    "filter_udf = udf(trimming_brackets, StringType())\n",
    "\n",
    "tier2data = tier2data.withColumn('Ad Type',filter_udf(col(\"Ad Type\")))\n",
    "\n",
    "\n",
    "#Splitting rows to columns for Ad Type\n",
    "\n",
    "tier2data = tier2data.withColumn('ad_Type_1',split(col('Ad Type'),',')[0])\n",
    "tier2data = tier2data.withColumn('ad_Type_1',regexp_replace(col('ad_Type_1'),'L',''))\n",
    "# tier2data = tier2data.withColumn('ad_Type_1',trim(col('ad_Type_1')))\n",
    "tier2data = tier2data.withColumn('ad_Type_2',split(col('Ad Type'),',')[1])\n",
    "tier2data = tier2data.withColumn('ad_Type_2',regexp_replace(col('ad_Type_2'),'L',''))\n",
    "tier2data = tier2data.withColumn('ad_Type_2',trim(col('ad_Type_2')))\n",
    "tier2data = tier2data.withColumn('ad_Type_3',split(col('Ad Type'),',')[2])\n",
    "tier2data = tier2data.withColumn('ad_Type_3',regexp_replace(col('ad_Type_3'),'L',''))\n",
    "tier2data = tier2data.withColumn('ad_Type_3',trim(col('ad_Type_3')))\n",
    "tier2data = tier2data.withColumn('ad_Type_4',split(col('Ad Type'),',')[3])\n",
    "tier2data = tier2data.withColumn('ad_Type_4',regexp_replace(col('ad_Type_4'),'L',''))\n",
    "tier2data = tier2data.withColumn('ad_Type_4',trim(col('ad_Type_4')))\n",
    "\n",
    "drop_list = ['Ad Type']\n",
    "tier2data = tier2data.select([column for column in tier2data.columns if column not in drop_list])"
   ]
  },
  {
   "cell_type": "code",
   "execution_count": 80,
   "metadata": {},
   "outputs": [],
   "source": [
    "#cleaning the values column Age group\n",
    "filter_udf = udf(trimming_brackets, StringType())\n",
    "\n",
    "tier2data = tier2data.withColumn('Age Group',filter_udf(col(\"Age Group\")))\n",
    "\n",
    "\n",
    "#Splitting rows to columns for Ad Type\n",
    "tier2data = tier2data.withColumn('Age_group_1',split(col('Age Group'),',')[0])\n",
    "tier2data = tier2data.withColumn('Age_group_1',regexp_replace(col('Age_group_1'),'L',''))\n",
    "tier2data = tier2data.withColumn('Age_group_1',trim(col('Age_group_1')))\n",
    "tier2data = tier2data.withColumn('Age_group_2',split(col('Age Group'),',')[1])\n",
    "tier2data = tier2data.withColumn('Age_group_2',regexp_replace(col('Age_group_2'),'L',''))\n",
    "tier2data = tier2data.withColumn('Age_group_2',trim(col('Age_group_2')))\n",
    "tier2data = tier2data.withColumn('Age_group_3',split(col('Age Group'),',')[2])\n",
    "tier2data = tier2data.withColumn('Age_group_3',regexp_replace(col('Age_group_3'),'L',''))\n",
    "tier2data = tier2data.withColumn('Age_group_3',trim(col('Age_group_3')))\n",
    "tier2data = tier2data.withColumn('Age_group_4',split(col('Age Group'),',')[3])\n",
    "tier2data = tier2data.withColumn('Age_group_4',regexp_replace(col('Age_group_4'),'L',''))\n",
    "tier2data = tier2data.withColumn('Age_group_4',trim(col('Age_group_4')))\n",
    "tier2data = tier2data.withColumn('Age_group_5',split(col('Age Group'),',')[4])\n",
    "tier2data = tier2data.withColumn('Age_group_5',regexp_replace(col('Age_group_5'),'L',''))\n",
    "tier2data = tier2data.withColumn('Age_group_5',trim(col('Age_group_5')))\n",
    "tier2data = tier2data.withColumn('Age_group_6',split(col('Age Group'),',')[5])\n",
    "tier2data = tier2data.withColumn('Age_group_6',regexp_replace(col('Age_group_6'),'L',''))\n",
    "tier2data = tier2data.withColumn('Age_group_6',trim(col('Age_group_6')))\n",
    "tier2data = tier2data.withColumn('Age_group_7',split(col('Age Group'),',')[6])\n",
    "tier2data = tier2data.withColumn('Age_group_7',regexp_replace(col('Age_group_7'),'L',''))\n",
    "tier2data = tier2data.withColumn('Age_group_7',trim(col('Age_group_7')))\n",
    "tier2data = tier2data.withColumn('Age_group_8',split(col('Age Group'),',')[7])\n",
    "tier2data = tier2data.withColumn('Age_group_8',regexp_replace(col('Age_group_8'),'L',''))\n",
    "tier2data = tier2data.withColumn('Age_group_8',trim(col('Age_group_8')))\n",
    " \n",
    "\n",
    "drop_list = ['Age Group']\n",
    "tier2data = tier2data.select([column for column in tier2data.columns if column not in drop_list])\n",
    "        "
   ]
  },
  {
   "cell_type": "code",
   "execution_count": 81,
   "metadata": {},
   "outputs": [],
   "source": [
    "#cleaning the values column channels\n",
    "tier2data = tier2data.withColumn('Channels',filter_udf(col(\"Channels\")))\n",
    "\n",
    "\n",
    "#Splitting rows to columns for Ad Type\n",
    "tier2data = tier2data.withColumn('channels_1',split(col('Channels'),',')[0])\n",
    "tier2data = tier2data.withColumn('channels_1',regexp_replace(col('channels_1'),'L',''))\n",
    "tier2data = tier2data.withColumn('channels_1',trim(col('channels_1')))\n",
    "tier2data = tier2data.withColumn('channels_2',split(col('Channels'),',')[1])\n",
    "tier2data = tier2data.withColumn('channels_2',regexp_replace(col('channels_2'),'L',''))\n",
    "tier2data = tier2data.withColumn('channels_2',trim(col('channels_2')))\n",
    "\n",
    "drop_list = ['Channels']\n",
    "tier2data = tier2data.select([column for column in tier2data.columns if column not in drop_list])"
   ]
  },
  {
   "cell_type": "code",
   "execution_count": 82,
   "metadata": {},
   "outputs": [],
   "source": [
    "#cleaning the values column Gender\n",
    "tier2data = tier2data.withColumn('Gender',filter_udf(col(\"Gender\")))\n",
    "tier2data = tier2data.withColumn('Gender',regexp_replace(col('Gender'),'L',''))\n",
    "tier2data = tier2data.withColumn('Gender',trim(col('Gender')))\n",
    "\n"
   ]
  },
  {
   "cell_type": "code",
   "execution_count": 83,
   "metadata": {},
   "outputs": [],
   "source": [
    "#cleaning the values column Gender\n",
    "tier2data = tier2data.withColumn('target_audienceid',filter_udf(col(\"target_audienceid\")))\n",
    "tier2data = tier2data.withColumn('target_audienceid',regexp_replace(col('target_audienceid'),'L',''))\n",
    "tier2data = tier2data.withColumn('target_audienceid',trim(col('target_audienceid')))\n"
   ]
  },
  {
   "cell_type": "markdown",
   "metadata": {},
   "source": [
    "\n",
    "        \n",
    "        \n",
    "\n",
    "    \n",
    "    "
   ]
  },
  {
   "cell_type": "code",
   "execution_count": 84,
   "metadata": {},
   "outputs": [],
   "source": [
    "#reading custom fields low\n",
    "custom_values_low = sqlCtx.read.parquet(\"gs://ds-url-catag/dfp_new/custom_fields_line/\")\n",
    "\n",
    "#renamingcolumns \n",
    "custom_values_low = custom_values_low.withColumn(\"or_displayname\",col('displayname'))\n",
    "custom_values_low = custom_values_low.withColumn(\"or_customtargetid\",col('customtargetid'))\n",
    "\n",
    "#dropping unwanted columns\n",
    "drop_list = ['displayname','customtargetid']\n",
    "custom_values_low = custom_values_low.select([column for column in custom_values_low.columns if column not in drop_list])\n"
   ]
  },
  {
   "cell_type": "code",
   "execution_count": 85,
   "metadata": {},
   "outputs": [],
   "source": [
    "# #joinig Adtype to get the values\n",
    "#adtye 1\n",
    "tier2data = tier2data.join(custom_values_low,custom_values_low.id == tier2data.ad_Type_1,'left')\n",
    "tier2data =tier2data.withColumn('ad_Type_1',col('name'))\n",
    "drop_list = ['id','name','or_displayname','or_customtargetid']\n",
    "\n",
    "tier2data = tier2data.select([column for column in tier2data.columns if column not in drop_list])\n",
    "\n",
    "\n",
    "#adtye 2\n",
    "tier2data = tier2data.join(custom_values_low,custom_values_low.id == tier2data.ad_Type_2,'left')\n",
    "tier2data =tier2data.withColumn('ad_Type_2',col('name'))\n",
    "drop_list = ['id','name','or_displayname','or_customtargetid']\n",
    "\n",
    "tier2data = tier2data.select([column for column in tier2data.columns if column not in drop_list])\n",
    "\n",
    "#adtye 3\n",
    "tier2data = tier2data.join(custom_values_low,custom_values_low.id == tier2data.ad_Type_3,'left')\n",
    "tier2data =tier2data.withColumn('ad_Type_3',col('name'))\n",
    "drop_list = ['id','name','or_displayname','or_customtargetid']\n",
    "\n",
    "tier2data = tier2data.select([column for column in tier2data.columns if column not in drop_list])\n",
    "\n",
    "#adtye 4\n",
    "tier2data = tier2data.join(custom_values_low,custom_values_low.id == tier2data.ad_Type_4,'left')\n",
    "tier2data =tier2data.withColumn('ad_Type_4',col('name'))\n",
    "drop_list = ['id','name','or_displayname','or_customtargetid']\n",
    "\n",
    "tier2data = tier2data.select([column for column in tier2data.columns if column not in drop_list])\n",
    "\n"
   ]
  },
  {
   "cell_type": "code",
   "execution_count": 86,
   "metadata": {},
   "outputs": [],
   "source": [
    "# #joinig Age group to get the values\n",
    "#Agegroup1\n",
    "tier2data = tier2data.join(custom_values_low,custom_values_low.id == tier2data.Age_group_1,'left')\n",
    "tier2data =tier2data.withColumn('Age_group_1',col('or_displayname'))\n",
    "drop_list = ['id','name','or_displayname','or_customtargetid']\n",
    "\n",
    "tier2data = tier2data.select([column for column in tier2data.columns if column not in drop_list])\n",
    "\n",
    "\n",
    "#Agegroup2\n",
    "tier2data = tier2data.join(custom_values_low,custom_values_low.id == tier2data.Age_group_2,'left')\n",
    "tier2data =tier2data.withColumn('Age_group_2',col('or_displayname'))\n",
    "drop_list = ['id','name','or_displayname','or_customtargetid']\n",
    "\n",
    "tier2data = tier2data.select([column for column in tier2data.columns if column not in drop_list])\n",
    "\n",
    "#Agegroup3\n",
    "tier2data = tier2data.join(custom_values_low,custom_values_low.id == tier2data.Age_group_3,'left')\n",
    "tier2data =tier2data.withColumn('Age_group_3',col('or_displayname'))\n",
    "drop_list = ['id','name','or_displayname','or_customtargetid']\n",
    "\n",
    "tier2data = tier2data.select([column for column in tier2data.columns if column not in drop_list])\n",
    "\n",
    "#Agegroup4\n",
    "tier2data = tier2data.join(custom_values_low,custom_values_low.id == tier2data.Age_group_4,'left')\n",
    "tier2data =tier2data.withColumn('Age_group_4',col('or_displayname'))\n",
    "drop_list = ['id','name','or_displayname','or_customtargetid']\n",
    "\n",
    "tier2data = tier2data.select([column for column in tier2data.columns if column not in drop_list])\n",
    "\n",
    "#Agegroup5\n",
    "tier2data = tier2data.join(custom_values_low,custom_values_low.id == tier2data.Age_group_5,'left')\n",
    "tier2data =tier2data.withColumn('Age_group_5',col('or_displayname'))\n",
    "drop_list = ['id','name','or_displayname','or_customtargetid']\n",
    "\n",
    "tier2data = tier2data.select([column for column in tier2data.columns if column not in drop_list])\n",
    "\n",
    "\n",
    "#Agegroup6\n",
    "tier2data = tier2data.join(custom_values_low,custom_values_low.id == tier2data.Age_group_6,'left')\n",
    "tier2data =tier2data.withColumn('Age_group_6',col('or_displayname'))\n",
    "drop_list = ['id','name','or_displayname','or_customtargetid']\n",
    "\n",
    "tier2data = tier2data.select([column for column in tier2data.columns if column not in drop_list])\n",
    "\n",
    "#Agegroup7\n",
    "tier2data = tier2data.join(custom_values_low,custom_values_low.id == tier2data.Age_group_7,'left')\n",
    "tier2data =tier2data.withColumn('Age_group_7',col('or_displayname'))\n",
    "drop_list = ['id','name','or_displayname','or_customtargetid']\n",
    "\n",
    "tier2data = tier2data.select([column for column in tier2data.columns if column not in drop_list])\n",
    "\n",
    "#Agegroup8\n",
    "tier2data = tier2data.join(custom_values_low,custom_values_low.id == tier2data.Age_group_8,'left')\n",
    "tier2data =tier2data.withColumn('Age_group_8',col('or_displayname'))\n",
    "drop_list = ['id','name','or_displayname','or_customtargetid']\n",
    "\n",
    "tier2data = tier2data.select([column for column in tier2data.columns if column not in drop_list])"
   ]
  },
  {
   "cell_type": "code",
   "execution_count": 87,
   "metadata": {},
   "outputs": [],
   "source": [
    "# #joinig Gender to get the values\n",
    "#Agegroup1\n",
    "tier2data = tier2data.join(custom_values_low,custom_values_low.id == tier2data.Gender,'left')\n",
    "tier2data =tier2data.withColumn('Gender',col('name'))\n",
    "drop_list = ['id','name','or_displayname','or_customtargetid']\n",
    "tier2data = tier2data.select([column for column in tier2data.columns if column not in drop_list])"
   ]
  },
  {
   "cell_type": "code",
   "execution_count": 89,
   "metadata": {},
   "outputs": [],
   "source": [
    "tier3data = tier2data.groupby('line_item_id','order_id','line_item_name','budget','currency_code','impressions','clicks','target_country','target_os','start_date','End_date').agg(max('Gender').alias('Gender'),max(\"ad_type_1\").alias('ad_type_1'),max(\"ad_type_2\").alias('ad_type_2'),max(\"ad_type_3\").alias('ad_type_3'),max(\"ad_type_4\").alias('ad_type_4'),max(\"Age_group_1\").alias('Age_group_1'),max(\"Age_group_2\").alias('Age_group_2'),max(\"Age_group_3\").alias('Age_group_3'),max(\"Age_group_4\").alias('Age_group_4'),max(\"Age_group_5\").alias('Age_group_5'),max(\"Age_group_6\").alias('Age_group_6'),max(\"Age_group_7\").alias('Age_group_7'),max(\"Age_group_8\").alias('Age_group_8'),max(\"channels_1\").alias('channels_1'),max(\"channels_2\").alias('channels_2'),max(\"target_audienceid\").alias('target_audienceid'))"
   ]
  },
  {
   "cell_type": "code",
   "execution_count": 94,
   "metadata": {},
   "outputs": [],
   "source": [
    "tier3data.write.mode('overwrite').parquet(\"gs://ds-url-catag/campaign_analysis/processed_orders/\")"
   ]
  },
  {
   "cell_type": "code",
   "execution_count": null,
   "metadata": {},
   "outputs": [],
   "source": []
  }
 ],
 "metadata": {
  "kernelspec": {
   "display_name": "PySpark",
   "language": "python",
   "name": "python2"
  },
  "language_info": {
   "codemirror_mode": {
    "name": "ipython",
    "version": 2
   },
   "file_extension": ".py",
   "mimetype": "text/x-python",
   "name": "python",
   "nbconvert_exporter": "python",
   "pygments_lexer": "ipython2",
   "version": "2.7.9"
  }
 },
 "nbformat": 4,
 "nbformat_minor": 2
}

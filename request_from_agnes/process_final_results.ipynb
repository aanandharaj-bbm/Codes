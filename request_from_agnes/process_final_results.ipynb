{
 "cells": [
  {
   "cell_type": "code",
   "execution_count": 2,
   "metadata": {},
   "outputs": [],
   "source": [
    "# Import appropriate modules from the client library.\n",
    "from googleads import dfp\n",
    "from collections import defaultdict\n",
    "from pyspark.sql.types import *\n",
    "from pyspark import SparkConf, SparkContext\n",
    "from pyspark.sql import SQLContext\n",
    "from pyspark.sql.functions import expr\n",
    "from pyspark.sql.functions import *\n",
    "import pandas as pd\n",
    "import time\n",
    "sc.stop()\n",
    "sc =SparkContext()\n",
    "sqlCtx = SQLContext(sc)"
   ]
  },
  {
   "cell_type": "code",
   "execution_count": 3,
   "metadata": {},
   "outputs": [],
   "source": [
    "rdd = sc.textFile(\"gs://ds-url-catag/Email_requests_from_agnes/Request_6/request_5.csv\")"
   ]
  },
  {
   "cell_type": "code",
   "execution_count": 4,
   "metadata": {},
   "outputs": [],
   "source": [
    "header = rdd.first()"
   ]
  },
  {
   "cell_type": "code",
   "execution_count": 5,
   "metadata": {},
   "outputs": [],
   "source": [
    "emails_before = rdd.filter(lambda line: line != header).map(lambda line: line.split(\",\")).toDF(['email'])\n",
    "\n",
    "repart_emails = emails_before.repartition(9)"
   ]
  },
  {
   "cell_type": "code",
   "execution_count": 6,
   "metadata": {},
   "outputs": [
    {
     "data": {
      "text/plain": [
       "3686885"
      ]
     },
     "execution_count": 6,
     "metadata": {},
     "output_type": "execute_result"
    }
   ],
   "source": [
    "emails_before.count()"
   ]
  },
  {
   "cell_type": "code",
   "execution_count": 38,
   "metadata": {},
   "outputs": [],
   "source": [
    "repart_emails.write.mode('overwrite').text(\"gs://ds-url-catag/Email_requests_from_agnes/Request_6/text_format/\")"
   ]
  },
  {
   "cell_type": "code",
   "execution_count": 26,
   "metadata": {},
   "outputs": [],
   "source": [
    "#processing the rest of emails\n",
    "final_set = sc.textFile(\"gs://ds-url-catag/Email_requests_from_agnes/Request_5/first_set/\")"
   ]
  },
  {
   "cell_type": "code",
   "execution_count": 27,
   "metadata": {},
   "outputs": [],
   "source": [
    "head = final_set.first()"
   ]
  },
  {
   "cell_type": "code",
   "execution_count": 28,
   "metadata": {},
   "outputs": [
    {
     "data": {
      "text/plain": [
       "u'\"InputData\",\"ResultStatus\",\"ResultEmailAddress\",\"ResultEmailAddressLocalPart\",\"ResultEmailAddressDomainPart\",\"ResultAsciiEmailAddressDomainPart\",\"ResultHasInternationalDomainName\",\"ResultHasInternationalMailboxName\",\"ResultIsCatchAllFailure\",\"ResultIsDisposableEmailAddress\",\"ResultIsRoleAccount\",\"ResultIsDnsFailure\",\"ResultIsMailboxFailure\",\"ResultIsNetworkFailure\",\"ResultIsSmtpFailure\",\"ResultIsSuccess\",\"ResultIsSyntaxFailure\",\"ResultIsTimeoutFailure\",\"ResultSyntaxFailureIndex\",\"CreatedOn\",\"CompletedOn\"'"
      ]
     },
     "execution_count": 28,
     "metadata": {},
     "output_type": "execute_result"
    }
   ],
   "source": [
    "final_set.first()"
   ]
  },
  {
   "cell_type": "code",
   "execution_count": 29,
   "metadata": {},
   "outputs": [
    {
     "data": {
      "text/plain": [
       "3554176"
      ]
     },
     "execution_count": 29,
     "metadata": {},
     "output_type": "execute_result"
    }
   ],
   "source": [
    "final_set.count()"
   ]
  },
  {
   "cell_type": "code",
   "execution_count": 30,
   "metadata": {},
   "outputs": [],
   "source": [
    "writing_emails = final_set.filter(lambda line: line != head).map(lambda line: line.split(\",\")).toDF([\"InputData\",\"ResultStatus\",\"ResultEmailAddress\",\"ResultEmailAddressLocalPart\",\"ResultEmailAddressDomainPart\",\"ResultAsciiEmailAddressDomainPart\",\"ResultHasInternationalDomainName\",\"ResultHasInternationalMailboxName\",\"ResultIsCatchAllFailure\",\"ResultIsDisposableEmailAddress\",\"ResultIsRoleAccount\",\"ResultIsDnsFailure\",\"ResultIsMailboxFailure\",\"ResultIsNetworkFailure\",\"ResultIsSmtpFailure\",\"ResultIsSuccess\",\"ResultIsSyntaxFailure\",\"ResultIsTimeoutFailure\",\"ResultSyntaxFailureIndex\",\"CreatedOn\",\"CompletedOn\"])"
   ]
  },
  {
   "cell_type": "code",
   "execution_count": 31,
   "metadata": {},
   "outputs": [
    {
     "data": {
      "text/plain": [
       "2356311"
      ]
     },
     "execution_count": 31,
     "metadata": {},
     "output_type": "execute_result"
    }
   ],
   "source": [
    "writing_emails.select([\"InputData\",\"ResultStatus\"]).where(col('ResultStatus') == '\"Success\"').count()"
   ]
  },
  {
   "cell_type": "code",
   "execution_count": 32,
   "metadata": {},
   "outputs": [],
   "source": [
    "# status_success = \n",
    "result_success = writing_emails.select([\"InputData\",\"ResultStatus\"]).where(col('ResultStatus') == '\"Success\"')\n",
    "result_success = result_success.withColumn(\"InputData\",regexp_replace(col('InputData'),'\"',''))"
   ]
  },
  {
   "cell_type": "code",
   "execution_count": 33,
   "metadata": {},
   "outputs": [
    {
     "name": "stdout",
     "output_type": "stream",
     "text": [
      "+--------------------+------------+\n",
      "|           InputData|ResultStatus|\n",
      "+--------------------+------------+\n",
      "|changemylife@gmai...|   \"Success\"|\n",
      "|arjiputra100@gmai...|   \"Success\"|\n",
      "|ilyasa.yazha@gmai...|   \"Success\"|\n",
      "|laura.kertapawita...|   \"Success\"|\n",
      "|putra.sunda332@gm...|   \"Success\"|\n",
      "|astri.yuliawati1@...|   \"Success\"|\n",
      "|vixionerherdi@gma...|   \"Success\"|\n",
      "|kenizzunlazuardy@...|   \"Success\"|\n",
      "|afriguswandi.94@g...|   \"Success\"|\n",
      "|  deaobita@gmail.com|   \"Success\"|\n",
      "| halimr073@gmail.com|   \"Success\"|\n",
      "| pardekptk@gmail.com|   \"Success\"|\n",
      "|ekaputrautomo@gma...|   \"Success\"|\n",
      "|atikah.herlina88@...|   \"Success\"|\n",
      "|miftasayangendo@g...|   \"Success\"|\n",
      "|novandryekonugroh...|   \"Success\"|\n",
      "| ali148231@gmail.com|   \"Success\"|\n",
      "|ajanono011@gmail.com|   \"Success\"|\n",
      "| varhan039@gmail.com|   \"Success\"|\n",
      "|nurfitrianto717@g...|   \"Success\"|\n",
      "+--------------------+------------+\n",
      "only showing top 20 rows\n",
      "\n"
     ]
    }
   ],
   "source": [
    "result_success.show()"
   ]
  },
  {
   "cell_type": "code",
   "execution_count": 34,
   "metadata": {},
   "outputs": [],
   "source": [
    "result_success.select([\"InputData\"]).coalesce(1).write.mode('overwrite').format(\"com.databricks.spark.csv\").save(\"gs://ds-url-catag/Email_requests_from_agnes/Request_5/final_results/\")   "
   ]
  },
  {
   "cell_type": "code",
   "execution_count": 35,
   "metadata": {},
   "outputs": [],
   "source": [
    "check = sc.textFile(\"gs://ds-url-catag/Email_requests_from_agnes/Request_5/final_results/\")"
   ]
  },
  {
   "cell_type": "code",
   "execution_count": 36,
   "metadata": {},
   "outputs": [
    {
     "data": {
      "text/plain": [
       "2356311"
      ]
     },
     "execution_count": 36,
     "metadata": {},
     "output_type": "execute_result"
    }
   ],
   "source": [
    "check.count()"
   ]
  },
  {
   "cell_type": "code",
   "execution_count": 37,
   "metadata": {},
   "outputs": [
    {
     "data": {
      "text/plain": [
       "[u'changemylife@gmail.com',\n",
       " u'arjiputra100@gmail.com',\n",
       " u'ilyasa.yazha@gmail.com',\n",
       " u'laura.kertapawitan20@gmail.com',\n",
       " u'putra.sunda332@gmail.com',\n",
       " u'astri.yuliawati1@gmail.com',\n",
       " u'vixionerherdi@gmail.com',\n",
       " u'kenizzunlazuardy@gmail.com',\n",
       " u'afriguswandi.94@gmail.com',\n",
       " u'deaobita@gmail.com']"
      ]
     },
     "execution_count": 37,
     "metadata": {},
     "output_type": "execute_result"
    }
   ],
   "source": [
    "check.take(10)"
   ]
  },
  {
   "cell_type": "code",
   "execution_count": null,
   "metadata": {},
   "outputs": [],
   "source": []
  }
 ],
 "metadata": {
  "kernelspec": {
   "display_name": "PySpark",
   "language": "python",
   "name": "python2"
  },
  "language_info": {
   "codemirror_mode": {
    "name": "ipython",
    "version": 2
   },
   "file_extension": ".py",
   "mimetype": "text/x-python",
   "name": "python",
   "nbconvert_exporter": "python",
   "pygments_lexer": "ipython2",
   "version": "2.7.9"
  }
 },
 "nbformat": 4,
 "nbformat_minor": 2
}

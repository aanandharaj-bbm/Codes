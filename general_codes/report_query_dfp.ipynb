{
 "cells": [
  {
   "cell_type": "code",
   "execution_count": 1,
   "metadata": {},
   "outputs": [
    {
     "name": "stdout",
     "output_type": "stream",
     "text": [
      "Found network BlackBerry Limited (90363076)!\n"
     ]
    }
   ],
   "source": [
    "from googleads import dfp\n",
    "dfp_client = dfp.DfpClient.LoadFromStorage()\n",
    "network_service = dfp_client.GetService('NetworkService', version='v201705')\n",
    "current_network = network_service.getCurrentNetwork()\n",
    "print 'Found network %s (%s)!' % (current_network['displayName'],current_network['networkCode'])"
   ]
  },
  {
   "cell_type": "code",
   "execution_count": 8,
   "metadata": {},
   "outputs": [
    {
     "name": "stdout",
     "output_type": "stream",
     "text": [
      "Report job with id \"10027488633\" downloaded to:\n",
      "/root/notebooks/query_test.csv.gz\n"
     ]
    },
    {
     "ename": "NameError",
     "evalue": "name 'report_file' is not defined",
     "output_type": "error",
     "traceback": [
      "\u001b[0;31m\u001b[0m",
      "\u001b[0;31mNameError\u001b[0mTraceback (most recent call last)",
      "\u001b[0;32m<ipython-input-8-be907ad6f169>\u001b[0m in \u001b[0;36m<module>\u001b[0;34m()\u001b[0m\n\u001b[1;32m     70\u001b[0m   \u001b[0mmain\u001b[0m\u001b[0;34m(\u001b[0m\u001b[0mdfp_client\u001b[0m\u001b[0;34m,\u001b[0m \u001b[0mORDER_ID\u001b[0m\u001b[0;34m)\u001b[0m\u001b[0;34m\u001b[0m\u001b[0m\n\u001b[1;32m     71\u001b[0m \u001b[0;34m\u001b[0m\u001b[0m\n\u001b[0;32m---> 72\u001b[0;31m \u001b[0;32mwith\u001b[0m \u001b[0mopen\u001b[0m\u001b[0;34m(\u001b[0m\u001b[0mreport_file\u001b[0m\u001b[0;34m.\u001b[0m\u001b[0mname\u001b[0m\u001b[0;34m,\u001b[0m \u001b[0;34m'rb'\u001b[0m\u001b[0;34m)\u001b[0m \u001b[0;32mas\u001b[0m \u001b[0mreport\u001b[0m\u001b[0;34m:\u001b[0m\u001b[0;34m\u001b[0m\u001b[0m\n\u001b[0m\u001b[1;32m     73\u001b[0m     \u001b[0mreport_reader\u001b[0m \u001b[0;34m=\u001b[0m \u001b[0mcsv\u001b[0m\u001b[0;34m.\u001b[0m\u001b[0mreader\u001b[0m\u001b[0;34m(\u001b[0m\u001b[0mreport\u001b[0m\u001b[0;34m)\u001b[0m\u001b[0;34m\u001b[0m\u001b[0m\n\u001b[1;32m     74\u001b[0m     \u001b[0;32mfor\u001b[0m \u001b[0mrow\u001b[0m \u001b[0;32min\u001b[0m \u001b[0mreport_reader\u001b[0m\u001b[0;34m:\u001b[0m\u001b[0;34m\u001b[0m\u001b[0m\n",
      "\u001b[0;31mNameError\u001b[0m: name 'report_file' is not defined"
     ]
    }
   ],
   "source": [
    "from datetime import datetime\n",
    "from datetime import timedelta\n",
    "import tempfile\n",
    "\n",
    "# Import appropriate modules from the client library.\n",
    "from googleads import dfp\n",
    "from googleads import errors\n",
    "\n",
    "ORDER_ID = '2129581187'\n",
    "\n",
    "\n",
    "def main(client, order_id):\n",
    "  # Create statement object to filter for an order.\n",
    "  values = [{\n",
    "      'key': 'id',\n",
    "      'value': {\n",
    "          'xsi_type': 'NumberValue',\n",
    "          'value': order_id\n",
    "      }\n",
    "  }]\n",
    "  filter_statement = {'query': 'WHERE ORDER_ID = :id',\n",
    "                      'values': values}\n",
    "\n",
    "  # Set the start and end dates of the report to run (past 8 days).\n",
    "  end_date = datetime.now().date()\n",
    "  start_date = end_date - timedelta(days=8)\n",
    "\n",
    "  # Create report job.\n",
    "  report_job = {\n",
    "      'reportQuery': {\n",
    "          'dimensions': ['ORDER_ID','ORDER_NAME','LINE_ITEM_ID','LINE_ITEM_NAME','LINE_ITEM_TYPE','CREATIVE_ID', 'CREATIVE_NAME','CREATIVE_TYPE','NATIVE_TEMPLATE_ID','NATIVE_TEMPLATE_NAME'],\n",
    "          'dimensionAttributes': ['CREATIVE_CLICK_THROUGH_URL'],\n",
    "          'statement': filter_statement,\n",
    "          'columns': ['AD_SERVER_IMPRESSIONS', 'AD_SERVER_CLICKS',\n",
    "                      'AD_SERVER_CTR', 'AD_SERVER_CPM_AND_CPC_REVENUE',\n",
    "                      'AD_SERVER_WITHOUT_CPD_AVERAGE_ECPM'],\n",
    "          'dateRangeType': 'CUSTOM_DATE',\n",
    "          'startDate': start_date,\n",
    "          'endDate': end_date\n",
    "      }\n",
    "  }\n",
    "\n",
    "  # Initialize a DataDownloader.\n",
    "  report_downloader = client.GetDataDownloader(version='v201708')\n",
    "\n",
    "  try:\n",
    "    # Run the report and wait for it to finish.\n",
    "    report_job_id = report_downloader.WaitForReport(report_job)\n",
    "  except errors.DfpReportError, e:\n",
    "    print 'Failed to generate report. Error was: %s' % e\n",
    "\n",
    "  # Change to your preferred export format.\n",
    "  export_format = 'CSV_DUMP'\n",
    "\n",
    "  report_file = open('/root/notebooks/query_test.csv.gz','w')\n",
    "\n",
    "  # Download report data.\n",
    "  report_downloader.DownloadReportToFile(\n",
    "      report_job_id, export_format, report_file)\n",
    "\n",
    "  report_file.close()\n",
    "\n",
    "  # Display results.\n",
    "  print 'Report job with id \"%s\" downloaded to:\\n%s' % (\n",
    "      report_job_id, report_file.name)\n",
    "\n",
    "if __name__ == '__main__':\n",
    "  # Initialize client object.\n",
    "  dfp_client = dfp.DfpClient.LoadFromStorage()\n",
    "  main(dfp_client, ORDER_ID)\n",
    "\n"
   ]
  },
  {
   "cell_type": "code",
   "execution_count": 11,
   "metadata": {},
   "outputs": [
    {
     "ename": "Error",
     "evalue": "line contains NULL byte",
     "output_type": "error",
     "traceback": [
      "\u001b[0;31m\u001b[0m",
      "\u001b[0;31mError\u001b[0mTraceback (most recent call last)",
      "\u001b[0;32m<ipython-input-11-8f4cf0fcdf0f>\u001b[0m in \u001b[0;36m<module>\u001b[0;34m()\u001b[0m\n\u001b[1;32m      3\u001b[0m \u001b[0;32mwith\u001b[0m \u001b[0mopen\u001b[0m\u001b[0;34m(\u001b[0m\u001b[0;34m'/root/notebooks/query_test.csv.gz'\u001b[0m\u001b[0;34m,\u001b[0m \u001b[0;34m'rb'\u001b[0m\u001b[0;34m)\u001b[0m \u001b[0;32mas\u001b[0m \u001b[0mreport\u001b[0m\u001b[0;34m:\u001b[0m\u001b[0;34m\u001b[0m\u001b[0m\n\u001b[1;32m      4\u001b[0m     \u001b[0mreport_reader\u001b[0m \u001b[0;34m=\u001b[0m \u001b[0mcsv\u001b[0m\u001b[0;34m.\u001b[0m\u001b[0mreader\u001b[0m\u001b[0;34m(\u001b[0m\u001b[0mreport\u001b[0m\u001b[0;34m)\u001b[0m\u001b[0;34m\u001b[0m\u001b[0m\n\u001b[0;32m----> 5\u001b[0;31m     \u001b[0;32mfor\u001b[0m \u001b[0mrow\u001b[0m \u001b[0;32min\u001b[0m \u001b[0mreport_reader\u001b[0m\u001b[0;34m:\u001b[0m\u001b[0;34m\u001b[0m\u001b[0m\n\u001b[0m\u001b[1;32m      6\u001b[0m       \u001b[0;32mprint\u001b[0m \u001b[0mrow\u001b[0m\u001b[0;34m\u001b[0m\u001b[0m\n",
      "\u001b[0;31mError\u001b[0m: line contains NULL byte"
     ]
    }
   ],
   "source": [
    "import csv\n",
    "\n",
    "with open('/root/notebooks/query_test.csv.gz', 'rb') as report:\n",
    "    report_reader = csv.reader(report)\n",
    "    for row in report_reader:\n",
    "      print row"
   ]
  },
  {
   "cell_type": "code",
   "execution_count": null,
   "metadata": {
    "collapsed": true
   },
   "outputs": [],
   "source": []
  }
 ],
 "metadata": {
  "kernelspec": {
   "display_name": "PySpark",
   "language": "python",
   "name": "python2"
  },
  "language_info": {
   "codemirror_mode": {
    "name": "ipython",
    "version": 2
   },
   "file_extension": ".py",
   "mimetype": "text/x-python",
   "name": "python",
   "nbconvert_exporter": "python",
   "pygments_lexer": "ipython2",
   "version": "2.7.9"
  }
 },
 "nbformat": 4,
 "nbformat_minor": 2
}

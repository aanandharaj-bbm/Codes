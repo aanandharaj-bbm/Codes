{
 "cells": [
  {
   "cell_type": "code",
   "execution_count": 1,
   "metadata": {},
   "outputs": [],
   "source": [
    "from pyspark import SparkConf, SparkContext\n",
    "from pyspark.sql.functions import *\n",
    "sc.stop()\n",
    "from pyspark.sql import SQLContext\n",
    "sc =SparkContext()\n",
    "sqlContext = SQLContext(sc)\n",
    "import pyspark.sql.functions as func\n",
    "import sys\n",
    "from pyspark.sql.functions import countDistinct"
   ]
  },
  {
   "cell_type": "code",
   "execution_count": 10,
   "metadata": {},
   "outputs": [],
   "source": [
    "df_sticker_send = sqlContext.read.parquet(\"gs://ds-sean-scrapy/dataflow-analisis-production/plenty/events/product=bbm/product=bbm/aggregated/new/BBM-STICKER-SEND/\")\n",
    "df_sticker_receiv = sqlContext.read.parquet(\"gs://ds-sean-scrapy/dataflow-analisis-production/plenty/events/product=bbm/product=bbm/aggregated/new/BBM-STICKER-RECEIVED/\")\n",
    "df_sticker_down = sqlContext.read.parquet(\"gs://ds-sean-scrapy/dataflow-analisis-production/plenty/events/product=bbm/product=bbm/aggregated/new/BBM-STICKER-DOWNLOAD/\")\n",
    "df_sticker_click = sqlContext.read.parquet(\"gs://ds-sean-scrapy/dataflow-analisis-production/plenty/events/product=bbm/product=bbm/aggregated/new/BBM-STICKER-SEND/\")\n",
    "df_sticker_sponsor_click= sqlContext.read.parquet(\"gs://ds-sean-scrapy/dataflow-analisis-production/plenty/events/product=bbm/product=bbm/aggregated/new/BBM-STICKER-SEND/\")\n"
   ]
  },
  {
   "cell_type": "code",
   "execution_count": 11,
   "metadata": {},
   "outputs": [],
   "source": [
    "df_sticker_send = df_sticker_send.withColumn(\"dataset_name\",lit(\"STICKER_SEND\"))\n",
    "df_sticker_receiv = df_sticker_receiv.withColumn(\"dataset_name\",lit(\"STICKER_RECEIVE\"))\n",
    "df_sticker_down = df_sticker_down.withColumn(\"dataset_name\",lit(\"STICKER_DOWNLOAD\"))\n",
    "df_sticker_click = df_sticker_click.withColumn(\"dataset_name\",lit(\"STICKER_CLICK\"))\n",
    "df_sticker_sponsor_click = df_sticker_sponsor_click.withColumn(\"dataset_name\",lit(\"STICKER_SPONSOR_CLICK\"))"
   ]
  },
  {
   "cell_type": "code",
   "execution_count": 12,
   "metadata": {},
   "outputs": [],
   "source": [
    "first_concat = df_sticker_send.union(df_sticker_receiv)\n",
    "second_concat = first_concat.union(df_sticker_down)\n",
    "third_concat = second_concat.union(df_sticker_click)\n",
    "fourth_concat = third_concat.union(df_sticker_sponsor_click)\n"
   ]
  },
  {
   "cell_type": "code",
   "execution_count": 13,
   "metadata": {},
   "outputs": [
    {
     "data": {
      "text/plain": [
       "['id', 'visit_id', 'user_id', 'name', 'properties', 'time', 'dataset_name']"
      ]
     },
     "execution_count": 13,
     "metadata": {},
     "output_type": "execute_result"
    }
   ],
   "source": [
    "fourth_concat.columns"
   ]
  },
  {
   "cell_type": "code",
   "execution_count": null,
   "metadata": {},
   "outputs": [],
   "source": [
    "fourth_concat.write.mode('overwrite').parquet(\"gs://ds-sean-scrapy/dataflow-analisis-production/plenty/events/product=bbm/product=bbm/aggregated/new/concatenated/\")"
   ]
  },
  {
   "cell_type": "code",
   "execution_count": 17,
   "metadata": {},
   "outputs": [],
   "source": [
    "final_ds = sqlContext.read.parquet(\"gs://ds-sean-scrapy/dataflow-analisis-production/plenty/events/product=bbm/product=bbm/aggregated/new/concatenated/\")"
   ]
  },
  {
   "cell_type": "code",
   "execution_count": 18,
   "metadata": {},
   "outputs": [],
   "source": [
    "#function to split a single column to multiple columns\n",
    "def extract_json(line, schema_names):\n",
    "    result = [x for i,x in enumerate(line) if i!=4]\n",
    "    properties = json.loads(line[4])\n",
    "    flattened = []     \n",
    "    for key in schema_names:\n",
    "        if key in properties:\n",
    "            if type(properties[key]) == unicode :\n",
    "                flattened.append(properties[key].encode('utf-8'))\n",
    "            else:\n",
    "                flattened.append(str(properties[key]))\n",
    "                \n",
    "        else:\n",
    "            flattened.append(\"NULL\")\n",
    "    result = list(result) + flattened\n",
    "    return result"
   ]
  },
  {
   "cell_type": "code",
   "execution_count": 19,
   "metadata": {},
   "outputs": [],
   "source": [
    "json_schema_final = spark.read.json(final_ds.rdd.map(lambda row: row.properties)).schema"
   ]
  },
  {
   "cell_type": "code",
   "execution_count": 34,
   "metadata": {},
   "outputs": [],
   "source": [
    "\n",
    "# #download\n",
    "old_column_names_send = df_sticker_down.drop('properties').columns\n",
    "new_items_send = ['user_id_n' if x == 'user_id' else 'app_version_n' if  x == 'app_version' else 'city_n' if  x == 'city' else 'connection_n' if  x == 'connection' else 'country_n' if  x == 'country' else 'device_brand_n' if  x == 'device_brand' else 'device_model_n' if  x == 'device_model' else 'has_nfc_n' if  x == 'has_nfc' else 'height_resolution_n' if  x == 'height_resolution' else 'new_user_n' if  x == 'new_user' else 'new_user_n_1' if  x == 'new_User' else 'os_version_n' if  x == 'os_version' else 'width_resolution_n' if  x == 'width_resolution' else x for x in json_schema_final.names]\n",
    "fin_col_names_send = old_column_names_send + new_items_send\n",
    "\n"
   ]
  },
  {
   "cell_type": "code",
   "execution_count": 35,
   "metadata": {},
   "outputs": [],
   "source": [
    "import json\n",
    "df = final_ds.rdd.map(lambda x: extract_json(x, json_schema_final.names)).toDF(fin_col_names_send)"
   ]
  },
  {
   "cell_type": "code",
   "execution_count": 36,
   "metadata": {},
   "outputs": [],
   "source": [
    "#deriving new columns\n",
    "df = df.drop('user_id')\n",
    "df = df.withColumn('City',when(df.City == 'NULL' ,df.city_n).otherwise(df.City))\n",
    "df = df.drop('city_n')\n",
    "df = df.withColumn('App_Version',when(df.App_Version == 'NULL' ,df.app_version_n).otherwise(df.App_Version))\n",
    "df = df.drop('app_version_n')\n",
    "df = df.withColumn('Connection',when(df.Connection == 'NULL' ,df.connection_n).otherwise(df.Connection))\n",
    "df = df.drop('connection_n')\n",
    "df = df.withColumn('Country',when(df.Country == 'NULL' ,df.country_n).otherwise(df.Country))\n",
    "df = df.drop('country_n')\n",
    "df = df.withColumn('Device_Brand',when(df.Device_Brand == 'NULL' ,df.device_brand_n).otherwise(df.Device_Brand))\n",
    "df = df.drop('device_brand_n')\n",
    "df = df.withColumn('Device_Model',when(df.Device_Model == 'NULL' ,df.device_model_n).otherwise(df.Device_Model))\n",
    "df = df.drop('device_model_n')\n",
    "df = df.withColumn('Has_NFC',when(df.Has_NFC == 'NULL' ,df.has_nfc_n).otherwise(df.Has_NFC))\n",
    "df = df.drop('has_nfc_n')\n",
    "df = df.withColumn('Height_Resolution',when(df.Height_Resolution == 'NULL' ,df.height_resolution_n).otherwise(df.Height_Resolution))\n",
    "df = df.drop('height_resolution_n')\n",
    "df = df.withColumn('New_User',when(df.New_User == 'NULL' ,df.new_user_n).otherwise(df.New_User))\n",
    "df = df.withColumn('New_User',when(df.New_User == 'NULL' ,df.new_user_n_1).otherwise(df.New_User))\n",
    "df = df.drop('new_user_n_1')\n",
    "df = df.drop('new_user_n')\n",
    "df = df.withColumn('OS_Version',when(df.OS_Version == 'NULL' ,df.os_version_n).otherwise(df.OS_Version))\n",
    "df = df.drop('os_version_n')\n",
    "df = df.withColumn('Width_Resolution',when(df.Width_Resolution == 'NULL' ,df.width_resolution_n).otherwise(df.Width_Resolution))\n",
    "df = df.drop('width_resolution_n')"
   ]
  },
  {
   "cell_type": "code",
   "execution_count": 40,
   "metadata": {},
   "outputs": [],
   "source": [
    "df.select('App_Version',\n",
    " 'City',\n",
    " 'Connection',\n",
    " 'Country',\n",
    " 'Device_Brand',\n",
    " 'Device_Model',\n",
    " 'Has_NFC',\n",
    " 'Height_Resolution',\n",
    " 'New_User',\n",
    " 'OS_Version',\n",
    " 'Width_Resolution',\n",
    " 'action',\n",
    " 'app_name',\n",
    " 'c_pin',\n",
    " 'carrier',\n",
    " 'dataset_name',\n",
    " 'eco_id',\n",
    " 'event_action',\n",
    " 'id',\n",
    " 'lat',\n",
    " 'license_type',\n",
    " 'long',\n",
    " 'name',\n",
    " 'platform',\n",
    " 'source',\n",
    " 'sticker_id',\n",
    " 'sticker_pack_id',\n",
    " 'test_environment',\n",
    " 'time',\n",
    " 'u_pin',\n",
    " 'user_id_n',\n",
    " 'visit_id').write.parquet(\"gs://ds-sean-scrapy/dataflow-analisis-production/plenty/events/product=bbm/product=bbm/aggregated/new/transposed/final_ds/\")"
   ]
  },
  {
   "cell_type": "code",
   "execution_count": 1,
   "metadata": {},
   "outputs": [],
   "source": [
    "#reading in data again\n",
    "df_new = sqlContext.read.parquet(\"gs://ds-sean-scrapy/dataflow-analisis-production/plenty/events/product=bbm/product=bbm/aggregated/new/transposed/final_ds/\")"
   ]
  },
  {
   "cell_type": "code",
   "execution_count": 6,
   "metadata": {},
   "outputs": [],
   "source": [
    "df_demo = sqlContext.read.parquet(\"gs://ds-user-demographic/parquet/tastes_mau_1024.parquet\")"
   ]
  },
  {
   "cell_type": "code",
   "execution_count": 3,
   "metadata": {},
   "outputs": [],
   "source": [
    "df_new = df_new.withColumn('date', concat(df_new.time.substr(1, 10)))\n",
    "df_new = df_new.withColumn('month', concat(df_new.time.substr(6, 2)))"
   ]
  },
  {
   "cell_type": "code",
   "execution_count": 6,
   "metadata": {},
   "outputs": [],
   "source": [
    "# print \"Data schema :\",len(df_new.columns),\"\\n\"\n",
    "\n",
    "# print \"Total records in the data :\",df_new.count(),\"\\n\"\n",
    "\n",
    "\n",
    "\n"
   ]
  },
  {
   "cell_type": "code",
   "execution_count": 4,
   "metadata": {},
   "outputs": [
    {
     "data": {
      "text/plain": [
       "45"
      ]
     },
     "execution_count": 4,
     "metadata": {},
     "output_type": "execute_result"
    }
   ],
   "source": [
    "df_new.select('date').distinct().count()"
   ]
  },
  {
   "cell_type": "code",
   "execution_count": 5,
   "metadata": {},
   "outputs": [
    {
     "data": {
      "text/plain": [
       "3"
      ]
     },
     "execution_count": 5,
     "metadata": {},
     "output_type": "execute_result"
    }
   ],
   "source": [
    "df_new.select('month').distinct().count()"
   ]
  },
  {
   "cell_type": "code",
   "execution_count": 6,
   "metadata": {},
   "outputs": [
    {
     "name": "stdout",
     "output_type": "stream",
     "text": [
      "+-----+----------+\n",
      "|month|     count|\n",
      "+-----+----------+\n",
      "|   11| 186133605|\n",
      "|   09| 469021062|\n",
      "|   10|1676935490|\n",
      "+-----+----------+\n",
      "\n"
     ]
    }
   ],
   "source": [
    "df_new.groupby('month').count().show()"
   ]
  },
  {
   "cell_type": "code",
   "execution_count": 3,
   "metadata": {},
   "outputs": [
    {
     "name": "stdout",
     "output_type": "stream",
     "text": [
      "+------------+----------+\n",
      "|license_type|     count|\n",
      "+------------+----------+\n",
      "|discontinued|    517629|\n",
      "|        free| 144115856|\n",
      "|        paid|    549526|\n",
      "|subscription|      2958|\n",
      "|        NULL|2186904188|\n",
      "+------------+----------+\n",
      "\n"
     ]
    }
   ],
   "source": [
    "df_new.groupby('license_type').count().show()"
   ]
  },
  {
   "cell_type": "code",
   "execution_count": null,
   "metadata": {},
   "outputs": [],
   "source": [
    "df_new.select('license_type','user_id_n').groupby('license_type').agg(countDistinct('user_id_n').alias('distinct users')).sort(col('distinct users').desc()).show()"
   ]
  },
  {
   "cell_type": "code",
   "execution_count": 12,
   "metadata": {},
   "outputs": [
    {
     "data": {
      "text/plain": [
       "10535567"
      ]
     },
     "execution_count": 12,
     "metadata": {},
     "output_type": "execute_result"
    }
   ],
   "source": [
    "df_new.select('user_id_n').distinct().count()"
   ]
  },
  {
   "cell_type": "code",
   "execution_count": 13,
   "metadata": {},
   "outputs": [
    {
     "data": {
      "text/plain": [
       "1733"
      ]
     },
     "execution_count": 13,
     "metadata": {},
     "output_type": "execute_result"
    }
   ],
   "source": [
    "df_new.select('sticker_pack_id').distinct().count()"
   ]
  },
  {
   "cell_type": "code",
   "execution_count": 14,
   "metadata": {},
   "outputs": [
    {
     "data": {
      "text/plain": [
       "19981"
      ]
     },
     "execution_count": 14,
     "metadata": {},
     "output_type": "execute_result"
    }
   ],
   "source": [
    "df_new.select('sticker_id').distinct().count()"
   ]
  },
  {
   "cell_type": "code",
   "execution_count": null,
   "metadata": {},
   "outputs": [],
   "source": [
    "df_new.select('user_id_n').distinct().count()"
   ]
  },
  {
   "cell_type": "code",
   "execution_count": 19,
   "metadata": {},
   "outputs": [
    {
     "name": "stdout",
     "output_type": "stream",
     "text": [
      "+--------------------+---------+------------------+\n",
      "|        dataset_name|      cnt|        percentage|\n",
      "+--------------------+---------+------------------+\n",
      "|        STICKER_SEND|603101791|25.860998091764596|\n",
      "|       STICKER_CLICK|603101791|25.860998091764596|\n",
      "|STICKER_SPONSOR_C...|603101791|25.860998091764596|\n",
      "|     STICKER_RECEIVE|510706032|21.899068973258395|\n",
      "|    STICKER_DOWNLOAD| 12078752|0.5179367514478129|\n",
      "+--------------------+---------+------------------+\n",
      "\n"
     ]
    }
   ],
   "source": [
    "data = df_new.groupby('dataset_name').agg(func.count(\"*\").alias('cnt'))\n",
    "total = data.select(\"cnt\").agg({\"cnt\": \"sum\"}).collect().pop()['sum(cnt)']\n",
    "data = data.withColumn(\"percentage\", (data['cnt']/total) * 100)\n",
    "data.sort(col('percentage').desc()).show()"
   ]
  },
  {
   "cell_type": "code",
   "execution_count": 22,
   "metadata": {},
   "outputs": [
    {
     "name": "stdout",
     "output_type": "stream",
     "text": [
      "+-----------------+-------------------+-----------+-------------+-------+--------------+\n",
      "|  sticker_pack_id|         sticker_id|   platform|         City|Country|distinct users|\n",
      "+-----------------+-------------------+-----------+-------------+-------+--------------+\n",
      "|              bbm|           ThumbsUp|app-android| Asia/Jakarta|     ID|       1572051|\n",
      "|              bbm|            BigGrin|app-android| Asia/Jakarta|     ID|       1284914|\n",
      "|          bbm2017|          bbm201704|app-android| Asia/Jakarta|     ID|       1190332|\n",
      "|          bbm2017|          bbm201713|app-android| Asia/Jakarta|     ID|       1173971|\n",
      "|          bbm2017|          bbm201703|app-android| Asia/Jakarta|     ID|       1127180|\n",
      "|bbmfamilyanimated|bbmfamilyanimated04|app-android| Asia/Jakarta|     ID|        958620|\n",
      "|              bbm|               Kiss|app-android| Asia/Jakarta|     ID|        940909|\n",
      "|bbmfamilyanimated|bbmfamilyanimated12|app-android| Asia/Jakarta|     ID|        936203|\n",
      "|bbmfamilyanimated|bbmfamilyanimated08|app-android| Asia/Jakarta|     ID|        935678|\n",
      "|          bbm2017|          bbm201708|app-android| Asia/Jakarta|     ID|        926763|\n",
      "|              bbm|             BigHug|app-android| Asia/Jakarta|     ID|        908440|\n",
      "|bbmfamilyanimated|bbmfamilyanimated05|app-android| Asia/Jakarta|     ID|        830543|\n",
      "|          bbm2017|          bbm201714|app-android| Asia/Jakarta|     ID|        816970|\n",
      "|              bbm|            Dancing|app-android| Asia/Jakarta|     ID|        816688|\n",
      "|bbmfamilystickers|bbmfamilystickers01|app-android| Asia/Jakarta|     ID|        771097|\n",
      "|          bbm2017|          bbm201711|app-android| Asia/Jakarta|     ID|        757633|\n",
      "|              bbm|             Crying|app-android| Asia/Jakarta|     ID|        682375|\n",
      "|bbmfamilyanimated|bbmfamilyanimated09|app-android| Asia/Jakarta|     ID|        674012|\n",
      "|          bbm2017|          bbm201702|app-android| Asia/Jakarta|     ID|        661287|\n",
      "|bbmfamilyanimated|bbmfamilyanimated14|app-android| Asia/Jakarta|     ID|        632357|\n",
      "|          bbm2017|          bbm201725|app-android| Asia/Jakarta|     ID|        628103|\n",
      "|          bbm2017|          bbm201710|app-android| Asia/Jakarta|     ID|        600003|\n",
      "|              bbm|              Taunt|app-android| Asia/Jakarta|     ID|        590227|\n",
      "|bbmfamilystickers|bbmfamilystickers16|app-android| Asia/Jakarta|     ID|        564642|\n",
      "|          bbm2017|          bbm201707|app-android| Asia/Jakarta|     ID|        529601|\n",
      "|          bbm2017|          bbm201701|app-android| Asia/Jakarta|     ID|        526979|\n",
      "|bbmfamilyanimated|bbmfamilyanimated18|app-android| Asia/Jakarta|     ID|        504352|\n",
      "|          bbm2017|          bbm201712|app-android| Asia/Jakarta|     ID|        490619|\n",
      "|bbmfamilystickers|bbmfamilystickers18|app-android| Asia/Jakarta|     ID|        490392|\n",
      "|bbmfamilyanimated|bbmfamilyanimated19|app-android| Asia/Jakarta|     ID|        487120|\n",
      "|bbmfamilyanimated|bbmfamilyanimated02|app-android| Asia/Jakarta|     ID|        464383|\n",
      "|bbmfamilyanimated|bbmfamilyanimated13|app-android| Asia/Jakarta|     ID|        460601|\n",
      "|bbmfamilystickers|bbmfamilystickers15|app-android| Asia/Jakarta|     ID|        431490|\n",
      "|          bbm2017|          bbm201706|app-android| Asia/Jakarta|     ID|        430754|\n",
      "|          bbm2017|          bbm201726|app-android| Asia/Jakarta|     ID|        429193|\n",
      "|bbmfamilyanimated|bbmfamilyanimated10|app-android| Asia/Jakarta|     ID|        408805|\n",
      "|          bbm2017|          bbm201705|app-android| Asia/Jakarta|     ID|        400978|\n",
      "|bbmfamilyanimated|bbmfamilyanimated01|app-android| Asia/Jakarta|     ID|        381717|\n",
      "|bbmfamilyanimated|bbmfamilyanimated16|app-android| Asia/Jakarta|     ID|        378849|\n",
      "|bbmfamilyanimated|bbmfamilyanimated20|app-android| Asia/Jakarta|     ID|        377780|\n",
      "|bbmfamilyanimated|bbmfamilyanimated17|app-android| Asia/Jakarta|     ID|        371753|\n",
      "|bbmfamilyanimated|bbmfamilyanimated11|app-android| Asia/Jakarta|     ID|        369404|\n",
      "|          bbm2017|          bbm201715|app-android| Asia/Jakarta|     ID|        362317|\n",
      "|bbmfamilystickers|bbmfamilystickers03|app-android| Asia/Jakarta|     ID|        349160|\n",
      "|bbmfamilystickers|bbmfamilystickers08|app-android| Asia/Jakarta|     ID|        346699|\n",
      "|bbmfamilyanimated|bbmfamilyanimated06|app-android| Asia/Jakarta|     ID|        346579|\n",
      "|bbmfamilystickers|bbmfamilystickers11|app-android| Asia/Jakarta|     ID|        336000|\n",
      "|bbmfamilystickers|bbmfamilystickers02|app-android| Asia/Jakarta|     ID|        333407|\n",
      "|              bbm|         LoveStruck|app-android| Asia/Jakarta|     ID|        328244|\n",
      "|              bbm|           ThumbsUp|app-android|Asia/Makassar|     ID|        319370|\n",
      "|bbmfamilyanimated|bbmfamilyanimated15|app-android| Asia/Jakarta|     ID|        302443|\n",
      "|bbmfamilystickers|bbmfamilystickers14|app-android| Asia/Jakarta|     ID|        291230|\n",
      "|bbmfamilyanimated|bbmfamilyanimated03|app-android| Asia/Jakarta|     ID|        289885|\n",
      "|          bbm2017|          bbm201716|app-android| Asia/Jakarta|     ID|        284323|\n",
      "|              bbm|               Yawn|app-android| Asia/Jakarta|     ID|        274656|\n",
      "|          bbm2017|          bbm201719|app-android| Asia/Jakarta|     ID|        271958|\n",
      "|bbmfamilystickers|bbmfamilystickers06|app-android| Asia/Jakarta|     ID|        252277|\n",
      "|bbmfamilystickers|bbmfamilystickers17|app-android| Asia/Jakarta|     ID|        247628|\n",
      "|          bbm2017|          bbm201704|app-android|Asia/Makassar|     ID|        242828|\n",
      "|bbmfamilystickers|bbmfamilystickers13|app-android| Asia/Jakarta|     ID|        241170|\n",
      "|          bbm2017|          bbm201728|app-android| Asia/Jakarta|     ID|        241024|\n",
      "|bbmfamilystickers|bbmfamilystickers10|app-android| Asia/Jakarta|     ID|        233042|\n",
      "|          bbm2017|          bbm201727|app-android| Asia/Jakarta|     ID|        231370|\n",
      "|              bbm|      TalkToTheHand|app-android| Asia/Jakarta|     ID|        231302|\n",
      "|          bbm2017|          bbm201713|app-android|Asia/Makassar|     ID|        229211|\n",
      "|          bbm2017|          bbm201720|app-android| Asia/Jakarta|     ID|        223529|\n",
      "|              bbm|            BigGrin|app-android|Asia/Makassar|     ID|        223074|\n",
      "|              bbm|      SteamFromEars|app-android| Asia/Jakarta|     ID|        220301|\n",
      "|bbmfamilystickers|bbmfamilystickers09|app-android| Asia/Jakarta|     ID|        219751|\n",
      "|              bbm|           Confused|app-android| Asia/Jakarta|     ID|        219450|\n",
      "|          bbm2017|          bbm201709|app-android| Asia/Jakarta|     ID|        212615|\n",
      "|          bbm2017|          bbm201703|app-android|Asia/Makassar|     ID|        209622|\n",
      "|bbmfamilyanimated|bbmfamilyanimated08|app-android|Asia/Makassar|     ID|        208040|\n",
      "|       sibirufree|       sibirufree04|app-android| Asia/Jakarta|     ID|        206257|\n",
      "|bbmfamilyanimated|bbmfamilyanimated04|app-android|Asia/Makassar|     ID|        205593|\n",
      "|bbmfamilyanimated|bbmfamilyanimated12|app-android|Asia/Makassar|     ID|        201920|\n",
      "|          bbm2017|          bbm201723|app-android| Asia/Jakarta|     ID|        201385|\n",
      "|          bbm2017|          bbm201708|app-android|Asia/Makassar|     ID|        194553|\n",
      "|              bbm|                Poo|app-android| Asia/Jakarta|     ID|        194089|\n",
      "|       sweetcandy|       sweetcandy01|app-android| Asia/Jakarta|     ID|        192203|\n",
      "|          bbm2017|          bbm201724|app-android| Asia/Jakarta|     ID|        191577|\n",
      "|bbmfamilyanimated|bbmfamilyanimated07|app-android| Asia/Jakarta|     ID|        189651|\n",
      "|          bbm2017|          bbm201718|app-android| Asia/Jakarta|     ID|        186426|\n",
      "|bbmfamilystickers|bbmfamilystickers05|app-android| Asia/Jakarta|     ID|        184213|\n",
      "|       cutecouple|       cutecouple08|app-android| Asia/Jakarta|     ID|        184115|\n",
      "|              bbm|               Kiss|app-android|Asia/Makassar|     ID|        182054|\n",
      "|bbmfamilystickers|bbmfamilystickers04|app-android| Asia/Jakarta|     ID|        181803|\n",
      "|          bbm2017|          bbm201714|app-android|Asia/Makassar|     ID|        177284|\n",
      "|              bbm|             BigHug|app-android|Asia/Makassar|     ID|        174794|\n",
      "|bbmfamilyanimated|bbmfamilyanimated05|app-android|Asia/Makassar|     ID|        170031|\n",
      "|           pawpaw|               NULL|app-android| Asia/Jakarta|     ID|        165796|\n",
      "|              bbm|      FeelingBeatUp|app-android| Asia/Jakarta|     ID|        157104|\n",
      "|          bbm2017|          bbm201711|app-android|Asia/Makassar|     ID|        156257|\n",
      "|bbmfamilystickers|bbmfamilystickers01|app-android|Asia/Makassar|     ID|        155731|\n",
      "|             bejo|               NULL|app-android| Asia/Jakarta|     ID|        155519|\n",
      "|              bbm|            Dancing|app-android|Asia/Makassar|     ID|        153317|\n",
      "|              bbm|             Puking|app-android| Asia/Jakarta|     ID|        151938|\n",
      "|       emojispack|       emojispack01|app-android| Asia/Jakarta|     ID|        147761|\n",
      "|       emojispack|       emojispack04|app-android| Asia/Jakarta|     ID|        145765|\n",
      "|              bbm|           EpicFail|app-android| Asia/Jakarta|     ID|        144978|\n",
      "+-----------------+-------------------+-----------+-------------+-------+--------------+\n",
      "only showing top 100 rows\n",
      "\n"
     ]
    }
   ],
   "source": [
    "df_new.select('sticker_pack_id','sticker_id','platform','City','Country','user_id_n').groupby('sticker_pack_id','sticker_id','platform','City','Country').agg(countDistinct('user_id_n').alias('distinct users')).sort(col('distinct users').desc()).show(100)\n",
    "# .select(\"page\",\"visitor\").groupBy('page).agg('page, countDistinct('visitor))"
   ]
  },
  {
   "cell_type": "code",
   "execution_count": 25,
   "metadata": {},
   "outputs": [],
   "source": [
    "from pyspark.sql.functions import col\n",
    "\n",
    "active_base  = df_new.alias('a').join(df_demo.alias('b'),col('b.regid') == col('a.user_id_n')).select(col('user_id_n'),col('sticker_pack_id'),col('license_type'))"
   ]
  },
  {
   "cell_type": "code",
   "execution_count": 26,
   "metadata": {},
   "outputs": [],
   "source": [
    "active_base.write.parquet(\"gs://ds-url-catag/temp/\")"
   ]
  },
  {
   "cell_type": "code",
   "execution_count": 27,
   "metadata": {},
   "outputs": [],
   "source": [
    "join_data = sqlContext.read.parquet(\"gs://ds-url-catag/temp/\")"
   ]
  },
  {
   "cell_type": "code",
   "execution_count": 29,
   "metadata": {},
   "outputs": [
    {
     "data": {
      "text/plain": [
       "10211909"
      ]
     },
     "execution_count": 29,
     "metadata": {},
     "output_type": "execute_result"
    }
   ],
   "source": [
    "join_data.select('user_id_n').distinct().count()"
   ]
  },
  {
   "cell_type": "code",
   "execution_count": 30,
   "metadata": {},
   "outputs": [
    {
     "data": {
      "text/plain": [
       "1679"
      ]
     },
     "execution_count": 30,
     "metadata": {},
     "output_type": "execute_result"
    }
   ],
   "source": [
    "join_data.select('sticker_pack_id').distinct().count()"
   ]
  },
  {
   "cell_type": "code",
   "execution_count": 32,
   "metadata": {},
   "outputs": [
    {
     "name": "stdout",
     "output_type": "stream",
     "text": [
      "+------------+----------+\n",
      "|license_type|     count|\n",
      "+------------+----------+\n",
      "|        free|       226|\n",
      "|        NULL|1347772828|\n",
      "+------------+----------+\n",
      "\n"
     ]
    }
   ],
   "source": [
    "join_data.groupby('license_type').count().show()"
   ]
  }
 ],
 "metadata": {
  "kernelspec": {
   "display_name": "PySpark",
   "language": "python",
   "name": "python2"
  },
  "language_info": {
   "codemirror_mode": {
    "name": "ipython",
    "version": 2
   },
   "file_extension": ".py",
   "mimetype": "text/x-python",
   "name": "python",
   "nbconvert_exporter": "python",
   "pygments_lexer": "ipython2",
   "version": "2.7.9"
  }
 },
 "nbformat": 4,
 "nbformat_minor": 2
}

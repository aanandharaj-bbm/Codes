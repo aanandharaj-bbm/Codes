{
 "cells": [
  {
   "cell_type": "code",
   "execution_count": 3,
   "metadata": {},
   "outputs": [
    {
     "name": "stdout",
     "output_type": "stream",
     "text": [
      "438934\n"
     ]
    }
   ],
   "source": [
    "df = spark.read.parquet(\"gs://bbm-labs-ds-news/bbm-news-with-content.parquet\")\n",
    "print df.count()"
   ]
  },
  {
   "cell_type": "code",
   "execution_count": 4,
   "metadata": {},
   "outputs": [
    {
     "name": "stdout",
     "output_type": "stream",
     "text": [
      "CPU times: user 4 ms, sys: 8 ms, total: 12 ms\n",
      "Wall time: 58.7 s\n"
     ]
    }
   ],
   "source": [
    "%%time\n",
    "## Before write the dataframe into cassandra, you have to first create a table with the same schema \n",
    "## ssh to the cassandra instance\n",
    "## First type ```cqlsh```\n",
    "## then type ```use bbmnews;```\n",
    "## then here is an example to create the table \n",
    "##\n",
    "## CREATE TABLE news_input(\n",
    "##   article_id int,\n",
    "##   date text,\n",
    "##   article_url text, \n",
    "##   publisher_name text, \n",
    "##   channel_name text, \n",
    "##   total_views int,\n",
    "##   title text,\n",
    "##   image_caption text,\n",
    "##   content text, \n",
    "##   language text,\n",
    "##   PRIMARY KEY (article_id, date)\n",
    "##);\n",
    "\n",
    "# save whole dataframe into cassandra\n",
    "df.write.format(\"org.apache.spark.sql.cassandra\")\\\n",
    "    .mode('append')\\\n",
    "    .options(table=\"news_input\", keyspace=\"bbmnews\")\\\n",
    "    .save()"
   ]
  },
  {
   "cell_type": "code",
   "execution_count": 5,
   "metadata": {},
   "outputs": [
    {
     "name": "stdout",
     "output_type": "stream",
     "text": [
      "+----------+--------------------+--------------------+------------+--------------------+--------------------+--------+--------------+--------------------+-----------+\n",
      "|article_id|                date|         article_url|channel_name|             content|       image_caption|language|publisher_name|               title|total_views|\n",
      "+----------+--------------------+--------------------+------------+--------------------+--------------------+--------+--------------+--------------------+-----------+\n",
      "|    179343|2017-07-01 00:00:...|https://news.bbme...|        News|\n",
      "Suara.com - Ment...|Menteri Koordinat...|      id|     Suara.com|Bagian dari ISIS,...|          1|\n",
      "|    179343|2017-08-03 00:00:...|https://news.bbme...|        News|\n",
      "Suara.com - Ment...|Menteri Koordinat...|      id|     Suara.com|Bagian dari ISIS,...|          1|\n",
      "|    179343|2017-08-09 00:00:...|https://news.bbme...|        News|\n",
      "Suara.com - Ment...|Menteri Koordinat...|      id|     Suara.com|Bagian dari ISIS,...|         12|\n",
      "|    241316|2017-07-24 00:00:...|https://news.bbme...|        News|\n",
      "\"Setelah izin it...|\n",
      "Muhaimin Sebut P...|      id|      Tempo.co| Jokowi Tak Bisa ...|         38|\n",
      "|    241316|2017-07-25 00:00:...|https://news.bbme...|        News|\n",
      "\"Setelah izin it...|\n",
      "Muhaimin Sebut P...|      id|      Tempo.co| Jokowi Tak Bisa ...|          2|\n",
      "|    276156|2017-08-12 00:00:...|https://news.bbme...|       Sport|Hasil imbang tanp...|Cristian Gonzales...|      id|      Bola.com| Persib Beberkan ...|        132|\n",
      "|    276156|2017-08-13 00:00:...|https://news.bbme...|       Sport|Hasil imbang tanp...|Cristian Gonzales...|      id|      Bola.com| Persib Beberkan ...|        185|\n",
      "|     46152|2017-07-06 00:00:...|https://news.bbme...|     Hiburan|Kapanlagi.com - N...|Titi Rajo Bintang...|      id|     Kapanlagi|Titi Rajo Bintang...|          7|\n",
      "|     46152|2017-07-08 00:00:...|https://news.bbme...|     Hiburan|Kapanlagi.com - N...|Titi Rajo Bintang...|      id|     Kapanlagi|Titi Rajo Bintang...|         15|\n",
      "|     46152|2017-07-09 00:00:...|https://news.bbme...|     Hiburan|Kapanlagi.com - N...|Titi Rajo Bintang...|      id|     Kapanlagi|Titi Rajo Bintang...|         11|\n",
      "|     46152|2017-07-12 00:00:...|https://news.bbme...|     Hiburan|Kapanlagi.com - N...|Titi Rajo Bintang...|      id|     Kapanlagi|Titi Rajo Bintang...|         34|\n",
      "|     46152|2017-07-13 00:00:...|https://news.bbme...|     Hiburan|Kapanlagi.com - N...|Titi Rajo Bintang...|      id|     Kapanlagi|Titi Rajo Bintang...|          7|\n",
      "|     46152|2017-07-14 00:00:...|https://news.bbme...|     Hiburan|Kapanlagi.com - N...|Titi Rajo Bintang...|      id|     Kapanlagi|Titi Rajo Bintang...|         15|\n",
      "|     46152|2017-07-15 00:00:...|https://news.bbme...|     Hiburan|Kapanlagi.com - N...|Titi Rajo Bintang...|      id|     Kapanlagi|Titi Rajo Bintang...|          1|\n",
      "|     46152|2017-07-16 00:00:...|https://news.bbme...|     Hiburan|Kapanlagi.com - N...|Titi Rajo Bintang...|      id|     Kapanlagi|Titi Rajo Bintang...|          8|\n",
      "|     46152|2017-07-17 00:00:...|https://news.bbme...|     Hiburan|Kapanlagi.com - N...|Titi Rajo Bintang...|      id|     Kapanlagi|Titi Rajo Bintang...|          1|\n",
      "|     46152|2017-07-18 00:00:...|https://news.bbme...|     Hiburan|Kapanlagi.com - N...|Titi Rajo Bintang...|      id|     Kapanlagi|Titi Rajo Bintang...|         13|\n",
      "|     46152|2017-07-19 00:00:...|https://news.bbme...|     Hiburan|Kapanlagi.com - N...|Titi Rajo Bintang...|      id|     Kapanlagi|Titi Rajo Bintang...|          1|\n",
      "|     46152|2017-07-20 00:00:...|https://news.bbme...|     Hiburan|Kapanlagi.com - N...|Titi Rajo Bintang...|      id|     Kapanlagi|Titi Rajo Bintang...|          3|\n",
      "|     46152|2017-07-21 00:00:...|https://news.bbme...|     Hiburan|Kapanlagi.com - N...|Titi Rajo Bintang...|      id|     Kapanlagi|Titi Rajo Bintang...|          8|\n",
      "+----------+--------------------+--------------------+------------+--------------------+--------------------+--------+--------------+--------------------+-----------+\n",
      "only showing top 20 rows\n",
      "\n",
      "CPU times: user 4 ms, sys: 0 ns, total: 4 ms\n",
      "Wall time: 485 ms\n"
     ]
    }
   ],
   "source": [
    "%%time\n",
    "# read dataframe from cassandra\n",
    "df_new = spark.read.format(\"org.apache.spark.sql.cassandra\")\\\n",
    "    .options(table=\"news_input\", keyspace=\"bbmnews\")\\\n",
    "    .load()\n",
    "df_new.show()"
   ]
  },
  {
   "cell_type": "code",
   "execution_count": null,
   "metadata": {
    "collapsed": true
   },
   "outputs": [],
   "source": []
  }
 ],
 "metadata": {
  "kernelspec": {
   "display_name": "PySpark",
   "language": "python",
   "name": "python2"
  },
  "language_info": {
   "codemirror_mode": {
    "name": "ipython",
    "version": 2
   },
   "file_extension": ".py",
   "mimetype": "text/x-python",
   "name": "python",
   "nbconvert_exporter": "python",
   "pygments_lexer": "ipython2",
   "version": "2.7.9"
  }
 },
 "nbformat": 4,
 "nbformat_minor": 2
}

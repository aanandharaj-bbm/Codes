{
 "cells": [
  {
   "cell_type": "code",
   "execution_count": null,
   "metadata": {},
   "outputs": [],
   "source": [
    "from pyspark import SparkConf, SparkContext\n",
    "from pyspark.sql.functions import *\n",
    "sc.stop()\n",
    "from pyspark.sql import SQLContext\n",
    "sc =SparkContext()\n",
    "sqlContext = SQLContext(sc)\n",
    "import pyspark.sql.functions as func\n",
    "import sys\n",
    "from pyspark.sql.functions import countDistinct\n",
    "import re\n",
    "from pyspark.sql.types import *"
   ]
  },
  {
   "cell_type": "code",
   "execution_count": null,
   "metadata": {},
   "outputs": [],
   "source": [
    "rdd = sc.textFile(\"gs://ds-url-catag/emails/emails.txt\")\n",
    "temp_var = rdd.map(lambda k: k.split(\" \"))\n",
    "fields = [StructField('emails', StringType(), True)]\n",
    "schema = StructType(fields) \n",
    "final_data = sqlContext.createDataFrame(temp_var, schema) "
   ]
  },
  {
   "cell_type": "code",
   "execution_count": 41,
   "metadata": {},
   "outputs": [],
   "source": [
    "1#Dealing with most of rules in IETF standards\n",
    "def filter_one(email):\n",
    "    indicate = ''\n",
    "    if \"\\\"\" in email:\n",
    "        filtered_email = email\n",
    "    else:\n",
    "        pattern = re.compile(r\"((^[^.][(comment)|a-zA-Z0-9_.!#$%&'*+-/=?^_`{|}~+-.*!.]{0,64})@(([\\[0-9:A-Z\\]]+)|([a-zA-Z0-9-]){0,255})([\\.]{1}[a-zA-Z0-9-.]+)?$)\")\n",
    "        if re.match(pattern,email) is not None:\n",
    "            filtered_email = email\n",
    "        else:\n",
    "            filtered_email = None\n",
    "    return(filtered_email)\n",
    "\n",
    "filter_1 = udf(filter_one, StringType())\n",
    "\n",
    "\n",
    "#dealing with full stops\n",
    "def filter_two(email):\n",
    "    local = ''\n",
    "    domain = ''\n",
    "    indicate = ''\n",
    "    new_email = ''\n",
    "    if email is not None :\n",
    "        splitting = email.split(\"@\")\n",
    "        local = splitting[0]\n",
    "        domain = splitting[1]\n",
    "        pattern_one = re.compile(r\"(^[^.]([(comment)|a-zA-Z0-9_.!#$%&'*+-/=?^_`{|}~+-.*!.]){0,64}[^.])$\")\n",
    "        pattern_two = re.compile(r\"(?<!\\.)\\.\\.(?!\\.)\")\n",
    "        if re.match(pattern_one,local) is not None:\n",
    "            if re.search(pattern_two,local) is None:\n",
    "                if re.search(pattern_two,domain) is None:\n",
    "                    new_email = email\n",
    "                else:\n",
    "                    new_email = None\n",
    "            else:\n",
    "                    new_email = None\n",
    "        else:\n",
    "            new_email = None\n",
    "    else:\n",
    "        new_email = None\n",
    "    return(new_email)\n",
    "\n",
    "filter_2 = udf(filter_two, StringType())\n",
    "\n",
    "\n",
    "\n",
    "formatted_data = final_data.withColumn('Filter_1',filter_1('emails'))\n",
    "formatted_data = formatted_data.withColumn('Filter_2',filter_2('Filter_1'))\n",
    "formatted_data = formatted_data.withColumn('valid_format',regexp_replace(col('Filter_2'),r\"\\(comment\\)\",\"\"))\n",
    "\n",
    "\n",
    "\n"
   ]
  },
  {
   "cell_type": "code",
   "execution_count": 42,
   "metadata": {},
   "outputs": [
    {
     "name": "stdout",
     "output_type": "stream",
     "text": [
      "+--------------------+--------------------+--------------------+--------------------+\n",
      "|              emails|            Filter_1|            Filter_2|        valid_format|\n",
      "+--------------------+--------------------+--------------------+--------------------+\n",
      "| Full123@example.com| Full123@example.com| Full123@example.com| Full123@example.com|\n",
      "| full123@example.com| full123@example.com| full123@example.com| full123@example.com|\n",
      "| full123@example.com| full123@example.com| full123@example.com| full123@example.com|\n",
      "|full@_end@example...|                null|                null|                null|\n",
      "|full1suAoijlknalk...|                null|                null|                null|\n",
      "|full1suAoijlknalk...|full1suAoijlknalk...|full1suAoijlknalk...|full1suAoijlknalk...|\n",
      "|   .full@example.com|                null|                null|                null|\n",
      "|   full.@example.com|   full.@example.com|                null|                null|\n",
      "|(comment)john.smi...|(comment)john.smi...|(comment)john.smi...|john.smith@exampl...|\n",
      "|john.smith(commen...|john.smith(commen...|john.smith(commen...|john.smith@exampl...|\n",
      "|abc.\"defghi\".xyz@...|abc.\"defghi\".xyz@...|                null|                null|\n",
      "|\"john.smith\"@exam...|\"john.smith\"@exam...|\"john.smith\"@exam...|\"john.smith\"@exam...|\n",
      "|prettyandsimple@e...|prettyandsimple@e...|prettyandsimple@e...|prettyandsimple@e...|\n",
      "|very.common@examp...|very.common@examp...|very.common@examp...|very.common@examp...|\n",
      "|disposable.style....|disposable.style....|disposable.style....|disposable.style....|\n",
      "|other.email-with-...|other.email-with-...|other.email-with-...|other.email-with-...|\n",
      "|fully-qualified-d...|fully-qualified-d...|fully-qualified-d...|fully-qualified-d...|\n",
      "|user.name+tag+sor...|user.name+tag+sor...|user.name+tag+sor...|user.name+tag+sor...|\n",
      "|       x@example.com|       x@example.com|                null|                null|\n",
      "|example-indeed@st...|example-indeed@st...|example-indeed@st...|example-indeed@st...|\n",
      "|   admin@mailserver1|   admin@mailserver1|   admin@mailserver1|   admin@mailserver1|\n",
      "|#!$%&'*+-/=?^_`{}...|#!$%&'*+-/=?^_`{}...|#!$%&'*+-/=?^_`{}...|#!$%&'*+-/=?^_`{}...|\n",
      "| example@s.solutions| example@s.solutions| example@s.solutions| example@s.solutions|\n",
      "|    user@localserver|    user@localserver|    user@localserver|    user@localserver|\n",
      "|  user@[2001:DB8::1]|  user@[2001:DB8::1]|  user@[2001:DB8::1]|  user@[2001:DB8::1]|\n",
      "|     Abc.example.com|                null|                null|                null|\n",
      "|   A@b@c@example.com|                null|                null|                null|\n",
      "|john..doe@example...|john..doe@example...|                null|                null|\n",
      "|   example@localhost|   example@localhost|   example@localhost|   example@localhost|\n",
      "|john.doe@example....|john.doe@example....|                null|                null|\n",
      "|                 Duy|                null|                null|                null|\n",
      "+--------------------+--------------------+--------------------+--------------------+\n",
      "\n"
     ]
    }
   ],
   "source": [
    "formatted_data.show(100)"
   ]
  },
  {
   "cell_type": "code",
   "execution_count": 5,
   "metadata": {},
   "outputs": [],
   "source": [
    "valid_emails = formatted_data.select('emails').where(col('valid_format') != 'null')\n",
    "invalid_emails = formatted_data.select('emails').where(col('valid_format').isNull())"
   ]
  },
  {
   "cell_type": "code",
   "execution_count": 6,
   "metadata": {},
   "outputs": [
    {
     "ename": "KeyboardInterrupt",
     "evalue": "",
     "output_type": "error",
     "traceback": [
      "\u001b[0;31m\u001b[0m",
      "\u001b[0;31mKeyboardInterrupt\u001b[0mTraceback (most recent call last)",
      "\u001b[0;32m<ipython-input-6-3f670460abc1>\u001b[0m in \u001b[0;36m<module>\u001b[0;34m()\u001b[0m\n\u001b[1;32m      1\u001b[0m \u001b[0;31m#writing to files\u001b[0m\u001b[0;34m\u001b[0m\u001b[0;34m\u001b[0m\u001b[0m\n\u001b[0;32m----> 2\u001b[0;31m \u001b[0mvalid_emails\u001b[0m\u001b[0;34m.\u001b[0m\u001b[0mcoalesce\u001b[0m\u001b[0;34m(\u001b[0m\u001b[0;36m1\u001b[0m\u001b[0;34m)\u001b[0m\u001b[0;34m.\u001b[0m\u001b[0mwrite\u001b[0m\u001b[0;34m.\u001b[0m\u001b[0mmode\u001b[0m\u001b[0;34m(\u001b[0m\u001b[0;34m'overwrite'\u001b[0m\u001b[0;34m)\u001b[0m\u001b[0;34m.\u001b[0m\u001b[0mformat\u001b[0m\u001b[0;34m(\u001b[0m\u001b[0;34m\"com.databricks.spark.csv\"\u001b[0m\u001b[0;34m)\u001b[0m\u001b[0;34m.\u001b[0m\u001b[0msave\u001b[0m\u001b[0;34m(\u001b[0m\u001b[0;34m\"gs://ds-url-catag/emails_formats/valid_emails/\"\u001b[0m\u001b[0;34m)\u001b[0m\u001b[0;34m\u001b[0m\u001b[0m\n\u001b[0m",
      "\u001b[0;32m/usr/lib/spark/python/pyspark/sql/readwriter.pyc\u001b[0m in \u001b[0;36msave\u001b[0;34m(self, path, format, mode, partitionBy, **options)\u001b[0m\n\u001b[1;32m    593\u001b[0m             \u001b[0mself\u001b[0m\u001b[0;34m.\u001b[0m\u001b[0m_jwrite\u001b[0m\u001b[0;34m.\u001b[0m\u001b[0msave\u001b[0m\u001b[0;34m(\u001b[0m\u001b[0;34m)\u001b[0m\u001b[0;34m\u001b[0m\u001b[0m\n\u001b[1;32m    594\u001b[0m         \u001b[0;32melse\u001b[0m\u001b[0;34m:\u001b[0m\u001b[0;34m\u001b[0m\u001b[0m\n\u001b[0;32m--> 595\u001b[0;31m             \u001b[0mself\u001b[0m\u001b[0;34m.\u001b[0m\u001b[0m_jwrite\u001b[0m\u001b[0;34m.\u001b[0m\u001b[0msave\u001b[0m\u001b[0;34m(\u001b[0m\u001b[0mpath\u001b[0m\u001b[0;34m)\u001b[0m\u001b[0;34m\u001b[0m\u001b[0m\n\u001b[0m\u001b[1;32m    596\u001b[0m \u001b[0;34m\u001b[0m\u001b[0m\n\u001b[1;32m    597\u001b[0m     \u001b[0;34m@\u001b[0m\u001b[0msince\u001b[0m\u001b[0;34m(\u001b[0m\u001b[0;36m1.4\u001b[0m\u001b[0;34m)\u001b[0m\u001b[0;34m\u001b[0m\u001b[0m\n",
      "\u001b[0;32m/usr/lib/spark/python/lib/py4j-0.10.4-src.zip/py4j/java_gateway.py\u001b[0m in \u001b[0;36m__call__\u001b[0;34m(self, *args)\u001b[0m\n\u001b[1;32m   1129\u001b[0m             \u001b[0mproto\u001b[0m\u001b[0;34m.\u001b[0m\u001b[0mEND_COMMAND_PART\u001b[0m\u001b[0;34m\u001b[0m\u001b[0m\n\u001b[1;32m   1130\u001b[0m \u001b[0;34m\u001b[0m\u001b[0m\n\u001b[0;32m-> 1131\u001b[0;31m         \u001b[0manswer\u001b[0m \u001b[0;34m=\u001b[0m \u001b[0mself\u001b[0m\u001b[0;34m.\u001b[0m\u001b[0mgateway_client\u001b[0m\u001b[0;34m.\u001b[0m\u001b[0msend_command\u001b[0m\u001b[0;34m(\u001b[0m\u001b[0mcommand\u001b[0m\u001b[0;34m)\u001b[0m\u001b[0;34m\u001b[0m\u001b[0m\n\u001b[0m\u001b[1;32m   1132\u001b[0m         return_value = get_return_value(\n\u001b[1;32m   1133\u001b[0m             answer, self.gateway_client, self.target_id, self.name)\n",
      "\u001b[0;32m/usr/lib/spark/python/lib/py4j-0.10.4-src.zip/py4j/java_gateway.py\u001b[0m in \u001b[0;36msend_command\u001b[0;34m(self, command, retry, binary)\u001b[0m\n\u001b[1;32m    881\u001b[0m         \u001b[0mconnection\u001b[0m \u001b[0;34m=\u001b[0m \u001b[0mself\u001b[0m\u001b[0;34m.\u001b[0m\u001b[0m_get_connection\u001b[0m\u001b[0;34m(\u001b[0m\u001b[0;34m)\u001b[0m\u001b[0;34m\u001b[0m\u001b[0m\n\u001b[1;32m    882\u001b[0m         \u001b[0;32mtry\u001b[0m\u001b[0;34m:\u001b[0m\u001b[0;34m\u001b[0m\u001b[0m\n\u001b[0;32m--> 883\u001b[0;31m             \u001b[0mresponse\u001b[0m \u001b[0;34m=\u001b[0m \u001b[0mconnection\u001b[0m\u001b[0;34m.\u001b[0m\u001b[0msend_command\u001b[0m\u001b[0;34m(\u001b[0m\u001b[0mcommand\u001b[0m\u001b[0;34m)\u001b[0m\u001b[0;34m\u001b[0m\u001b[0m\n\u001b[0m\u001b[1;32m    884\u001b[0m             \u001b[0;32mif\u001b[0m \u001b[0mbinary\u001b[0m\u001b[0;34m:\u001b[0m\u001b[0;34m\u001b[0m\u001b[0m\n\u001b[1;32m    885\u001b[0m                 \u001b[0;32mreturn\u001b[0m \u001b[0mresponse\u001b[0m\u001b[0;34m,\u001b[0m \u001b[0mself\u001b[0m\u001b[0;34m.\u001b[0m\u001b[0m_create_connection_guard\u001b[0m\u001b[0;34m(\u001b[0m\u001b[0mconnection\u001b[0m\u001b[0;34m)\u001b[0m\u001b[0;34m\u001b[0m\u001b[0m\n",
      "\u001b[0;32m/usr/lib/spark/python/lib/py4j-0.10.4-src.zip/py4j/java_gateway.py\u001b[0m in \u001b[0;36msend_command\u001b[0;34m(self, command)\u001b[0m\n\u001b[1;32m   1026\u001b[0m \u001b[0;34m\u001b[0m\u001b[0m\n\u001b[1;32m   1027\u001b[0m         \u001b[0;32mtry\u001b[0m\u001b[0;34m:\u001b[0m\u001b[0;34m\u001b[0m\u001b[0m\n\u001b[0;32m-> 1028\u001b[0;31m             \u001b[0manswer\u001b[0m \u001b[0;34m=\u001b[0m \u001b[0msmart_decode\u001b[0m\u001b[0;34m(\u001b[0m\u001b[0mself\u001b[0m\u001b[0;34m.\u001b[0m\u001b[0mstream\u001b[0m\u001b[0;34m.\u001b[0m\u001b[0mreadline\u001b[0m\u001b[0;34m(\u001b[0m\u001b[0;34m)\u001b[0m\u001b[0;34m[\u001b[0m\u001b[0;34m:\u001b[0m\u001b[0;34m-\u001b[0m\u001b[0;36m1\u001b[0m\u001b[0;34m]\u001b[0m\u001b[0;34m)\u001b[0m\u001b[0;34m\u001b[0m\u001b[0m\n\u001b[0m\u001b[1;32m   1029\u001b[0m             \u001b[0mlogger\u001b[0m\u001b[0;34m.\u001b[0m\u001b[0mdebug\u001b[0m\u001b[0;34m(\u001b[0m\u001b[0;34m\"Answer received: {0}\"\u001b[0m\u001b[0;34m.\u001b[0m\u001b[0mformat\u001b[0m\u001b[0;34m(\u001b[0m\u001b[0manswer\u001b[0m\u001b[0;34m)\u001b[0m\u001b[0;34m)\u001b[0m\u001b[0;34m\u001b[0m\u001b[0m\n\u001b[1;32m   1030\u001b[0m             \u001b[0;32mif\u001b[0m \u001b[0manswer\u001b[0m\u001b[0;34m.\u001b[0m\u001b[0mstartswith\u001b[0m\u001b[0;34m(\u001b[0m\u001b[0mproto\u001b[0m\u001b[0;34m.\u001b[0m\u001b[0mRETURN_MESSAGE\u001b[0m\u001b[0;34m)\u001b[0m\u001b[0;34m:\u001b[0m\u001b[0;34m\u001b[0m\u001b[0m\n",
      "\u001b[0;32m/usr/lib/python2.7/socket.pyc\u001b[0m in \u001b[0;36mreadline\u001b[0;34m(self, size)\u001b[0m\n\u001b[1;32m    445\u001b[0m             \u001b[0;32mwhile\u001b[0m \u001b[0mTrue\u001b[0m\u001b[0;34m:\u001b[0m\u001b[0;34m\u001b[0m\u001b[0m\n\u001b[1;32m    446\u001b[0m                 \u001b[0;32mtry\u001b[0m\u001b[0;34m:\u001b[0m\u001b[0;34m\u001b[0m\u001b[0m\n\u001b[0;32m--> 447\u001b[0;31m                     \u001b[0mdata\u001b[0m \u001b[0;34m=\u001b[0m \u001b[0mself\u001b[0m\u001b[0;34m.\u001b[0m\u001b[0m_sock\u001b[0m\u001b[0;34m.\u001b[0m\u001b[0mrecv\u001b[0m\u001b[0;34m(\u001b[0m\u001b[0mself\u001b[0m\u001b[0;34m.\u001b[0m\u001b[0m_rbufsize\u001b[0m\u001b[0;34m)\u001b[0m\u001b[0;34m\u001b[0m\u001b[0m\n\u001b[0m\u001b[1;32m    448\u001b[0m                 \u001b[0;32mexcept\u001b[0m \u001b[0merror\u001b[0m\u001b[0;34m,\u001b[0m \u001b[0me\u001b[0m\u001b[0;34m:\u001b[0m\u001b[0;34m\u001b[0m\u001b[0m\n\u001b[1;32m    449\u001b[0m                     \u001b[0;32mif\u001b[0m \u001b[0me\u001b[0m\u001b[0;34m.\u001b[0m\u001b[0margs\u001b[0m\u001b[0;34m[\u001b[0m\u001b[0;36m0\u001b[0m\u001b[0;34m]\u001b[0m \u001b[0;34m==\u001b[0m \u001b[0mEINTR\u001b[0m\u001b[0;34m:\u001b[0m\u001b[0;34m\u001b[0m\u001b[0m\n",
      "\u001b[0;31mKeyboardInterrupt\u001b[0m: "
     ]
    }
   ],
   "source": [
    "#writing to files\n",
    "valid_emails.coalesce(1).write.mode('overwrite').format(\"com.databricks.spark.csv\").save(\"gs://ds-url-catag/emails_formats/valid_emails/\")"
   ]
  },
  {
   "cell_type": "code",
   "execution_count": null,
   "metadata": {},
   "outputs": [],
   "source": []
  }
 ],
 "metadata": {
  "kernelspec": {
   "display_name": "PySpark",
   "language": "python",
   "name": "python2"
  },
  "language_info": {
   "codemirror_mode": {
    "name": "ipython",
    "version": 2
   },
   "file_extension": ".py",
   "mimetype": "text/x-python",
   "name": "python",
   "nbconvert_exporter": "python",
   "pygments_lexer": "ipython2",
   "version": "2.7.9"
  }
 },
 "nbformat": 4,
 "nbformat_minor": 2
}

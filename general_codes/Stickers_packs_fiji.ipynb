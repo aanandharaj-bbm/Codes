{
 "cells": [
  {
   "cell_type": "code",
   "execution_count": 69,
   "metadata": {},
   "outputs": [],
   "source": [
    "from pyspark import SparkConf, SparkContext\n",
    "from pyspark.sql.functions import *\n",
    "sc.stop()\n",
    "from pyspark.sql import SQLContext\n",
    "sc =SparkContext()\n",
    "sqlContext = SQLContext(sc)\n",
    "import pyspark.sql.functions as func\n",
    "import sys\n",
    "from pyspark.sql.functions import countDistinct"
   ]
  },
  {
   "cell_type": "code",
   "execution_count": 128,
   "metadata": {},
   "outputs": [],
   "source": [
    "df_free = sc.textFile(\"gs://ds-url-catag/sticker_data_tempfiles/Sticker_free.csv\") \\\n",
    "    .map(lambda line: line.split(\";\")).toDF(['Sticker_id', 'sticker_name', 'license_type'])\n",
    "    \n",
    "df_paid = sc.textFile(\"gs://ds-url-catag/sticker_data_tempfiles/Stickers_paid.csv\") \\\n",
    "    .map(lambda line: line.split(\";\")).toDF(['Sticker_id', 'sticker_name', 'license_type'])\n",
    "    \n",
    "df_all = sc.textFile(\"gs://ds-url-catag/sticker_data_tempfiles/all_stickers.csv\") \\\n",
    "    .map(lambda line: line.split(\";\")).toDF(['Sticker_id', 'sticker_name', 'license_type'])"
   ]
  },
  {
   "cell_type": "code",
   "execution_count": 129,
   "metadata": {},
   "outputs": [],
   "source": [
    "df_new = df_free.union(df_paid)"
   ]
  },
  {
   "cell_type": "code",
   "execution_count": 130,
   "metadata": {},
   "outputs": [
    {
     "data": {
      "text/plain": [
       "80"
      ]
     },
     "execution_count": 130,
     "metadata": {},
     "output_type": "execute_result"
    }
   ],
   "source": [
    "df_new.count()"
   ]
  },
  {
   "cell_type": "code",
   "execution_count": 135,
   "metadata": {},
   "outputs": [],
   "source": [
    "df_all = df_all.alias('a').join(df_new,df_new.Sticker_id == df_all.Sticker_id ).select([df_all.Sticker_id])"
   ]
  },
  {
   "cell_type": "code",
   "execution_count": 136,
   "metadata": {},
   "outputs": [
    {
     "data": {
      "text/plain": [
       "39"
      ]
     },
     "execution_count": 136,
     "metadata": {},
     "output_type": "execute_result"
    }
   ],
   "source": [
    "df_all.count()"
   ]
  },
  {
   "cell_type": "code",
   "execution_count": 142,
   "metadata": {},
   "outputs": [
    {
     "name": "stdout",
     "output_type": "stream",
     "text": [
      "+--------------------+--------------------+------------+\n",
      "|          Sticker_id|        sticker_name|license_type|\n",
      "+--------------------+--------------------+------------+\n",
      "|          ahoyangkat|   Ahoy Angkat Beban|SUBSCRIPTION|\n",
      "|              badboy|              BADBOY|        FREE|\n",
      "|          bancisuper|      Banci kw Super|SUBSCRIPTION|\n",
      "|    bawangmerahputih|Bawang Merah dan ...|        FREE|\n",
      "|        bbmhalloween|           Halloween|        FREE|\n",
      "|        bbmhappiness|BBM Happy Collection|        FREE|\n",
      "|         beardieboys|    The Beardie Boys|        FREE|\n",
      "|                bejo|                BEJO|        FREE|\n",
      "|              bertha|Basic Babbling Be...|        FREE|\n",
      "|            bobobaby|                    |        FREE|\n",
      "|          boboloween|          BOBOLOWEEN|        FREE|\n",
      "|          boboninjas|          BOBO NINJA|        FREE|\n",
      "|          bonekajari|         Boneka Jari|SUBSCRIPTION|\n",
      "|  candyshoppingspree|Candy Shopping Spree|        FREE|\n",
      "|             ceblong|             Ceblong|        FREE|\n",
      "|         ceritacinta|Cerita cinta Idul...|SUBSCRIPTION|\n",
      "|           chibylily|          Chiby Lily|        FREE|\n",
      "|     clubramadanindo|Ramadan in Indonesia|SUBSCRIPTION|\n",
      "|           dalamkata|Sticker Club: Ram...|SUBSCRIPTION|\n",
      "|         draculaalay|        Dracula Alay|        FREE|\n",
      "|           dunialoli|          Dunia Loli|        FREE|\n",
      "|           eggtastic|      Eggstatic Pack|SUBSCRIPTION|\n",
      "|     ekspresimelehoy|    Ekspresi Melehoy|SUBSCRIPTION|\n",
      "|               emoji|    Cute Expressions|SUBSCRIPTION|\n",
      "|                endo|                Endo|SUBSCRIPTION|\n",
      "|                flip|                Flip|        FREE|\n",
      "|         garudamerah|  Garuda Merah Putih|SUBSCRIPTION|\n",
      "|         giboltimnas|    Gibol Timnas Day|        FREE|\n",
      "|             grimboy|         Lil Grimboy|SUBSCRIPTION|\n",
      "|   halloweenstickers|           Halloween|        FREE|\n",
      "|           iamzombie|         I am Zombie|SUBSCRIPTION|\n",
      "|            icecream|           Ice Cream|        FREE|\n",
      "|     itstartswithyou|  It Starts With You|        FREE|\n",
      "|            juminten|       Juminten Imut|SUBSCRIPTION|\n",
      "|               kfood|Enjoy Together K-...|        FREE|\n",
      "|           kokodalam|Si Koko Dalam Keh...|SUBSCRIPTION|\n",
      "|        lagilagigila|      Lagi Lagi Gila|        FREE|\n",
      "|       letsgetmoving|    Let's Get Moving|        FREE|\n",
      "|           littlefox|          Little fox|SUBSCRIPTION|\n",
      "|            mangasep|           Mang Asep|SUBSCRIPTION|\n",
      "|          mataboncel|         Mata Boncel|        FREE|\n",
      "|          metalyusap|         Yusap Metal|SUBSCRIPTION|\n",
      "|               michi|          Cute Michi|SUBSCRIPTION|\n",
      "|            mimigirl|          Mimi Girl |        FREE|\n",
      "|           missolith|          Miss Olith|SUBSCRIPTION|\n",
      "|        momentumkata|Momentum kata Idu...|SUBSCRIPTION|\n",
      "|            moodgirl|Mood Girl Kiky Ca...|SUBSCRIPTION|\n",
      "|   motivationmondays|  Motivation Mondays|        FREE|\n",
      "|            mrshaggy|Mr. Shaggy - Work...|SUBSCRIPTION|\n",
      "|           nerdybear|          Nerdy Bear|        FREE|\n",
      "|            ningnong|Ningnong the Cute...|        FREE|\n",
      "|         oborsokgaul|       Obor sok gaul|        FREE|\n",
      "|             olypack|Olympic Sticker Pack|SUBSCRIPTION|\n",
      "|             omipong|            Om Ipong|SUBSCRIPTION|\n",
      "|             oppadan|      Oppa dan Noona|SUBSCRIPTION|\n",
      "|      otherwaystosay|   Other Ways to Say|        FREE|\n",
      "|            pinkitty|       Pinkitty-Chan|SUBSCRIPTION|\n",
      "|             pumpkin|             Pumpkin|        FREE|\n",
      "|       putridanputra|     Putri Dan Putra|SUBSCRIPTION|\n",
      "|             racheal|    Hi, I'm Racheal!|        FREE|\n",
      "|        rockytherawk|      Rocky the Rawk|SUBSCRIPTION|\n",
      "|           roundmons|           Roundmons|        FREE|\n",
      "|              satpam|     Satpam kompleks|SUBSCRIPTION|\n",
      "|          scmarhaban|Sticker Club: Mar...|SUBSCRIPTION|\n",
      "|  sinetronanakmasjid|Sinetron Anak Masjid|        FREE|\n",
      "|         sinetrondia|        Sinetron Dia|        FREE|\n",
      "|       sinetrontuhan|Sinetron Tuhan Ad...|        FREE|\n",
      "|              sionye|             Si Onye|        FREE|\n",
      "|             siucing|            Cute Cat|SUBSCRIPTION|\n",
      "|          slangwords|         SLANG WORDS|        FREE|\n",
      "|spooktastichalloween|Spooktastic Hallo...|        FREE|\n",
      "|              tabull|     Si Abang Tabull|SUBSCRIPTION|\n",
      "|             theboys|            The Boys|SUBSCRIPTION|\n",
      "|           timinmika|         Timi & Mika|SUBSCRIPTION|\n",
      "|           tomtomdan|    Tomtom dan Ninum|SUBSCRIPTION|\n",
      "|              ugoeks|        Ekspresi Ugo|SUBSCRIPTION|\n",
      "|             utomosi|  Utomo Si Anak Desa|SUBSCRIPTION|\n",
      "|         velothebird|          Moody Bird|SUBSCRIPTION|\n",
      "|       weekendfiesta|      Weekend Fiesta|        FREE|\n",
      "|        yangkaryawan| Yang Karyawan Labil|SUBSCRIPTION|\n",
      "+--------------------+--------------------+------------+\n",
      "\n"
     ]
    }
   ],
   "source": [
    "df_new.sort(df_new.Sticker_id).show(80)"
   ]
  },
  {
   "cell_type": "code",
   "execution_count": null,
   "metadata": {},
   "outputs": [],
   "source": []
  }
 ],
 "metadata": {
  "kernelspec": {
   "display_name": "PySpark",
   "language": "python",
   "name": "python2"
  },
  "language_info": {
   "codemirror_mode": {
    "name": "ipython",
    "version": 2
   },
   "file_extension": ".py",
   "mimetype": "text/x-python",
   "name": "python",
   "nbconvert_exporter": "python",
   "pygments_lexer": "ipython2",
   "version": "2.7.9"
  }
 },
 "nbformat": 4,
 "nbformat_minor": 2
}
